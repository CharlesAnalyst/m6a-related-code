{
 "cells": [
  {
   "cell_type": "code",
   "execution_count": 7,
   "metadata": {},
   "outputs": [],
   "source": [
    "import os\n",
    "import glob\n",
    "\n",
    "def add_single_quote(in_list):\n",
    "    return [\"'%s'\" % x for x in in_list]\n",
    "    \n",
    "os.chdir(\"/Data_Resource/m6A-seq/com_fetus_vs_adult\")\n",
    "for tissue in [os.path.basename(x) for x in glob.glob(\"adult_data/*\")]:\n",
    "    with open(\"%s-exomePeak.R\" % tissue, 'w') as fw:\n",
    "        fw.write('library(exomePeak)\\nsetwd(\"/Data_Resource/m6A-seq/com_fetus_vs_adult\")\\n')\n",
    "        fetus_ip_bams = add_single_quote(sorted(glob.glob(\"fetal_data/%s/ip/*.bam\" % tissue)))\n",
    "        fetus_input_bams = add_single_quote(sorted(glob.glob(\"fetal_data/%s/input/*.bam\" % tissue)))\n",
    "        adult_ip_bams = add_single_quote(sorted(glob.glob(\"adult_data/%s/ip/*.bam\" % tissue)))\n",
    "        adult_input_bams = add_single_quote(sorted(glob.glob(\"adult_data/%s/input/*.bam\" % tissue)))\n",
    "        fw.write(\"IP_BAM=c(%s)\\n\" % \",\".join(fetus_ip_bams))\n",
    "        fw.write(\"INPUT_BAM=c(%s)\\n\" % \",\".join(fetus_input_bams))\n",
    "        fw.write(\"TREATED_IP_BAM=c(%s)\\n\" % \",\".join(adult_ip_bams))\n",
    "        fw.write(\"TREATED_INPUT_BAM=c(%s)\\n\" % \",\".join(adult_input_bams))\n",
    "        fw.write('exomepeak(GENOME=\"hg19\", IP_BAM=IP_BAM, INPUT_BAM=INPUT_BAM, TREATED_IP_BAM=TREATED_IP_BAM, TREATED_INPUT_BAM=TREATED_INPUT_BAM, EXPERIMENT_NAME=\"%s\")' % tissue)"
   ]
  }
 ],
 "metadata": {
  "kernelspec": {
   "display_name": "Python 3",
   "language": "python",
   "name": "python3"
  },
  "language_info": {
   "codemirror_mode": {
    "name": "ipython",
    "version": 3
   },
   "file_extension": ".py",
   "mimetype": "text/x-python",
   "name": "python",
   "nbconvert_exporter": "python",
   "pygments_lexer": "ipython3",
   "version": "3.7.2"
  }
 },
 "nbformat": 4,
 "nbformat_minor": 2
}
