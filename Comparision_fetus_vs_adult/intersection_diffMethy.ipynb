{
 "cells": [
  {
   "cell_type": "code",
   "execution_count": 10,
   "metadata": {},
   "outputs": [],
   "source": [
    "def bed12tobed6(tissue, radar_result):\n",
    "    df = pd.read_table(radar_result, index_col=0)\n",
    "    selected_cols = df.columns[:-2]\n",
    "    df_up = df[df['logFC']>0][selected_cols]\n",
    "    df_down = df[df['logFC']<0][selected_cols]\n",
    "    df_up.to_csv(\"%s_diffUp.bed12\"%tissue, sep=\"\\t\", index=False, header=False)\n",
    "    df_down.to_csv(\"%s_diffDown.bed12\"%tissue, sep=\"\\t\", index=False, header=False)\n",
    "    os.system(\"bed12ToBed6 -i %s_diffUp.bed12 > %s_diffUp.bed6\" % (tissue, tissue))\n",
    "    os.system(\"bed12ToBed6 -i %s_diffDown.bed12 > %s_diffDown.bed6\" % (tissue, tissue))\n",
    "    \n",
    "def intersect_with_others(tissue):\n",
    "    metdiff=\"/Data_Resource/m6A-seq/com_fetus_vs_adult/diff_methylation/overlap_exomePeak-MeTDiff/mainCaller_MeTDiff/\"\n",
    "    metdiff_bed = os.path.join(metdiff, \"%s_diff.bed6\" % tissue)\n",
    "    radar_up, radar_down = \"%s_diffUp.bed6\" % tissue, \"%s_diffDown.bed6\" % tissue\n",
    "    result_up,result_down=os.path.join(result_dir,\"%s_diffUp.bed\"%tissue),os.path.join(result_dir,\"%s_diffDown.bed\" % tissue)\n",
    "    os.system(\"bedtools intersect -a %s -b %s -wa|sort -k1,1 -k2,2n|mergeBed -i ->%s\"%(radar_up,metdiff_bed,result_up))\n",
    "    os.system(\"bedtools intersect -a %s -b %s -wa|sort -k1,1 -k2,2n|mergeBed -i ->%s\"%(radar_down,metdiff_bed,result_down))"
   ]
  },
  {
   "cell_type": "code",
   "execution_count": 11,
   "metadata": {},
   "outputs": [
    {
     "name": "stdout",
     "output_type": "stream",
     "text": [
      "brain\n",
      "heart\n",
      "liver\n",
      "lung\n",
      "stomach\n"
     ]
    }
   ],
   "source": [
    "result_dir = \"/Data_Resource/m6A-seq/com_fetus_vs_adult/diff_methylation/RADAR_result/overlap_with_MeTDiff/\"\n",
    "base_dir = \"/Data_Resource/m6A-seq/com_fetus_vs_adult/diff_methylation/RADAR_result/\"\n",
    "for tissue in [\"brain\", 'heart', 'liver', 'lung', 'stomach']:\n",
    "    #tissue = \"brain\"\n",
    "    print(tissue)\n",
    "    work_dir = os.path.join(base_dir, tissue)\n",
    "    os.chdir(work_dir)\n",
    "\n",
    "    bed12tobed6(tissue, \"%s_result.txt\" % tissue)\n",
    "    intersect_with_others(tissue)"
   ]
  },
  {
   "cell_type": "code",
   "execution_count": null,
   "metadata": {},
   "outputs": [],
   "source": []
  }
 ],
 "metadata": {
  "kernelspec": {
   "display_name": "Python 3",
   "language": "python",
   "name": "python3"
  },
  "language_info": {
   "codemirror_mode": {
    "name": "ipython",
    "version": 3
   },
   "file_extension": ".py",
   "mimetype": "text/x-python",
   "name": "python",
   "nbconvert_exporter": "python",
   "pygments_lexer": "ipython3",
   "version": "3.7.2"
  }
 },
 "nbformat": 4,
 "nbformat_minor": 2
}
