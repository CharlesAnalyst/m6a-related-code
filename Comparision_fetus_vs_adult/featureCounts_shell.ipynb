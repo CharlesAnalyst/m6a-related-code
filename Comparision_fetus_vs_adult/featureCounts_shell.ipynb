{
 "cells": [
  {
   "cell_type": "code",
   "execution_count": null,
   "metadata": {},
   "outputs": [],
   "source": [
    "import os\n",
    "import glob\n",
    "\n",
    "os.chdir(\"/data6/m6AQTL/data\")\n",
    "\n",
    "command_list = []\n",
    "fetal_dir, adult_dir = \"fetal_data\", \"adult_data\"\n",
    "tissue_list = [x.split(os.sep)[-1] for x in glob.glob(\"%s/*\" % fetal_dir)]\n",
    "for tissue in tissue_list:\n",
    "    prefix=\"featureCounts -p -T 20 -s 0 -a hg19_only_22/hg19_only22.gtf -o diff_expression/%s-GeneCounts.txt\"%tissue\n",
    "    fetal_bams = \" \".join(sorted(glob.glob(\"fetal_data/%s/input/*.bam\" % tissue)))\n",
    "    adult_bams = \" \".join(sorted(glob.glob(\"adult_data/%s/input/*.bam\" % tissue)))\n",
    "    command = \"%s %s %s\" % (prefix, fetal_bams, adult_bams)\n",
    "    command_list.append(command)\n",
    "#     print(command)\n",
    "with open(\"featureCounts.sh\", 'w') as fw:\n",
    "    fw.writelines([(x+\"\\n\") for x in command_list])"
   ]
  }
 ],
 "metadata": {
  "kernelspec": {
   "display_name": "Python 3",
   "language": "python",
   "name": "python3"
  },
  "language_info": {
   "codemirror_mode": {
    "name": "ipython",
    "version": 3
   },
   "file_extension": ".py",
   "mimetype": "text/x-python",
   "name": "python",
   "nbconvert_exporter": "python",
   "pygments_lexer": "ipython3",
   "version": "3.7.2"
  }
 },
 "nbformat": 4,
 "nbformat_minor": 2
}
