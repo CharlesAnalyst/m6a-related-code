{
 "cells": [
  {
   "cell_type": "code",
   "execution_count": 4,
   "metadata": {},
   "outputs": [],
   "source": [
    "import os\n",
    "import glob\n",
    "import numpy as np"
   ]
  },
  {
   "cell_type": "markdown",
   "metadata": {},
   "source": [
    "#### count reads number "
   ]
  },
  {
   "cell_type": "code",
   "execution_count": null,
   "metadata": {},
   "outputs": [],
   "source": [
    "nohup bedtools multicov \\\n",
    "-bams /Data_Resource/m6A-seq/com_fetus_vs_adult/gvcf/adult_data/ip/CRR042308/CRR042308-uniq.bam \\\n",
    "-bams /Data_Resource/m6A-seq/com_fetus_vs_adult/gvcf/adult_data/ip/CRR042306/CRR042306-uniq.bam \\\n",
    "-bams /Data_Resource/m6A-seq/com_fetus_vs_adult/gvcf/adult_data/input/CRR042309/CRR042309-uniq.bam \\\n",
    "-bams /Data_Resource/m6A-seq/com_fetus_vs_adult/gvcf/adult_data/input/CRR042307/CRR042307-uniq.bam \\\n",
    "-bed right_region_100bp.bed > stomach_right.count &"
   ]
  },
  {
   "cell_type": "code",
   "execution_count": 2,
   "metadata": {},
   "outputs": [
    {
     "name": "stdout",
     "output_type": "stream",
     "text": [
      "['brain', 'lung', 'stomach', 'heart', 'liver']\n"
     ]
    }
   ],
   "source": [
    "os.chdir(\"/Data_Resource/m6A-seq/com_fetus_vs_adult/m6A_abundance/peaks/hg19_TSS/bamCov/adult\")\n",
    "count_list = glob.glob(\"*.count\")\n",
    "tissue_list = list(set([x.split(\"_\")[0] for x in count_list]))\n",
    "print(tissue_list)"
   ]
  },
  {
   "cell_type": "code",
   "execution_count": 3,
   "metadata": {},
   "outputs": [],
   "source": [
    "tss_dict = {}\n",
    "with open(\"contain_a_TSS.bed\", 'r') as f:\n",
    "    contents = f.readlines()\n",
    "    for i in range(len(contents)):\n",
    "        tss_dict[i] = contents[i].strip()"
   ]
  },
  {
   "cell_type": "code",
   "execution_count": 5,
   "metadata": {},
   "outputs": [
    {
     "name": "stdout",
     "output_type": "stream",
     "text": [
      "brain\n",
      "lung\n",
      "stomach\n",
      "heart\n",
      "liver\n"
     ]
    }
   ],
   "source": [
    "def select_tss(in_file):\n",
    "    row_nums = []\n",
    "    with open(in_file, 'r') as f:\n",
    "        lines = f.readlines()\n",
    "        for i in range(len(lines)):\n",
    "            num_list = [int(x) for x in lines[i].strip().split(\"\\t\")[6:]]\n",
    "            edge_index = int(len(num_list)/2)\n",
    "            num_ip = len([x for x in num_list[:edge_index] if x >= 5])\n",
    "            num_input = len([x for x in num_list[edge_index:] if x >= 5])\n",
    "            if (num_ip >= np.ceil(edge_index/2)) and (num_input >= np.ceil(edge_index/2)):\n",
    "                row_nums.append(i)\n",
    "    return row_nums\n",
    "\n",
    "for tissue in tissue_list:\n",
    "    print(tissue)\n",
    "    left_count, right_count = \"%s_left.count\" % tissue, \"%s_right.count\" % tissue\n",
    "    left_nums, right_nums = select_tss(left_count), select_tss(right_count)\n",
    "    total_nums = list(set(left_nums + right_nums))\n",
    "    with open(\"%s_selected_TSS.bed\" % tissue, 'w') as fw:\n",
    "        for x in total_nums:\n",
    "            fw.write(tss_dict[x] + \"\\n\")"
   ]
  },
  {
   "cell_type": "code",
   "execution_count": 6,
   "metadata": {},
   "outputs": [],
   "source": [
    "### overlap with m6a peak\n",
    "tss_list = glob.glob(\"*_selected_TSS.bed\")\n",
    "for tss in tss_list:\n",
    "    tissue = tss.split(\"_\")[0]\n",
    "    m6a = \"/Data_Resource/m6A-seq/com_fetus_vs_adult/m6A_abundance/peaks/adult/combined_peaks/by_sample/%s.bed\" % tissue\n",
    "    m6am = \"%s_m6am.bed\" % tissue \n",
    "    os.system(\"bedtools intersect -a %s -b %s -wa > %s\" % (m6a, tss, m6am))"
   ]
  },
  {
   "cell_type": "code",
   "execution_count": 7,
   "metadata": {},
   "outputs": [
    {
     "name": "stdout",
     "output_type": "stream",
     "text": [
      "Academic tradition requires you to cite works you base your article on.\r\n",
      "When using programs that use GNU Parallel to process data for publication\r\n",
      "please cite:\r\n",
      "\r\n",
      "  O. Tange (2011): GNU Parallel - The Command-Line Power Tool,\r\n",
      "  ;login: The USENIX Magazine, February 2011:42-47.\r\n",
      "\r\n",
      "This helps funding further development; AND IT WON'T COST YOU A CENT.\r\n",
      "If you pay 10000 EUR you should feel free to use GNU Parallel without citing.\r\n",
      "\r\n",
      "To silence this citation notice: run 'parallel --citation'.\r\n",
      "\r\n"
     ]
    }
   ],
   "source": [
    "### select m6a from raw m6a peak\n",
    "!ls *_m6am.bed | cut -d \"_\" -f1 | parallel \"grep -v -f {}_m6am.bed /Data_Resource/m6A-seq/com_fetus_vs_adult/m6A_abundance/peaks/adult/combined_peaks/by_sample/{}.bed > {}_m6a.bed\""
   ]
  },
  {
   "cell_type": "code",
   "execution_count": null,
   "metadata": {},
   "outputs": [],
   "source": []
  }
 ],
 "metadata": {
  "kernelspec": {
   "display_name": "Python 3",
   "language": "python",
   "name": "python3"
  },
  "language_info": {
   "codemirror_mode": {
    "name": "ipython",
    "version": 3
   },
   "file_extension": ".py",
   "mimetype": "text/x-python",
   "name": "python",
   "nbconvert_exporter": "python",
   "pygments_lexer": "ipython3",
   "version": "3.7.2"
  }
 },
 "nbformat": 4,
 "nbformat_minor": 2
}
