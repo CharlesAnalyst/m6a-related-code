{
 "cells": [
  {
   "cell_type": "code",
   "execution_count": 7,
   "metadata": {},
   "outputs": [],
   "source": [
    "import os\n",
    "import sys\n",
    "import shutil\n",
    "import glob\n",
    "import pandas as pd\n",
    "import numpy as np\n",
    "from scipy import stats\n",
    "import matplotlib.pyplot as plt\n",
    "import seaborn as sns\n",
    "%matplotlib inline\n",
    "%config InlineBackend.figure_format = 'svg'\n",
    "from itertools import permutations\n",
    "from collections import Counter\n",
    "from multiprocessing import Pool"
   ]
  },
  {
   "cell_type": "code",
   "execution_count": 56,
   "metadata": {},
   "outputs": [],
   "source": [
    "# lnc_bed = \"/data3/xs/tissue_m6a/2018.1/GRCh38_segment/mRNA.bed\"\n",
    "lnc_bed = \"/data3/xs/tissue_m6a/2018.1/GRCh38_segment/intergenic_lincRNA.bed\"\n",
    "total_gene_dir = \"/data5/galaxy/project/promoter_TF_enrich/data/total_gene/gene_bed\"\n",
    "m6a_gene_dir = \"/data5/galaxy/project/promoter_TF_enrich/data/m6a_gene/gene_bed\"\n",
    "#\n",
    "expre_file = \"/data5/galaxy/project/expression/stringtie/Total-RPKM.txt\"\n",
    "#\n",
    "as_dir = \"/data5/xlj/new_tissue_m6A/7_10_2018_Figure1/AS/\""
   ]
  },
  {
   "cell_type": "code",
   "execution_count": 57,
   "metadata": {
    "scrolled": true
   },
   "outputs": [
    {
     "name": "stdout",
     "output_type": "stream",
     "text": [
      "liver\n",
      "2301 485 1816\n",
      "stomach\n",
      "1921 416 1505\n",
      "placenta\n",
      "2150 690 1460\n",
      "lung\n",
      "2049 471 1578\n",
      "heart\n",
      "2826 501 2325\n",
      "brain\n",
      "3989 836 3153\n",
      "muscle\n",
      "1958 655 1303\n",
      "kidney\n",
      "2651 967 1684\n"
     ]
    }
   ],
   "source": [
    "total_gene_list = glob.glob(\"%s/*.bed\" % total_gene_dir)\n",
    "m6a_gene_list = glob.glob(\"%s/*.bed\" % m6a_gene_dir)\n",
    "df_lnc = read_bed(lnc_bed)\n",
    "df_exp = pd.read_table(expre_file, sep=\"\\t\")\n",
    "df_exp.columns = [\"gene\", \"brain\", \"heart\", \"kidney\", \"liver\", \"placenta\", \"lung\", \"muscle\", \"stomach\"]\n",
    "df_exp[\"name\"] = df_exp[\"gene\"].str.split(\".\").str[0]\n",
    "# df_lnc.head()\n",
    "tissue_list, total_list, m6a_list = [], [], []\n",
    "for gene_bed in total_gene_list:\n",
    "    tissue = os.path.basename(gene_bed).split(\".bed\")[0]\n",
    "    print(tissue)\n",
    "    df_m6a, df_unm6a = process_single_tissue(gene_bed, df_lnc)\n",
    "#     print(len(df_m6a), len(df_unm6a), len(df_lnc))\n",
    "#     as_file = os.path.join(\"%s/%s\" % (as_dir, tissue.title()), \"AS_Total\")\n",
    "#     as_num_dict = count_each_as(as_file)\n",
    "#     as_propor_1 = len(df_m6a[df_m6a[\"name\"].isin(as_num_dict.keys())]) / len(df_m6a)\n",
    "#     as_propor_2 = len(df_unm6a[df_unm6a[\"name\"].isin(as_num_dict.keys())]) / len(df_unm6a)\n",
    "#     print(\"%s\\n%f\\t%f\" % (tissue, as_propor_1, as_propor_2))\n",
    "    \n",
    "#     result_m6a = get_as_num(\"m6a lncRNA\", df_m6a, as_num_dict)\n",
    "#     result_unm6a = get_as_num(\"unm6a lncRNA\", df_unm6a, as_num_dict)\n",
    "#     write_file(tissue, (result_m6a + result_unm6a))\n",
    "    \n",
    "#     compare_expre(tissue, df_exp, df_m6a, df_unm6a)\n",
    "#     result_list = process_single_tissue(gene_bed, df_lnc)\n",
    "#     tissue_list.append(result_list[0])\n",
    "#     total_list.append(result_list[1])\n",
    "#     m6a_list.append(result_list[2])\n",
    "#     pro_list = 100 * (np.array(m6a_list) / np.array(total_list))\n",
    "# with open(\"/data5/galaxy/project/lncRNA_analysis/m6a_proportion/proportion.txt\", 'w') as fw:\n",
    "#     fw.write(\"tissue name\\t%s\\n\" % (\"\\t\".join(tissue_list)))\n",
    "#     fw.write(\"total lncRNA number\\t%s\\n\" % (\"\\t\".join([str(x) for x in total_list])))\n",
    "#     fw.write(\"m6a lncRNA number\\t%s\\n\" % (\"\\t\".join([str(x) for x in m6a_list])))\n",
    "#     fw.write(\"m6a lncRNA proportion\\t%s\\n\" % (\"\\t\".join([str(x) for x in pro_list])))"
   ]
  },
  {
   "cell_type": "code",
   "execution_count": 53,
   "metadata": {},
   "outputs": [],
   "source": [
    "def process_single_tissue(gene_bed, df_lnc):\n",
    "    tissue = os.path.basename(gene_bed)\n",
    "#     print(tissue.split(\".bed\")[0])\n",
    "    m6a_bed = os.path.join(m6a_gene_dir, tissue)\n",
    "    df_gene, df_m6a = read_bed(gene_bed), read_bed(m6a_bed)\n",
    "#     print(len(df_gene), len(df_m6a))\n",
    "#     print(df_gene.head())\n",
    "#     print(len(df_lnc))\n",
    "    df_one = df_gene.merge(df_lnc, on=\"name\", how=\"right\").dropna()\n",
    "    total_names = list(set(df_one[\"name\"].tolist()))\n",
    "#     print(len(df_one))\n",
    "#     print(df_lnc.head())\n",
    "    df_two = df_one.merge(df_m6a, on=\"name\", how=\"left\").dropna()\n",
    "    m6a_names = list(set(df_two[\"name\"].tolist()))\n",
    "#     print(len(df_two))\n",
    "    unm6a_names = list(set([x for x in df_one[\"name\"].tolist() if x not in df_two[\"name\"].tolist()]))\n",
    "    df_three = df_one[df_one[\"name\"].isin(unm6a_names)].dropna()\n",
    "    remain_names = list(set(df_three[\"name\"].tolist()))\n",
    "    print(len(total_names), len(m6a_names), len(remain_names))\n",
    "#     print(len(df_two), len(df_three))\n",
    "#     print(len(df_two))\n",
    "#     result_list = [tissue.split(\".bed\")[0], len(df_one), len(df_two)]\n",
    "#     return result_list\n",
    "    return df_two, df_three"
   ]
  },
  {
   "cell_type": "code",
   "execution_count": 36,
   "metadata": {},
   "outputs": [],
   "source": [
    "def read_bed(in_bed):\n",
    "    df = pd.read_table(in_bed, sep=\"\\s+\", header=None, names=[\"chr\", \"start\", \"end\", \"name\", \"s\", \"strand\"])\n",
    "#     print(df.head())\n",
    "    df[\"name\"] = df[\"name\"].str.split(\".\").str[0]\n",
    "    return df"
   ]
  },
  {
   "cell_type": "code",
   "execution_count": 57,
   "metadata": {},
   "outputs": [],
   "source": [
    "def compare_expre(tissue, df_exp, df_m6a, df_unm6a):\n",
    "    df_sub = df_exp[[\"name\", tissue]]\n",
    "    df_m6a_exp = df_sub.merge(df_m6a, on=\"name\", how=\"left\").dropna()[[\"name\", tissue]]\n",
    "    df_m6a_exp[\"type\"] = \"m6a\"\n",
    "    df_unm6a_exp = df_sub.merge(df_unm6a, on=\"name\", how=\"left\").dropna()[[\"name\", tissue]]\n",
    "    df_unm6a_exp[\"type\"] = \"unm6a\"\n",
    "    print(len(df_m6a_exp), len(df_unm6a_exp))\n",
    "    print(df_m6a_exp[tissue].median(), df_unm6a_exp[tissue].median())\n",
    "    print(stats.mannwhitneyu(df_m6a_exp[tissue], df_unm6a_exp[tissue]))\n",
    "    df = pd.concat([df_m6a_exp, df_unm6a_exp])\n",
    "    df = df[[\"name\", \"type\", tissue]]\n",
    "    df.to_csv(\"/data5/galaxy/project/lncRNA_analysis/m6a_expression/%s.txt\" % tissue, sep=\"\\t\", index=False)"
   ]
  },
  {
   "cell_type": "code",
   "execution_count": 5,
   "metadata": {},
   "outputs": [],
   "source": [
    "def count_each_as(as_file):\n",
    "    with open(as_file, 'r') as f:\n",
    "        title = f.readline()\n",
    "        names = [line.split()[1].split(\".\")[0].strip('\"') for line in f.readlines()]\n",
    "        num_dict = Counter(names)\n",
    "    return num_dict\n",
    "\n",
    "def get_as_num(lnc_type, df, as_num_dict):\n",
    "    df_in = df[df[\"name\"].isin(list(as_num_dict.keys()))]\n",
    "    result_list = []\n",
    "    for index, x in df_in.iterrows():\n",
    "        number = as_num_dict[x[\"name\"]]\n",
    "        result_list.append(\"%s\\t%s\\t%s\\n\" % (lnc_type, x[\"name\"], str(number)))\n",
    "    return result_list\n",
    "\n",
    "def write_file(tissue, result_list):\n",
    "    result_file = \"/data5/galaxy/project/lncRNA_analysis/as_number/%s.txt\" % tissue\n",
    "    with open(result_file, 'w') as fw:\n",
    "        fw.writelines(result_list)"
   ]
  }
 ],
 "metadata": {
  "kernelspec": {
   "display_name": "Python 3",
   "language": "python",
   "name": "python3"
  },
  "language_info": {
   "codemirror_mode": {
    "name": "ipython",
    "version": 3
   },
   "file_extension": ".py",
   "mimetype": "text/x-python",
   "name": "python",
   "nbconvert_exporter": "python",
   "pygments_lexer": "ipython3",
   "version": "3.6.5"
  }
 },
 "nbformat": 4,
 "nbformat_minor": 2
}
