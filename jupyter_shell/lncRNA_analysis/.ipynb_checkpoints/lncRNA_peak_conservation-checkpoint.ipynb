{
 "cells": [
  {
   "cell_type": "code",
   "execution_count": 1,
   "metadata": {},
   "outputs": [],
   "source": [
    "import os\n",
    "import sys\n",
    "import shutil\n",
    "import glob\n",
    "import pandas as pd\n",
    "import numpy as np\n",
    "from scipy import stats\n",
    "import matplotlib.pyplot as plt\n",
    "import seaborn as sns\n",
    "%matplotlib inline\n",
    "%config InlineBackend.figure_format = 'svg'\n",
    "from multiprocessing import Pool\n",
    "from collections import Counter"
   ]
  },
  {
   "cell_type": "code",
   "execution_count": 33,
   "metadata": {},
   "outputs": [
    {
     "name": "stdout",
     "output_type": "stream",
     "text": [
      "/data5/galaxy/project/lncRNA_analysis/m6a_expression/brain.txt\n",
      "/data5/galaxy/project/lncRNA_analysis/m6a_expression/kidney.txt\n",
      "/data5/galaxy/project/lncRNA_analysis/m6a_expression/stomach.txt\n",
      "/data5/galaxy/project/lncRNA_analysis/m6a_expression/placenta.txt\n",
      "/data5/galaxy/project/lncRNA_analysis/m6a_expression/liver.txt\n",
      "/data5/galaxy/project/lncRNA_analysis/m6a_expression/lung.txt\n",
      "/data5/galaxy/project/lncRNA_analysis/m6a_expression/heart.txt\n",
      "/data5/galaxy/project/lncRNA_analysis/m6a_expression/muscle.txt\n"
     ]
    }
   ],
   "source": [
    "data_dir = \"/data5/galaxy/project/lncRNA_analysis/m6a_expression\"\n",
    "gene_bed = \"/data/database/hg19/genes_v28.bed\"\n",
    "df_bed = pd.read_table(gene_bed, sep=\"\\t\", header=None, names=[\"chr\", \"a\", \"b\", \"raw_name\", \"s\", \"stra\"])\n",
    "df_bed[\"name\"] = df_bed[\"raw_name\"].str.split(\".\").str[0]\n",
    "# print(df_bed.head())\n",
    "query_names = []\n",
    "for i_file in glob.glob(\"%s/*.txt\" % data_dir):\n",
    "    print(i_file)\n",
    "    t_names = read_file(i_file)\n",
    "#     print(t_names)\n",
    "    query_names = query_names + t_names\n",
    "df_result = df_bed[df_bed[\"name\"].isin(query_names)].dropna()\n",
    "#\n",
    "df_result[\"score\"] = df_result[\"b\"] - df_result[\"a\"]\n",
    "df_result = df_result[[\"chr\", \"a\", \"b\", \"raw_name\", \"score\", \"stra\"]]\n",
    "#\n",
    "df_result.to_csv(\"/data/database/ucsc_phylo/hg38/primate/query_gene.bed\", sep=\"\\t\", header=None, index=False)"
   ]
  },
  {
   "cell_type": "code",
   "execution_count": 28,
   "metadata": {},
   "outputs": [],
   "source": [
    "def read_file(in_file):\n",
    "    df = pd.read_table(in_file, sep=\"\\t\")\n",
    "    return df[\"name\"].tolist()"
   ]
  },
  {
   "cell_type": "code",
   "execution_count": 49,
   "metadata": {},
   "outputs": [
    {
     "name": "stdout",
     "output_type": "stream",
     "text": [
      "58288 45 58243\n"
     ]
    }
   ],
   "source": [
    "os.chdir(\"/data/database/ucsc_phylo/hg38/primate\")\n",
    "df = pd.read_table(\"Genes_ensembl_dot.bed\", sep=\"\\t\", header=None, names=[\"chr\", \"a\", \"b\", \"name\", \"s\", \"stra\"])\n",
    "df[\"score\"] = df[\"b\"] - df[\"a\"]\n",
    "df = df[[\"chr\", \"a\", \"b\", \"name\", \"score\", \"stra\"]].drop_duplicates()\n",
    "counter, dup_names = Counter(df[\"name\"].tolist()), []\n",
    "for term in counter:\n",
    "    if counter[term] >= 2:\n",
    "        dup_names.append(term)\n",
    "#         print(term, counter[term])\n",
    "# for name in dup_names:\n",
    "#     df_dup = df[df[\"name\"].isin([name])]\n",
    "#     print(df_dup)\n",
    "#     print(\"#####################\")\n",
    "uniq_names = [x for x in df[\"name\"].tolist() if x not in dup_names]\n",
    "df_result = df[(df[\"chr\"] != \"chrY\") | (df[\"name\"].isin(uniq_names))]\n",
    "print(len(df), len(dup_names), len(df_result))\n",
    "df_result.to_csv(\"Genes_ensembl_dot_format.bed\", sep=\"\\t\", header=None, index=False)"
   ]
  },
  {
   "cell_type": "code",
   "execution_count": 62,
   "metadata": {},
   "outputs": [
    {
     "name": "stderr",
     "output_type": "stream",
     "text": [
      "processing chromosomes\n"
     ]
    }
   ],
   "source": [
    "%%bash\n",
    "cd /data/database/ucsc_phylo/hg38/vertebrate\n",
    "bigWigAverageOverBed hg38.phyloP100way.bw ../primate/Genes_ensembl_dot_format.bed total_genes_result.tab"
   ]
  },
  {
   "cell_type": "code",
   "execution_count": 63,
   "metadata": {},
   "outputs": [],
   "source": [
    "data_dir = \"/data5/galaxy/project/lncRNA_analysis/m6a_expression\"\n",
    "phastcons_file = \"/data/database/ucsc_phylo/hg38/vertebrate/total_genes_result.tab\"\n",
    "result_dir = data_dir\n",
    "df_score = pd.read_table(phastcons_file, sep=\"\\t\", header=None, names=[\"n\", \"size\", \"covered\", \"sum\", \"mean0\", \"mean\"])\n",
    "df_score[\"name\"] = df_score[\"n\"].str.split(\".\").str[0]\n",
    "del df_score[\"n\"]\n",
    "#\n",
    "for x in glob.glob(\"%s/*_phastCons.txt\" % data_dir):\n",
    "    os.remove(x)\n",
    "file_list = glob.glob(\"%s/*.txt\" % data_dir)\n",
    "# print(file_list)\n",
    "df_list = []\n",
    "for i_file in file_list:\n",
    "    tissue = os.path.basename(i_file).split(\".txt\")[0].lower()\n",
    "    df = pd.read_table(i_file, sep=\"\\t\")\n",
    "    df.columns = [\"name\", \"type\", \"FPKM\"]\n",
    "    df_merge = df_score.merge(df, on=\"name\", how=\"right\").dropna()\n",
    "#     df_merge = df_merge[[\"name\", \"type\", \"FPKM\", \"size\", \"covered\", \"sum\", \"mean0\", \"mean\"]]\n",
    "#     df_merge = df_merge.sort_values([\"type\"])\n",
    "    df_merge[\"tissue\"] = tissue\n",
    "    df_list.append(df_merge)\n",
    "df_total = pd.concat(df_list)\n",
    "df_total = df_total[[\"tissue\", \"name\", \"type\", \"FPKM\", \"size\", \"covered\", \"sum\", \"mean0\", \"mean\"]]\n",
    "df_total = df_total.sort_values([\"tissue\", \"type\"])\n",
    "result_file = \"%s/total-tissues_phastCons_vertebrate.txt\" % result_dir\n",
    "df_total.to_csv(result_file, sep=\"\\t\", index=False)"
   ]
  }
 ],
 "metadata": {
  "kernelspec": {
   "display_name": "Python 3",
   "language": "python",
   "name": "python3"
  },
  "language_info": {
   "codemirror_mode": {
    "name": "ipython",
    "version": 3
   },
   "file_extension": ".py",
   "mimetype": "text/x-python",
   "name": "python",
   "nbconvert_exporter": "python",
   "pygments_lexer": "ipython3",
   "version": "3.6.5"
  }
 },
 "nbformat": 4,
 "nbformat_minor": 2
}
