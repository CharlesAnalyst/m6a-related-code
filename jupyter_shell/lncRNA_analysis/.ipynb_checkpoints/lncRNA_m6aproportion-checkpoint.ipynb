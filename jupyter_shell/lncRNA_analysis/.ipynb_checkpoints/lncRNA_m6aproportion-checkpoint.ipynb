{
 "cells": [
  {
   "cell_type": "code",
   "execution_count": 1,
   "metadata": {},
   "outputs": [],
   "source": [
    "import os\n",
    "import sys\n",
    "import shutil\n",
    "import glob\n",
    "import pandas as pd\n",
    "import numpy as np\n",
    "from scipy import stats\n",
    "import matplotlib.pyplot as plt\n",
    "import seaborn as sns\n",
    "%matplotlib inline\n",
    "%config InlineBackend.figure_format = 'svg'\n",
    "from itertools import permutations\n",
    "from multiprocessing import Pool"
   ]
  },
  {
   "cell_type": "code",
   "execution_count": 13,
   "metadata": {},
   "outputs": [],
   "source": [
    "lnc_bed = \"/data3/xs/tissue_m6a/2018.1/GRCh38_segment/intergenic_lincRNA.bed\"\n",
    "total_gene_dir = \"/data5/galaxy/project/promoter_TF_enrich/data/total_gene/gene_bed\"\n",
    "m6a_gene_dir = \"/data5/galaxy/project/promoter_TF_enrich/data/m6a_gene/gene_bed\"\n",
    "#\n",
    "expre_file = \"/data5/galaxy/project/expression/stringtie/Total-RPKM.txt\""
   ]
  },
  {
   "cell_type": "code",
   "execution_count": 44,
   "metadata": {},
   "outputs": [
    {
     "name": "stdout",
     "output_type": "stream",
     "text": [
      "liver\n",
      "2310\n"
     ]
    },
    {
     "ename": "NameError",
     "evalue": "name 'total_names' is not defined",
     "output_type": "error",
     "traceback": [
      "\u001b[0;31m---------------------------------------------------------------------------\u001b[0m",
      "\u001b[0;31mNameError\u001b[0m                                 Traceback (most recent call last)",
      "\u001b[0;32m<ipython-input-44-432efabb49de>\u001b[0m in \u001b[0;36m<module>\u001b[0;34m()\u001b[0m\n\u001b[1;32m      8\u001b[0m \u001b[0mtissue_list\u001b[0m\u001b[0;34m,\u001b[0m \u001b[0mtotal_list\u001b[0m\u001b[0;34m,\u001b[0m \u001b[0mm6a_list\u001b[0m \u001b[0;34m=\u001b[0m \u001b[0;34m[\u001b[0m\u001b[0;34m]\u001b[0m\u001b[0;34m,\u001b[0m \u001b[0;34m[\u001b[0m\u001b[0;34m]\u001b[0m\u001b[0;34m,\u001b[0m \u001b[0;34m[\u001b[0m\u001b[0;34m]\u001b[0m\u001b[0;34m\u001b[0m\u001b[0m\n\u001b[1;32m      9\u001b[0m \u001b[0;32mfor\u001b[0m \u001b[0mgene_bed\u001b[0m \u001b[0;32min\u001b[0m \u001b[0mtotal_gene_list\u001b[0m\u001b[0;34m:\u001b[0m\u001b[0;34m\u001b[0m\u001b[0m\n\u001b[0;32m---> 10\u001b[0;31m     \u001b[0mdf_m6a\u001b[0m\u001b[0;34m,\u001b[0m \u001b[0mdf_unm6a\u001b[0m \u001b[0;34m=\u001b[0m \u001b[0mprocess_single_tissue\u001b[0m\u001b[0;34m(\u001b[0m\u001b[0mgene_bed\u001b[0m\u001b[0;34m,\u001b[0m \u001b[0mdf_lnc\u001b[0m\u001b[0;34m)\u001b[0m\u001b[0;34m\u001b[0m\u001b[0m\n\u001b[0m\u001b[1;32m     11\u001b[0m     \u001b[0mtissue\u001b[0m \u001b[0;34m=\u001b[0m \u001b[0mos\u001b[0m\u001b[0;34m.\u001b[0m\u001b[0mpath\u001b[0m\u001b[0;34m.\u001b[0m\u001b[0mbasename\u001b[0m\u001b[0;34m(\u001b[0m\u001b[0mgene_bed\u001b[0m\u001b[0;34m)\u001b[0m\u001b[0;34m.\u001b[0m\u001b[0msplit\u001b[0m\u001b[0;34m(\u001b[0m\u001b[0;34m\".bed\"\u001b[0m\u001b[0;34m)\u001b[0m\u001b[0;34m[\u001b[0m\u001b[0;36m0\u001b[0m\u001b[0;34m]\u001b[0m\u001b[0;34m\u001b[0m\u001b[0m\n\u001b[1;32m     12\u001b[0m     \u001b[0mcompare_expre\u001b[0m\u001b[0;34m(\u001b[0m\u001b[0mtissue\u001b[0m\u001b[0;34m,\u001b[0m \u001b[0mdf_exp\u001b[0m\u001b[0;34m,\u001b[0m \u001b[0mdf_m6a\u001b[0m\u001b[0;34m,\u001b[0m \u001b[0mdf_unm6a\u001b[0m\u001b[0;34m)\u001b[0m\u001b[0;34m\u001b[0m\u001b[0m\n",
      "\u001b[0;32m<ipython-input-43-70868317a4e4>\u001b[0m in \u001b[0;36mprocess_single_tissue\u001b[0;34m(gene_bed, df_lnc)\u001b[0m\n\u001b[1;32m      8\u001b[0m     \u001b[0mdf_two\u001b[0m \u001b[0;34m=\u001b[0m \u001b[0mdf_one\u001b[0m\u001b[0;34m.\u001b[0m\u001b[0mmerge\u001b[0m\u001b[0;34m(\u001b[0m\u001b[0mdf_m6a\u001b[0m\u001b[0;34m,\u001b[0m \u001b[0mon\u001b[0m\u001b[0;34m=\u001b[0m\u001b[0;34m\"name\"\u001b[0m\u001b[0;34m,\u001b[0m \u001b[0mhow\u001b[0m\u001b[0;34m=\u001b[0m\u001b[0;34m\"left\"\u001b[0m\u001b[0;34m)\u001b[0m\u001b[0;34m.\u001b[0m\u001b[0mdropna\u001b[0m\u001b[0;34m(\u001b[0m\u001b[0;34m)\u001b[0m\u001b[0;34m\u001b[0m\u001b[0m\n\u001b[1;32m      9\u001b[0m     \u001b[0munm6a_names\u001b[0m \u001b[0;34m=\u001b[0m \u001b[0;34m[\u001b[0m\u001b[0mx\u001b[0m \u001b[0;32mfor\u001b[0m \u001b[0mx\u001b[0m \u001b[0;32min\u001b[0m \u001b[0mdf_one\u001b[0m\u001b[0;34m[\u001b[0m\u001b[0;34m\"name\"\u001b[0m\u001b[0;34m]\u001b[0m\u001b[0;34m.\u001b[0m\u001b[0mtolist\u001b[0m\u001b[0;34m(\u001b[0m\u001b[0;34m)\u001b[0m \u001b[0;32mif\u001b[0m \u001b[0mx\u001b[0m \u001b[0;32mnot\u001b[0m \u001b[0;32min\u001b[0m \u001b[0mdf_two\u001b[0m\u001b[0;34m[\u001b[0m\u001b[0;34m\"name\"\u001b[0m\u001b[0;34m]\u001b[0m\u001b[0;34m.\u001b[0m\u001b[0mtolist\u001b[0m\u001b[0;34m(\u001b[0m\u001b[0;34m)\u001b[0m\u001b[0;34m]\u001b[0m\u001b[0;34m\u001b[0m\u001b[0m\n\u001b[0;32m---> 10\u001b[0;31m     \u001b[0munm6a_names\u001b[0m \u001b[0;34m=\u001b[0m \u001b[0;34m[\u001b[0m\u001b[0mx\u001b[0m \u001b[0;32mfor\u001b[0m \u001b[0mx\u001b[0m \u001b[0;32min\u001b[0m \u001b[0mtotal_names\u001b[0m \u001b[0;32mif\u001b[0m \u001b[0mx\u001b[0m \u001b[0;32mnot\u001b[0m \u001b[0;32min\u001b[0m \u001b[0mm6a_names\u001b[0m\u001b[0;34m]\u001b[0m\u001b[0;34m\u001b[0m\u001b[0m\n\u001b[0m\u001b[1;32m     11\u001b[0m     \u001b[0mprint\u001b[0m\u001b[0;34m(\u001b[0m\u001b[0mlen\u001b[0m\u001b[0;34m(\u001b[0m\u001b[0munm6a_names\u001b[0m\u001b[0;34m)\u001b[0m\u001b[0;34m)\u001b[0m\u001b[0;34m\u001b[0m\u001b[0m\n\u001b[1;32m     12\u001b[0m     \u001b[0mdf_three\u001b[0m \u001b[0;34m=\u001b[0m \u001b[0mdf_one\u001b[0m\u001b[0;34m[\u001b[0m\u001b[0mdf_one\u001b[0m\u001b[0;34m[\u001b[0m\u001b[0;34m\"name\"\u001b[0m\u001b[0;34m]\u001b[0m\u001b[0;34m.\u001b[0m\u001b[0misin\u001b[0m\u001b[0;34m(\u001b[0m\u001b[0munm6a_names\u001b[0m\u001b[0;34m)\u001b[0m\u001b[0;34m]\u001b[0m\u001b[0;34m\u001b[0m\u001b[0m\n",
      "\u001b[0;31mNameError\u001b[0m: name 'total_names' is not defined"
     ]
    }
   ],
   "source": [
    "total_gene_list = glob.glob(\"%s/*.bed\" % total_gene_dir)\n",
    "m6a_gene_list = glob.glob(\"%s/*.bed\" % m6a_gene_dir)\n",
    "df_lnc = read_bed(lnc_bed)\n",
    "df_exp = pd.read_table(expre_file, sep=\"\\t\")\n",
    "df_exp.columns = [\"gene\", \"brain\", \"heart\", \"kidney\", \"liver\", \"placenta\", \"lung\", \"muscle\", \"stomach\"]\n",
    "df_exp[\"name\"] = df_exp[\"gene\"].str.split(\".\").str[0]\n",
    "# df_lnc.head()\n",
    "tissue_list, total_list, m6a_list = [], [], []\n",
    "for gene_bed in total_gene_list:\n",
    "    df_m6a, df_unm6a = process_single_tissue(gene_bed, df_lnc)\n",
    "    tissue = os.path.basename(gene_bed).split(\".bed\")[0]\n",
    "    compare_expre(tissue, df_exp, df_m6a, df_unm6a)\n",
    "#     result_list = process_single_tissue(gene_bed, df_lnc)\n",
    "#     tissue_list.append(result_list[0])\n",
    "#     total_list.append(result_list[1])\n",
    "#     m6a_list.append(result_list[2])\n",
    "#     pro_list = 100 * (np.array(m6a_list) / np.array(total_list))\n",
    "# with open(\"/data5/galaxy/project/lncRNA_analysis/m6a_proportion/proportion.txt\", 'w') as fw:\n",
    "#     fw.write(\"tissue name\\t%s\\n\" % (\"\\t\".join(tissue_list)))\n",
    "#     fw.write(\"total lncRNA number\\t%s\\n\" % (\"\\t\".join([str(x) for x in total_list])))\n",
    "#     fw.write(\"m6a lncRNA number\\t%s\\n\" % (\"\\t\".join([str(x) for x in m6a_list])))\n",
    "#     fw.write(\"m6a lncRNA proportion\\t%s\\n\" % (\"\\t\".join([str(x) for x in pro_list])))"
   ]
  },
  {
   "cell_type": "code",
   "execution_count": 43,
   "metadata": {},
   "outputs": [],
   "source": [
    "def process_single_tissue(gene_bed, df_lnc):\n",
    "    tissue = os.path.basename(gene_bed)\n",
    "    print(tissue.split(\".bed\")[0])\n",
    "    m6a_bed = os.path.join(m6a_gene_dir, tissue)\n",
    "    df_gene, df_m6a = read_bed(gene_bed), read_bed(m6a_bed)\n",
    "    df_one = df_gene.merge(df_lnc, on=\"name\", how=\"left\").dropna()\n",
    "    print(len(df_one))\n",
    "    df_two = df_one.merge(df_m6a, on=\"name\", how=\"left\").dropna()\n",
    "    unm6a_names = [x for x in df_one[\"name\"].tolist() if x not in df_two[\"name\"].tolist()]\n",
    "    print(len(unm6a_names))\n",
    "    df_three = df_one[df_one[\"name\"].isin(unm6a_names)]\n",
    "#     print(len(df_two))\n",
    "#     result_list = [tissue.split(\".bed\")[0], len(df_one), len(df_two)]\n",
    "#     return result_list\n",
    "    return df_two, df_three"
   ]
  },
  {
   "cell_type": "code",
   "execution_count": 4,
   "metadata": {},
   "outputs": [],
   "source": [
    "def read_bed(in_bed):\n",
    "    df = pd.read_table(in_bed, sep=\"\\t\", header=None, names=[\"chr\", \"start\", \"end\", \"name\", \"s\", \"strand\"])\n",
    "    return df"
   ]
  },
  {
   "cell_type": "code",
   "execution_count": 42,
   "metadata": {},
   "outputs": [],
   "source": [
    "def compare_expre(tissue, df_exp, df_m6a, df_unm6a):\n",
    "    df_sub = df_exp[[\"name\", tissue]]\n",
    "    df_m6a_exp = df_sub.merge(df_m6a, on=\"name\", how=\"left\").dropna()[[\"name\", tissue]]\n",
    "    df_m6a_exp[\"type\"] = \"m6a\"\n",
    "    df_unm6a_exp = df_sub.merge(df_unm6a, on=\"name\", how=\"left\").dropna()[[\"name\", tissue]]\n",
    "    df_unm6a_exp[\"type\"] = \"unm6a\"\n",
    "    print(df_m6a_exp[tissue].median(), df_unm6a_exp[tissue].median())\n",
    "    print(stats.mannwhitneyu(df_m6a_exp[tissue], df_unm6a_exp[tissue]))\n",
    "    df = pd.concat([df_m6a_exp, df_unm6a_exp])\n",
    "    df = df[[\"name\", \"type\", tissue]]\n",
    "    df.to_csv(\"/data5/galaxy/project/lncRNA_analysis/m6a_expression/%s.txt\" % tissue, sep=\"\\t\", index=False)"
   ]
  }
 ],
 "metadata": {
  "kernelspec": {
   "display_name": "Python 3",
   "language": "python",
   "name": "python3"
  },
  "language_info": {
   "codemirror_mode": {
    "name": "ipython",
    "version": 3
   },
   "file_extension": ".py",
   "mimetype": "text/x-python",
   "name": "python",
   "nbconvert_exporter": "python",
   "pygments_lexer": "ipython3",
   "version": "3.6.5"
  }
 },
 "nbformat": 4,
 "nbformat_minor": 2
}
