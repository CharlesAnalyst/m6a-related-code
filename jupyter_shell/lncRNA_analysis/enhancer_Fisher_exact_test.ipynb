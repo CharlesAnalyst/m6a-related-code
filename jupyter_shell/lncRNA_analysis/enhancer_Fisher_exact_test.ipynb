{
 "cells": [
  {
   "cell_type": "code",
   "execution_count": 4,
   "metadata": {},
   "outputs": [],
   "source": [
    "import os\n",
    "import sys\n",
    "# sys.setdefaultencoding(\"utf-8\")\n",
    "import shutil\n",
    "import glob\n",
    "import pandas as pd\n",
    "import numpy as np\n",
    "from scipy import stats\n",
    "import subprocess\n",
    "import matplotlib.pyplot as plt\n",
    "import seaborn as sns\n",
    "%matplotlib inline\n",
    "%config InlineBackend.figure_format = 'svg'\n",
    "from multiprocessing import Pool\n",
    "from collections import Counter"
   ]
  },
  {
   "cell_type": "code",
   "execution_count": 36,
   "metadata": {},
   "outputs": [
    {
     "name": "stdout",
     "output_type": "stream",
     "text": [
      "liver\n",
      "305 686 180 1133\n",
      "2.7985503725299643 3.865525529628486e-23\n",
      "heart\n",
      "358 952 143 1376\n",
      "3.6184991479109128 5.426890224773739e-36\n",
      "placenta\n",
      "438 520 252 942\n",
      "3.1486263736263735 5.745688587399145e-34\n",
      "brain\n",
      "260 651 576 2505\n",
      "1.736911162314388 4.4937427463108555e-10\n",
      "muscle\n",
      "380 476 275 829\n",
      "2.406569900687548 1.761948954894609e-19\n",
      "stomach\n",
      "220 494 196 1013\n",
      "2.301702057341155 1.4582434724534782e-13\n",
      "kidney\n",
      "431 425 536 1262\n",
      "2.3877172958735735 3.0062356081848302e-24\n",
      "lung\n",
      "275 646 196 934\n",
      "2.0285745877298287 2.454264734157084e-11\n"
     ]
    }
   ],
   "source": [
    "os.chdir(\"/data5/galaxy/project/lncRNA_analysis/enhancer\")\n",
    "data_dir = \"/data3/xs/tissue_m6a/paper_data/enhancer/111_genome/8tissue_markers_2/enhancers/\"\n",
    "bed_list = glob.glob(\"%s/*7_Enh.bed\" % data_dir)\n",
    "#\n",
    "lnc_bed = \"/data3/xs/tissue_m6a/2018.1/GRCh38_segment/intergenic_lincRNA.bed\"\n",
    "df_lnc = read_bed(lnc_bed)\n",
    "total_gene_dir = \"/data5/galaxy/project/promoter_TF_enrich/data/total_gene/gene_bed\"\n",
    "m6a_gene_dir = \"/data5/galaxy/project/promoter_TF_enrich/data/m6a_gene/gene_bed\"\n",
    "#\n",
    "                # m6a-lincRNA  unm6a-lincRNA\n",
    "# enhancer            a             b\n",
    "# non_enhancer        c             d\n",
    "for enhancer in bed_list:\n",
    "    tissue = os.path.basename(enhancer).split(\"_\")[0].lower()\n",
    "    print(tissue)\n",
    "    gene_bed = \"%s/%s.bed\" % (total_gene_dir, tissue)\n",
    "    df_gene = read_bed(gene_bed)\n",
    "    m6a_names, unm6a_names = process_single_tissue(gene_bed, df_lnc)\n",
    "    df_m6a, df_unm6a = df_gene[df_gene[\"name\"].isin(m6a_names)], df_gene[df_gene[\"name\"].isin(unm6a_names)]\n",
    "    a = stat_intersect_num(df_m6a, enhancer)\n",
    "    b = stat_intersect_num(df_unm6a, enhancer)\n",
    "    c, d = len(df_m6a) - a, len(df_unm6a) - b\n",
    "    print(a, b, c, d)\n",
    "    fisher(a, b, c, d)"
   ]
  },
  {
   "cell_type": "code",
   "execution_count": 8,
   "metadata": {},
   "outputs": [],
   "source": [
    "def fisher(a, b, c, d):\n",
    "    oddsratio, pvalue = stats.fisher_exact([[a, b], [c, d]])\n",
    "    print(oddsratio, pvalue)"
   ]
  },
  {
   "cell_type": "code",
   "execution_count": 28,
   "metadata": {},
   "outputs": [],
   "source": [
    "def process_single_tissue(gene_bed, df_lnc):\n",
    "    tissue = os.path.basename(gene_bed)\n",
    "    m6a_bed = os.path.join(m6a_gene_dir, tissue)\n",
    "    df_gene, df_m6a = read_bed(gene_bed), read_bed(m6a_bed)\n",
    "    df_one = df_gene.merge(df_lnc, on=\"name\", how=\"right\").dropna()\n",
    "#     total_names = list(set(df_one[\"name\"].tolist()))\n",
    "    df_two = df_one.merge(df_m6a, on=\"name\", how=\"left\").dropna()\n",
    "#     m6a_names = list(set(df_two[\"name\"].tolist()))\n",
    "    unm6a_names = list(set([x for x in df_one[\"name\"].tolist() if x not in df_two[\"name\"].tolist()]))\n",
    "    df_three = df_one[df_one[\"name\"].isin(unm6a_names)].dropna()\n",
    "#     remain_names = list(set(df_three[\"name\"].tolist()))\n",
    "    return df_two[\"name\"].tolist(), df_three[\"name\"].tolist()"
   ]
  },
  {
   "cell_type": "code",
   "execution_count": 34,
   "metadata": {},
   "outputs": [],
   "source": [
    "def stat_intersect_num(df, enhancer_bed):\n",
    "    df_str = \"\\n\".join([\"\\t\".join(line.split()) for line in df.to_string(header=False, index=False).split(\"\\n\")])\n",
    "    command = \"bedtools intersect -a stdin -b %s -wa | sort | uniq | wc -l\" % enhancer_bed\n",
    "#     command = \"bedtools intersect -a stdin -b %s -wa | sort | uniq\" % enhancer_bed\n",
    "    sub_p = subprocess.Popen(command, shell=True, stdin=subprocess.PIPE, stdout=subprocess.PIPE)\n",
    "    number = int(sub_p.communicate(df_str.encode(\"utf-8\"))[0].decode(\"utf-8\"))\n",
    "#     number = sub_p.communicate(df_str.encode(\"utf-8\"))[0].decode(\"utf-8\")\n",
    "    return number"
   ]
  },
  {
   "cell_type": "code",
   "execution_count": 7,
   "metadata": {},
   "outputs": [],
   "source": [
    "def read_bed(in_bed):\n",
    "    df = pd.read_table(in_bed, sep=\"\\s+\", header=None, names=[\"chr\", \"start\", \"end\", \"name\", \"s\", \"strand\"])\n",
    "#     print(df.head())\n",
    "    df[\"name\"] = df[\"name\"].str.split(\".\").str[0]\n",
    "    return df"
   ]
  }
 ],
 "metadata": {
  "kernelspec": {
   "display_name": "Python 3",
   "language": "python",
   "name": "python3"
  },
  "language_info": {
   "codemirror_mode": {
    "name": "ipython",
    "version": 3
   },
   "file_extension": ".py",
   "mimetype": "text/x-python",
   "name": "python",
   "nbconvert_exporter": "python",
   "pygments_lexer": "ipython3",
   "version": "3.6.5"
  }
 },
 "nbformat": 4,
 "nbformat_minor": 2
}
