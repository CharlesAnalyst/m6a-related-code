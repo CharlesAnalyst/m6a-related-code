{
 "cells": [
  {
   "cell_type": "code",
   "execution_count": 1,
   "metadata": {},
   "outputs": [],
   "source": [
    "import os\n",
    "import sys\n",
    "import shutil\n",
    "import glob\n",
    "import pandas as pd\n",
    "import numpy as np\n",
    "from scipy import stats\n",
    "import subprocess\n",
    "import matplotlib.pyplot as plt\n",
    "import seaborn as sns\n",
    "%matplotlib inline\n",
    "%config InlineBackend.figure_format = 'svg'\n",
    "from multiprocessing import Pool\n",
    "from collections import Counter"
   ]
  },
  {
   "cell_type": "code",
   "execution_count": 22,
   "metadata": {},
   "outputs": [
    {
     "name": "stdout",
     "output_type": "stream",
     "text": [
      "liver\n",
      "stomach\n",
      "placenta\n",
      "lung\n",
      "heart\n",
      "brain\n",
      "muscle\n",
      "kidney\n"
     ]
    }
   ],
   "source": [
    "data_dir = \"/data5/galaxy/project/lncRNA_analysis/m6a_expression/expre_result\"\n",
    "raw_list = glob.glob(\"%s/*.txt\" % data_dir)\n",
    "result_dir = \"/data5/galaxy/project/lncRNA_analysis/m6a_expression\"\n",
    "m6a_lncRNA_dir = \"%s/m6a_lncRNA\" % result_dir\n",
    "unm6a_lncRNA_dir = \"%s/unm6a_lncRNA\" % result_dir\n",
    "mRNA_dir = \"%s/mRNA\" % result_dir\n",
    "#\n",
    "mRNA_bed = \"/data3/xs/tissue_m6a/2018.1/GRCh38_segment/mRNA.bed\"\n",
    "total_gene_dir = \"/data5/galaxy/project/promoter_TF_enrich/data/total_gene/gene_bed\"\n",
    "total_gene_list = glob.glob(\"%s/*.bed\" % total_gene_dir)\n",
    "expre_file = \"/data5/galaxy/project/expression/stringtie/Total-RPKM.txt\"\n",
    "#\n",
    "# for x in raw_list:\n",
    "#     class_lncRNA(x)\n",
    "#\n",
    "df_exp = pd.read_table(expre_file, sep=\"\\t\")\n",
    "df_exp.columns = [\"gene\", \"brain\", \"heart\", \"kidney\", \"liver\", \"placenta\", \"lung\", \"muscle\", \"stomach\"]\n",
    "df_exp[\"name\"] = df_exp[\"gene\"].str.split(\".\").str[0]\n",
    "for gene_bed in total_gene_list:\n",
    "    tissue = os.path.basename(gene_bed).split(\".bed\")[0]\n",
    "    print(tissue)\n",
    "    get_mRNA_expre(gene_bed, df_exp)"
   ]
  },
  {
   "cell_type": "code",
   "execution_count": 17,
   "metadata": {},
   "outputs": [],
   "source": [
    "def class_lncRNA(in_file):\n",
    "    df = pd.read_table(in_file, sep=\"\\t\")\n",
    "#     print(df.head())\n",
    "    df.columns = [\"Gene_ID\", \"type\", \"expression\"]\n",
    "    df_m6a, df_unm6a = df[df[\"type\"] == \"m6a\"], df[df[\"type\"] == \"unm6a\"]\n",
    "    df_m6a[[\"Gene_ID\", \"expression\"]].to_csv(os.path.join(m6a_lncRNA_dir, \"m6a-%s\" % os.path.basename(in_file)), sep=\"\\t\", index=False)\n",
    "    df_unm6a[[\"Gene_ID\", \"expression\"]].to_csv(os.path.join(unm6a_lncRNA_dir, \"unm6a-%s\" % os.path.basename(in_file)), sep=\"\\t\", index=False)"
   ]
  },
  {
   "cell_type": "code",
   "execution_count": 21,
   "metadata": {},
   "outputs": [],
   "source": [
    "def get_mRNA_expre(gene_bed, df_exp):\n",
    "    tissue = os.path.basename(gene_bed).split(\".\")[0].lower()\n",
    "    df_mRNA = read_bed(mRNA_bed)\n",
    "    df_gene = read_bed(gene_bed)\n",
    "    df = df_gene.merge(df_mRNA, on=\"name\", how=\"right\").merge(df_exp, on=\"name\").dropna()\n",
    "    df[\"Gene_ID\"] = df[\"name\"]\n",
    "    df[[\"Gene_ID\", tissue]].to_csv(os.path.join(mRNA_dir, \"mRNA-%s\" % os.path.basename(gene_bed).replace(\".bed\", \".txt\")), sep=\"\\t\", index=False)"
   ]
  },
  {
   "cell_type": "code",
   "execution_count": 9,
   "metadata": {},
   "outputs": [],
   "source": [
    "def read_bed(in_bed):\n",
    "    df = pd.read_table(in_bed, sep=\"\\s+\", header=None, names=[\"chr\", \"start\", \"end\", \"name\", \"s\", \"strand\"])\n",
    "    df[\"name\"] = df[\"name\"].str.split(\".\").str[0]\n",
    "    return df"
   ]
  },
  {
   "cell_type": "code",
   "execution_count": 29,
   "metadata": {},
   "outputs": [
    {
     "name": "stdout",
     "output_type": "stream",
     "text": [
      "   Gene ID Gene Symbol       Ensembl ID  GO Term ID  Gene Number in GO Term  \\\n",
      "0        1        A1BG  ENSG00000121410  GO:0008150                     588   \n",
      "1        2         A2M  ENSG00000175899  GO:0001869                       2   \n",
      "2        2         A2M  ENSG00000175899  GO:0002576                      81   \n",
      "3        2         A2M  ENSG00000175899  GO:0007264                     320   \n",
      "4        2         A2M  ENSG00000175899  GO:0007596                     463   \n",
      "\n",
      "                                        GO Term Name  \n",
      "0                                 biological_process  \n",
      "1  negative regulation of complement activation, ...  \n",
      "2                             platelet degranulation  \n",
      "3          small GTPase mediated signal transduction  \n",
      "4                                  blood coagulation  \n",
      "/data5/galaxy/project/lncRNA_analysis/m6a_expression/m6a_lncRNA\n",
      "/data5/galaxy/project/lncRNA_analysis/m6a_expression/unm6a_lncRNA\n",
      "/data5/galaxy/project/lncRNA_analysis/m6a_expression/mRNA\n"
     ]
    }
   ],
   "source": [
    "base_dir = \"/data5/galaxy/project/lncRNA_analysis/m6a_expression\"\n",
    "m6a_lncRNA_dir = \"%s/m6a_lncRNA\" % base_dir\n",
    "unm6a_lncRNA_dir = \"%s/unm6a_lncRNA\" % base_dir\n",
    "mRNA_dir = \"%s/mRNA\" % base_dir\n",
    "db_file = \"/data5/galaxy/project/lncRNA_analysis/m6a_expression/GO_BP.xls\"\n",
    "df = pd.read_excel(db_file, sheet_name=\"GO_BP\")\n",
    "print(df.head())\n",
    "for i_dir in [m6a_lncRNA_dir, unm6a_lncRNA_dir, mRNA_dir]:\n",
    "    print(i_dir)\n",
    "    annotate_each_dir(i_dir, df)"
   ]
  },
  {
   "cell_type": "code",
   "execution_count": 28,
   "metadata": {},
   "outputs": [],
   "source": [
    "def annotate_each_dir(i_dir, df):\n",
    "    result_dir = \"%s/GO_annotation\" % i_dir\n",
    "    if not os.path.exists(result_dir):\n",
    "        os.makedirs(result_dir)\n",
    "    file_list = glob.glob(\"%s/symbol_*.txt\" % i_dir)\n",
    "    for x in file_list:\n",
    "        result_file = os.path.join(result_dir, os.path.basename(x).replace(\"symbol_\", \"GO_\"))\n",
    "        df_query = pd.read_table(x, sep=\"\\t\")\n",
    "        df_merge = df.merge(df_query, left_on=\"Gene Symbol\", right_on=\"Gene_ID\", how=\"right\").dropna()\n",
    "        df_merge.to_csv(result_file, sep=\"\\t\", index=False)"
   ]
  }
 ],
 "metadata": {
  "kernelspec": {
   "display_name": "Python 3",
   "language": "python",
   "name": "python3"
  },
  "language_info": {
   "codemirror_mode": {
    "name": "ipython",
    "version": 3
   },
   "file_extension": ".py",
   "mimetype": "text/x-python",
   "name": "python",
   "nbconvert_exporter": "python",
   "pygments_lexer": "ipython3",
   "version": "3.6.5"
  }
 },
 "nbformat": 4,
 "nbformat_minor": 2
}
