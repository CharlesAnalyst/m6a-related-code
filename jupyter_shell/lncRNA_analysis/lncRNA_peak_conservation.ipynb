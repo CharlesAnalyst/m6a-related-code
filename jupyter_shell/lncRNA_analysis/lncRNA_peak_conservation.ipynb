{
 "cells": [
  {
   "cell_type": "code",
   "execution_count": 2,
   "metadata": {},
   "outputs": [],
   "source": [
    "import os\n",
    "import sys\n",
    "# sys.setdefaultencoding(\"utf-8\")\n",
    "import shutil\n",
    "import glob\n",
    "import pandas as pd\n",
    "import numpy as np\n",
    "from scipy import stats\n",
    "import subprocess\n",
    "import matplotlib.pyplot as plt\n",
    "import seaborn as sns\n",
    "%matplotlib inline\n",
    "%config InlineBackend.figure_format = 'svg'\n",
    "from multiprocessing import Pool\n",
    "from collections import Counter"
   ]
  },
  {
   "cell_type": "code",
   "execution_count": 58,
   "metadata": {},
   "outputs": [
    {
     "name": "stdout",
     "output_type": "stream",
     "text": [
      "liver.bed\n",
      "stomach.bed\n",
      "placenta.bed\n",
      "lung.bed\n",
      "heart.bed\n",
      "brain.bed\n",
      "muscle.bed\n",
      "kidney.bed\n"
     ]
    }
   ],
   "source": [
    "m6a_dir = \"/data5/galaxy/project/data/total_m6a_peak\"\n",
    "# m6a_list = glob.glob(\"%s/*.bed\" % m6a_dir) # Heart.bed\n",
    "input_dir = \"/data5/galaxy/project/data/input_data/total/input_bed\"\n",
    "# input_list = glob.glob(\"%s/*_discrete.bed\" % input_dir) # liver_discrete.bed\n",
    "total_gene_dir = \"/data5/galaxy/project/promoter_TF_enrich/data/total_gene/gene_bed\"  # kidney.bed\n",
    "total_gene_list = glob.glob(\"%s/*.bed\" % total_gene_dir)\n",
    "#\n",
    "result_dir = \"/data5/galaxy/project/lncRNA_analysis/lncRNA_cons\"\n",
    "lnc_bed = \"/data3/xs/tissue_m6a/2018.1/GRCh38_segment/intergenic_lincRNA.bed\"\n",
    "df_lnc = read_bed(lnc_bed)\n",
    "for gene_bed in total_gene_list:\n",
    "    df = get_expred_lncRNA(gene_bed, df_lnc)\n",
    "    m6a_bed, input_bed = get_m6a_bed(gene_bed)\n",
    "    get_m6a_and_input_bed(m6a_bed, input_bed, df)\n",
    "#     sys.exit(1)"
   ]
  },
  {
   "cell_type": "code",
   "execution_count": 4,
   "metadata": {},
   "outputs": [],
   "source": [
    "def read_bed(in_bed):\n",
    "    df = pd.read_table(in_bed, sep=\"\\s+\", header=None, names=[\"chr\", \"start\", \"end\", \"name\", \"s\", \"strand\"])\n",
    "    df[\"name\"] = df[\"name\"].str.split(\".\").str[0]\n",
    "    return df"
   ]
  },
  {
   "cell_type": "code",
   "execution_count": 57,
   "metadata": {},
   "outputs": [],
   "source": [
    "def get_expred_lncRNA(gene_bed, df_lnc):\n",
    "    df_gene = read_bed(gene_bed)\n",
    "    df = df_gene.merge(df_lnc, how=\"right\").dropna()\n",
    "    return df\n",
    "\n",
    "def get_m6a_bed(gene_bed):\n",
    "    tissue = os.path.basename(gene_bed)\n",
    "    print(tissue)\n",
    "    try:\n",
    "        m6a_bed = os.path.join(m6a_dir, (\"%s.bed\" % tissue.split(\".\")[0].title()))\n",
    "        input_bed = os.path.join(input_dir, (\"%s_discrete.bed\" % tissue.split(\".\")[0]))\n",
    "        os.path.exists(m6a_bed) == True\n",
    "        os.path.exists(input_bed) == True\n",
    "    except IOError:\n",
    "        print(\"%s is not exits!\" % m6a_bed)\n",
    "    return m6a_bed, input_bed\n",
    "\n",
    "def get_m6a_and_input_bed(m6a_bed, input_bed, df):\n",
    "    result_bed = intersect_with_lncRNA(\"m6a\", m6a_bed, df, 0)\n",
    "    num = int(os.popen(\"wc -l %s\" % result_bed).read().split()[0])\n",
    "    x = intersect_with_lncRNA(\"input\", input_bed, df, num)\n",
    "    \n",
    "    \n",
    "def intersect_with_lncRNA(bed_type, in_bed, df, num):\n",
    "    df_str = (\"\\n\".join([\"\\t\".join(x.split()) for x in df.to_string(header=False, index=False).split(\"\\n\")])).encode(\"utf-8\")\n",
    "#     print(df_str)\n",
    "    command = \"bedtools intersect -a %s -b stdin -wa | sort -k1,1 -k2,2n | uniq\" % in_bed\n",
    "    sub_p = subprocess.Popen(command, shell=True, stdin=subprocess.PIPE, stdout=subprocess.PIPE)\n",
    "    result_str = sub_p.communicate(df_str)[0].decode(\"utf-8\")\n",
    "#     print(result_str)\n",
    "    df = pd.DataFrame([x.split() for x in result_str.split(\"\\n\")])\n",
    "    result_file = os.path.join(result_dir, \"%s_%s\" % (bed_type, os.path.basename(in_bed)))\n",
    "    if bed_type == \"input\":\n",
    "        df = df.sample(n=num)\n",
    "    df.columns = [\"chr\", \"start\", \"end\"]\n",
    "    df = df.sort_values([\"chr\", \"start\"])\n",
    "    df.to_csv(result_file, sep=\"\\t\", header=False, index=False)\n",
    "    return result_file\n",
    "#     print(df.head())\n",
    "#     return df"
   ]
  },
  {
   "cell_type": "code",
   "execution_count": 28,
   "metadata": {},
   "outputs": [],
   "source": [
    "def read_file(in_file):\n",
    "    df = pd.read_table(in_file, sep=\"\\t\")\n",
    "    return df[\"name\"].tolist()"
   ]
  },
  {
   "cell_type": "code",
   "execution_count": 62,
   "metadata": {},
   "outputs": [
    {
     "name": "stderr",
     "output_type": "stream",
     "text": [
      "processing chromosomes\n"
     ]
    }
   ],
   "source": [
    "%%bash\n",
    "cd /data/database/ucsc_phylo/hg38/vertebrate\n",
    "bigWigAverageOverBed hg38.phyloP100way.bw ../primate/Genes_ensembl_dot_format.bed total_genes_result.tab"
   ]
  },
  {
   "cell_type": "code",
   "execution_count": 69,
   "metadata": {},
   "outputs": [],
   "source": [
    "def format_bed():\n",
    "    data_dir = \"/data5/galaxy/project/lncRNA_analysis/lncRNA_cons\"\n",
    "    result_dir = \"/data5/galaxy/project/lncRNA_analysis/lncRNA_cons/formatted\"\n",
    "    if not os.path.exists(result_dir):\n",
    "        os.makedirs(result_dir)\n",
    "    for x in glob.glob(\"%s/*.bed\" % data_dir):\n",
    "        result_file = os.path.join(result_dir, os.path.basename(x))\n",
    "        df = pd.read_table(x, sep=\"\\t\", header=None, names=[\"chr\", \"s\", \"e\"]).dropna()\n",
    "        df[\"name\"] = df[\"chr\"] + \":\" + df[\"s\"].astype(str) + \"-\" + df[\"e\"].astype(str)\n",
    "        df[\"s\"] = df[\"s\"].astype(int)\n",
    "        df[\"e\"] = df[\"e\"].astype(int)\n",
    "        df = df[[\"chr\", \"s\", \"e\", \"name\"]].sort_values([\"chr\", \"s\"])\n",
    "        df.to_csv(result_file, sep=\"\\t\", header=False, index=False)"
   ]
  },
  {
   "cell_type": "code",
   "execution_count": 70,
   "metadata": {},
   "outputs": [],
   "source": [
    "format_bed()"
   ]
  },
  {
   "cell_type": "code",
   "execution_count": 4,
   "metadata": {},
   "outputs": [
    {
     "data": {
      "text/plain": [
       "0"
      ]
     },
     "execution_count": 4,
     "metadata": {},
     "output_type": "execute_result"
    },
    {
     "data": {
      "text/plain": [
       "0"
      ]
     },
     "execution_count": 4,
     "metadata": {},
     "output_type": "execute_result"
    },
    {
     "data": {
      "text/plain": [
       "0"
      ]
     },
     "execution_count": 4,
     "metadata": {},
     "output_type": "execute_result"
    },
    {
     "data": {
      "text/plain": [
       "0"
      ]
     },
     "execution_count": 4,
     "metadata": {},
     "output_type": "execute_result"
    },
    {
     "data": {
      "text/plain": [
       "0"
      ]
     },
     "execution_count": 4,
     "metadata": {},
     "output_type": "execute_result"
    },
    {
     "data": {
      "text/plain": [
       "0"
      ]
     },
     "execution_count": 4,
     "metadata": {},
     "output_type": "execute_result"
    },
    {
     "data": {
      "text/plain": [
       "0"
      ]
     },
     "execution_count": 4,
     "metadata": {},
     "output_type": "execute_result"
    },
    {
     "data": {
      "text/plain": [
       "0"
      ]
     },
     "execution_count": 4,
     "metadata": {},
     "output_type": "execute_result"
    },
    {
     "data": {
      "text/plain": [
       "0"
      ]
     },
     "execution_count": 4,
     "metadata": {},
     "output_type": "execute_result"
    },
    {
     "data": {
      "text/plain": [
       "0"
      ]
     },
     "execution_count": 4,
     "metadata": {},
     "output_type": "execute_result"
    },
    {
     "data": {
      "text/plain": [
       "0"
      ]
     },
     "execution_count": 4,
     "metadata": {},
     "output_type": "execute_result"
    },
    {
     "data": {
      "text/plain": [
       "0"
      ]
     },
     "execution_count": 4,
     "metadata": {},
     "output_type": "execute_result"
    },
    {
     "data": {
      "text/plain": [
       "0"
      ]
     },
     "execution_count": 4,
     "metadata": {},
     "output_type": "execute_result"
    },
    {
     "data": {
      "text/plain": [
       "0"
      ]
     },
     "execution_count": 4,
     "metadata": {},
     "output_type": "execute_result"
    },
    {
     "data": {
      "text/plain": [
       "0"
      ]
     },
     "execution_count": 4,
     "metadata": {},
     "output_type": "execute_result"
    },
    {
     "data": {
      "text/plain": [
       "0"
      ]
     },
     "execution_count": 4,
     "metadata": {},
     "output_type": "execute_result"
    }
   ],
   "source": [
    "data_dir = \"/data5/galaxy/project/lncRNA_analysis/lncRNA_cons/formatted\"\n",
    "bw = \"/data/database/ucsc_phylo/hg38/primate/hg38.phyloP17way.bw\"\n",
    "for i_bed in glob.glob(\"%s/*.bed\" % data_dir):\n",
    "    result_tab = i_bed.replace(\".bed\", \"_phylo.tab\")\n",
    "    os.system(\"bigWigAverageOverBed %s %s %s\" % (bw, i_bed, result_tab))"
   ]
  },
  {
   "cell_type": "code",
   "execution_count": 63,
   "metadata": {},
   "outputs": [],
   "source": [
    "data_dir = \"/data5/galaxy/project/lncRNA_analysis/lncRNA_cons/formatted\"\n",
    "phastCons_list = glob.glob(\"%s/*.tab\" % data_dir)\n",
    "result_dir = data_dir\n",
    "for phastcons_file in phastCons_list:\n",
    "    df_score = pd.read_table(phastcons_file, sep=\"\\t\", header=None, names=[\"n\", \"size\", \"covered\", \"sum\", \"mean0\", \"mean\"])\n",
    "df_score[\"name\"] = df_score[\"n\"].str.split(\".\").str[0]\n",
    "del df_score[\"n\"]\n",
    "#\n",
    "for x in glob.glob(\"%s/*_phastCons.txt\" % data_dir):\n",
    "    os.remove(x)\n",
    "file_list = glob.glob(\"%s/*.txt\" % data_dir)\n",
    "# print(file_list)\n",
    "df_list = []\n",
    "for i_file in file_list:\n",
    "    tissue = os.path.basename(i_file).split(\".txt\")[0].lower()\n",
    "    df = pd.read_table(i_file, sep=\"\\t\")\n",
    "    df.columns = [\"name\", \"type\", \"FPKM\"]\n",
    "    df_merge = df_score.merge(df, on=\"name\", how=\"right\").dropna()\n",
    "#     df_merge = df_merge[[\"name\", \"type\", \"FPKM\", \"size\", \"covered\", \"sum\", \"mean0\", \"mean\"]]\n",
    "#     df_merge = df_merge.sort_values([\"type\"])\n",
    "    df_merge[\"tissue\"] = tissue\n",
    "    df_list.append(df_merge)\n",
    "df_total = pd.concat(df_list)\n",
    "df_total = df_total[[\"tissue\", \"name\", \"type\", \"FPKM\", \"size\", \"covered\", \"sum\", \"mean0\", \"mean\"]]\n",
    "df_total = df_total.sort_values([\"tissue\", \"type\"])\n",
    "result_file = \"%s/total-tissues_phastCons_vertebrate.txt\" % result_dir\n",
    "df_total.to_csv(result_file, sep=\"\\t\", index=False)"
   ]
  }
 ],
 "metadata": {
  "kernelspec": {
   "display_name": "Python 3",
   "language": "python",
   "name": "python3"
  },
  "language_info": {
   "codemirror_mode": {
    "name": "ipython",
    "version": 3
   },
   "file_extension": ".py",
   "mimetype": "text/x-python",
   "name": "python",
   "nbconvert_exporter": "python",
   "pygments_lexer": "ipython3",
   "version": "3.6.5"
  }
 },
 "nbformat": 4,
 "nbformat_minor": 2
}
