{
 "cells": [
  {
   "cell_type": "code",
   "execution_count": 1,
   "metadata": {},
   "outputs": [],
   "source": [
    "import os\n",
    "import sys\n",
    "import shutil\n",
    "import glob\n",
    "import pandas as pd\n",
    "import numpy as np\n",
    "from scipy import stats\n",
    "import matplotlib.pyplot as plt\n",
    "import seaborn as sns\n",
    "%matplotlib inline\n",
    "%config InlineBackend.figure_format = 'svg'\n",
    "from itertools import permutations\n",
    "from collections import Counter\n",
    "from multiprocessing import Pool"
   ]
  },
  {
   "cell_type": "code",
   "execution_count": 17,
   "metadata": {},
   "outputs": [
    {
     "data": {
      "text/html": [
       "<div>\n",
       "<style scoped>\n",
       "    .dataframe tbody tr th:only-of-type {\n",
       "        vertical-align: middle;\n",
       "    }\n",
       "\n",
       "    .dataframe tbody tr th {\n",
       "        vertical-align: top;\n",
       "    }\n",
       "\n",
       "    .dataframe thead th {\n",
       "        text-align: right;\n",
       "    }\n",
       "</style>\n",
       "<table border=\"1\" class=\"dataframe\">\n",
       "  <thead>\n",
       "    <tr style=\"text-align: right;\">\n",
       "      <th></th>\n",
       "      <th>num</th>\n",
       "      <th>name</th>\n",
       "    </tr>\n",
       "  </thead>\n",
       "  <tbody>\n",
       "    <tr>\n",
       "      <th>0</th>\n",
       "      <td>35</td>\n",
       "      <td>linc_enhancer/brain_female_m6a_with_enhancer.txt</td>\n",
       "    </tr>\n",
       "    <tr>\n",
       "      <th>1</th>\n",
       "      <td>801</td>\n",
       "      <td>linc_enhancer/brain_female_m6a_without_enhance...</td>\n",
       "    </tr>\n",
       "    <tr>\n",
       "      <th>2</th>\n",
       "      <td>8</td>\n",
       "      <td>linc_enhancer/brain_female_unm6a_with_enhancer...</td>\n",
       "    </tr>\n",
       "    <tr>\n",
       "      <th>3</th>\n",
       "      <td>3148</td>\n",
       "      <td>linc_enhancer/brain_female_unm6a_without_enhan...</td>\n",
       "    </tr>\n",
       "    <tr>\n",
       "      <th>4</th>\n",
       "      <td>13</td>\n",
       "      <td>linc_enhancer/brain_male_m6a_with_enhancer.txt</td>\n",
       "    </tr>\n",
       "  </tbody>\n",
       "</table>\n",
       "</div>"
      ],
      "text/plain": [
       "    num                                               name\n",
       "0    35   linc_enhancer/brain_female_m6a_with_enhancer.txt\n",
       "1   801  linc_enhancer/brain_female_m6a_without_enhance...\n",
       "2     8  linc_enhancer/brain_female_unm6a_with_enhancer...\n",
       "3  3148  linc_enhancer/brain_female_unm6a_without_enhan...\n",
       "4    13     linc_enhancer/brain_male_m6a_with_enhancer.txt"
      ]
     },
     "execution_count": 17,
     "metadata": {},
     "output_type": "execute_result"
    },
    {
     "name": "stdout",
     "output_type": "stream",
     "text": [
      "17.194132\t0.000000\tlinc_enhancer/brain_female_m6a_with_enhancer.txt\n",
      "24.910085\t0.000000\tlinc_enhancer/brain_male_m6a_with_enhancer.txt\n",
      "15.327010\t0.000000\tlinc_enhancer/heart_m6a_with_enhancer.txt\n",
      "4.294737\t0.000881\tlinc_enhancer/kidney_m6a_with_enhancer.txt\n",
      "3.498651\t0.000001\tlinc_enhancer/liver_m6a_with_enhancer.txt\n",
      "3.304848\t0.000165\tlinc_enhancer/lung_m6a_with_enhancer.txt\n",
      "3.396445\t0.000000\tlinc_enhancer/muscle_m6a_with_enhancer.txt\n",
      "4.880377\t0.000000\tlinc_enhancer/placenta_m6a_with_enhancer.txt\n",
      "4.437820\t0.000000\tlinc_enhancer/stomach_m6a_with_enhancer.txt\n",
      "1.406595\t0.059528\tlinc_enhancer/brain_female_m6a_with_enhancer\n",
      "1.619830\t0.000036\tlinc_enhancer/brain_male_m6a_with_enhancer\n",
      "1.151718\t0.512134\tlinc_enhancer/heart_m6a_with_enhancer\n",
      "1.790340\t0.003434\tlinc_enhancer/kidney_m6a_with_enhancer\n",
      "0.767689\t0.474640\tlinc_enhancer/liver_m6a_with_enhancer\n",
      "1.487335\t0.031222\tlinc_enhancer/lung_m6a_with_enhancer\n",
      "1.368009\t0.019127\tlinc_enhancer/muscle_m6a_with_enhancer\n",
      "1.457550\t0.010733\tlinc_enhancer/placenta_m6a_with_enhancer\n",
      "1.764391\t0.000132\tlinc_enhancer/stomach_m6a_with_enhancer\n"
     ]
    }
   ],
   "source": [
    "data_xls = \"/data5/galaxy/project/lncRNA_analysis/m6a_expression/expre_result/工作簿1.xlsx\"\n",
    "df = pd.read_excel(data_xls, sheet_name=\"Sheet1\", header=None, names=[\"num\", \"name\"])\n",
    "df.head()\n",
    "\n",
    "for i in range(0, len(df), 4):\n",
    "    oddsratio, pvalue = fisher_exact_test(get_num(df, i), get_num(df, i+1), get_num(df, i+2), get_num(df, i+3))\n",
    "    name = get_name(df, i)\n",
    "    print(\"%f\\t%f\\t%s\" % (oddsratio, pvalue, name))"
   ]
  },
  {
   "cell_type": "code",
   "execution_count": 15,
   "metadata": {},
   "outputs": [],
   "source": [
    "def fisher_exact_test(a, b, c, d):\n",
    "    oddsratio, pvalue = stats.fisher_exact([[a, b], [c, d]])\n",
    "    return oddsratio, pvalue\n",
    "\n",
    "def get_num(df, x):\n",
    "    return df.iloc[x, ][\"num\"]\n",
    "\n",
    "def get_name(df, x):\n",
    "    return df.iloc[x, ][\"name\"]"
   ]
  }
 ],
 "metadata": {
  "kernelspec": {
   "display_name": "Python 3",
   "language": "python",
   "name": "python3"
  },
  "language_info": {
   "codemirror_mode": {
    "name": "ipython",
    "version": 3
   },
   "file_extension": ".py",
   "mimetype": "text/x-python",
   "name": "python",
   "nbconvert_exporter": "python",
   "pygments_lexer": "ipython3",
   "version": "3.6.5"
  }
 },
 "nbformat": 4,
 "nbformat_minor": 2
}
