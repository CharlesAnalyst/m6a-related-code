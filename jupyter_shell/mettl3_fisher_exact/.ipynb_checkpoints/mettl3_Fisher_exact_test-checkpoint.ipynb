{
 "cells": [
  {
   "cell_type": "code",
   "execution_count": 1,
   "metadata": {},
   "outputs": [],
   "source": [
    "import os\n",
    "import sys\n",
    "import shutil\n",
    "import glob\n",
    "import pandas as pd\n",
    "import numpy as np\n",
    "from scipy import stats\n",
    "import subprocess\n",
    "import matplotlib.pyplot as plt\n",
    "import seaborn as sns\n",
    "%matplotlib inline\n",
    "%config InlineBackend.figure_format = 'svg'\n",
    "from multiprocessing import Pool\n",
    "from collections import Counter"
   ]
  },
  {
   "cell_type": "code",
   "execution_count": 7,
   "metadata": {},
   "outputs": [
    {
     "name": "stdout",
     "output_type": "stream",
     "text": [
      "/data5/galaxy/project/promoter_TF_enrich/data/m6a_free/promoter_bed/liver.bed\n",
      "1.8100265349850297 4.3223844959901104e-23\n",
      "/data5/galaxy/project/promoter_TF_enrich/data/m6a_free/promoter_bed/stomach.bed\n",
      "2.021274238227147 2.8474464710648426e-33\n",
      "/data5/galaxy/project/promoter_TF_enrich/data/m6a_free/promoter_bed/placenta.bed\n",
      "2.0108904741921947 3.8192180830316633e-26\n",
      "/data5/galaxy/project/promoter_TF_enrich/data/m6a_free/promoter_bed/lung.bed\n",
      "1.9341109169088238 3.073688985637997e-29\n",
      "/data5/galaxy/project/promoter_TF_enrich/data/m6a_free/promoter_bed/heart.bed\n",
      "2.087721649468345 7.215119088526416e-36\n",
      "/data5/galaxy/project/promoter_TF_enrich/data/m6a_free/promoter_bed/brain.bed\n",
      "2.379292748265396 1.6606444778722438e-49\n",
      "/data5/galaxy/project/promoter_TF_enrich/data/m6a_free/promoter_bed/muscle.bed\n",
      "1.892747547632021 2.7463568523115824e-24\n",
      "/data5/galaxy/project/promoter_TF_enrich/data/m6a_free/promoter_bed/kidney.bed\n",
      "2.1168801911108774 2.835772590992631e-27\n"
     ]
    }
   ],
   "source": [
    "# os.chdir(\"/data5/galaxy/project/lncRNA_analysis/enhancer\")\n",
    "mettle3_bed = \"/data5/galaxy/project/mettl3_enrich/macs2_peak/mettl3.bed\"\n",
    "m6a_dir = \"/data5/galaxy/project/promoter_TF_enrich/data/m6a_gene/promoter_bed\"\n",
    "m6a_list = glob.glob(\"%s/*.bed\" % m6a_dir)\n",
    "free_dir = \"/data5/galaxy/project/promoter_TF_enrich/data/m6a_free/promoter_bed\"\n",
    "                # m6a-promoter  unm6a-promoter\n",
    "# mettl3 peak         a             b\n",
    "# non_peak            c             d\n",
    "for m6a_bed in m6a_list:\n",
    "    tissue = os.path.basename(m6a_bed)\n",
    "    unm6a_bed = \"%s/%s\" % (free_dir, tissue)\n",
    "    print(unm6a_bed)\n",
    "    process_single_tissue(m6a_bed, unm6a_bed)"
   ]
  },
  {
   "cell_type": "code",
   "execution_count": 6,
   "metadata": {},
   "outputs": [],
   "source": [
    "def process_single_tissue(m_bed, u_bed):\n",
    "    a = stat_intersect_num(m_bed)\n",
    "    b = stat_intersect_num(u_bed)\n",
    "#     print(a, b)\n",
    "    c = int(os.popen(\"wc -l %s\" % m_bed).read().split()[0]) - a\n",
    "    d = int(os.popen(\"wc -l %s\" % u_bed).read().split()[0]) - b\n",
    "    fisher(a, b, c, d)"
   ]
  },
  {
   "cell_type": "code",
   "execution_count": 2,
   "metadata": {},
   "outputs": [],
   "source": [
    "def stat_intersect_num(in_bed):\n",
    "#     command = \"bedtools intersect -a %s -b %s -wa -F 0.5 | sort | uniq | wc -l\" % (in_bed, mettle3_bed)\n",
    "    command = \"bedtools intersect -a %s -b %s -wb -F 0.5 | sort | uniq | wc -l\" % (in_bed, mettle3_bed)\n",
    "    sub_p = subprocess.Popen(command, shell=True, stdout=subprocess.PIPE)\n",
    "    number = int(sub_p.communicate()[0].decode(\"utf-8\"))\n",
    "    return number"
   ]
  },
  {
   "cell_type": "code",
   "execution_count": 4,
   "metadata": {},
   "outputs": [],
   "source": [
    "def fisher(a, b, c, d):\n",
    "    oddsratio, pvalue = stats.fisher_exact([[a, b], [c, d]], alternative=\"greater\")\n",
    "    print(oddsratio, pvalue)"
   ]
  }
 ],
 "metadata": {
  "kernelspec": {
   "display_name": "Python 3",
   "language": "python",
   "name": "python3"
  },
  "language_info": {
   "codemirror_mode": {
    "name": "ipython",
    "version": 3
   },
   "file_extension": ".py",
   "mimetype": "text/x-python",
   "name": "python",
   "nbconvert_exporter": "python",
   "pygments_lexer": "ipython3",
   "version": "3.6.5"
  }
 },
 "nbformat": 4,
 "nbformat_minor": 2
}
