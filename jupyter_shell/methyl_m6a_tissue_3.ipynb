{
 "cells": [
  {
   "cell_type": "code",
   "execution_count": 1,
   "metadata": {},
   "outputs": [
    {
     "name": "stdout",
     "output_type": "stream",
     "text": [
      "/data5/galaxy/shell_dir/2018_3_17/jupyter_shell\r\n"
     ]
    }
   ],
   "source": [
    "!pwd"
   ]
  },
  {
   "cell_type": "markdown",
   "metadata": {},
   "source": [
    "#### proprocess data"
   ]
  },
  {
   "cell_type": "code",
   "execution_count": 2,
   "metadata": {},
   "outputs": [],
   "source": [
    "import os\n",
    "import sys\n",
    "import shutil\n",
    "import glob\n",
    "import pandas as pd\n",
    "import numpy as np\n",
    "from scipy import stats\n",
    "import matplotlib.pyplot as plt\n",
    "import seaborn as sns\n",
    "%matplotlib inline\n",
    "%config InlineBackend.figure_format = 'svg'\n",
    "from itertools import permutations\n",
    "from multiprocessing import Pool"
   ]
  },
  {
   "cell_type": "code",
   "execution_count": 19,
   "metadata": {
    "scrolled": true
   },
   "outputs": [
    {
     "name": "stdout",
     "output_type": "stream",
     "text": [
      "##################################\n",
      "heart_vs_brain\n",
      "############ methylation ##########\n",
      "methyl up\n",
      "expre up\texpre common\texpre down\n",
      "0.189427\t0.607195\t0.203377\n",
      "methyl down\n",
      "expre up\texpre common\texpre down\n",
      "0.186441\t0.624294\t0.189266\n",
      "##################################\n",
      "kid_vs_brain\n",
      "############ methylation ##########\n",
      "methyl up\n",
      "expre up\texpre common\texpre down\n",
      "0.157438\t0.689126\t0.153436\n",
      "methyl down\n",
      "expre up\texpre common\texpre down\n",
      "0.191882\t0.626076\t0.182042\n",
      "##################################\n",
      "lung_vs_brain\n",
      "############ methylation ##########\n",
      "methyl up\n",
      "expre up\texpre common\texpre down\n",
      "0.169188\t0.655433\t0.175378\n",
      "methyl down\n",
      "expre up\texpre common\texpre down\n",
      "0.205621\t0.582840\t0.211538\n",
      "##################################\n",
      "heart_vs_kid\n",
      "############ methylation ##########\n",
      "methyl up\n",
      "expre up\texpre common\texpre down\n",
      "0.121573\t0.736591\t0.141836\n",
      "methyl down\n",
      "expre up\texpre common\texpre down\n",
      "0.124859\t0.778403\t0.096738\n",
      "##################################\n",
      "lung_vs_heart\n",
      "############ methylation ##########\n",
      "methyl up\n",
      "expre up\texpre common\texpre down\n",
      "0.112815\t0.766703\t0.120482\n",
      "methyl down\n",
      "expre up\texpre common\texpre down\n",
      "0.139394\t0.739394\t0.121212\n",
      "##################################\n",
      "lung_vs_kid\n",
      "############ methylation ##########\n",
      "methyl up\n",
      "expre up\texpre common\texpre down\n",
      "0.077670\t0.846818\t0.075512\n",
      "methyl down\n",
      "expre up\texpre common\texpre down\n",
      "0.087600\t0.843003\t0.069397\n"
     ]
    }
   ],
   "source": [
    "m6a_dir = \"/data5/galaxy/project/methyl_m6a/data/diff_m6a_peak/macs2_bdgdiff/combination/\"\n",
    "expre_dir = \"/data5/galaxy/project/expression/DESeq2/\"\n",
    "names = get_genes_by_CpG()\n",
    "# methylation level only have these tissue data.\n",
    "subdir_list = [\"heart_vs_brain\", \"kid_vs_brain\", \"lung_vs_brain\", \"heart_vs_kid\", \"lung_vs_heart\", \"lung_vs_kid\"]\n",
    "for sub_dir in subdir_list:\n",
    "    print(\"##################################\\n%s\" % sub_dir)\n",
    "#     df_m6a_up, df_m6a_common, df_m6a_down = class_m6a_by_diffPeak(os.path.join(m6a_dir, sub_dir))\n",
    "#     df_m6a_up, df_m6a_down, df_m6a_common = filter_intersect(df_m6a_up, df_m6a_down, df_m6a_common)\n",
    "#     df_m6a = pd.concat([df_m6a_up, df_m6a_common, df_m6a_down]).dropna()\n",
    "    #\n",
    "    df_gene_up, df_gene_down = class_gene_by_diffexpre(os.path.join(expre_dir, \"%s.csv\" % sub_dir))\n",
    "#     df_gene_up = df_gene_up.merge(df_m6a, on=\"name\", how=\"left\").dropna()\n",
    "#     df_gene_down = df_gene_down.merge(df_m6a, on=\"name\", how=\"left\").dropna()\n",
    "    #\n",
    "    df_methyl_up, df_methyl_down = foldchange_of_methylation(sub_dir)\n",
    "    df_methyl_up = df_methyl_up[df_methyl_up[\"name\"].isin(names)]\n",
    "    df_methyl_down = df_methyl_down[df_methyl_down[\"name\"].isin(names)]\n",
    "#     df_up, df_down = merge_m6a_and_methyl(df_m6a, df_methyl_up, df_methyl_down)\n",
    "###\n",
    "    print(\"############ methylation ##########\")\n",
    "    statistic_proportion(df_methyl_up, df_methyl_down, df_gene_up, df_gene_down)\n",
    "#     statistic_proportion(df_m6a_up, df_m6a_common, df_m6a_down, df_up, df_down)\n",
    "# ###\n",
    "#     print(\"########### methylation with expression ##############\")\n",
    "#     df_up = filter_each_row_by_expression(df_up, df_gene_up, df_gene_down)\n",
    "#     df_down = filter_each_row_by_expression(df_down, df_gene_up, df_gene_down)\n",
    "#     statistic_proportion(df_m6a_up, df_m6a_common, df_m6a_down, df_up, df_down)"
   ]
  },
  {
   "cell_type": "code",
   "execution_count": 14,
   "metadata": {},
   "outputs": [],
   "source": [
    "# def statistic_proportion(df_m6a_up, df_m6a_common, df_m6a_down, df_gene_up, df_gene_down):\n",
    "#     print(\"up\")\n",
    "#     each_type_expre(df_gene_up)\n",
    "#     print(\"down\")\n",
    "#     each_type_expre(df_gene_down)\n",
    "    \n",
    "# def each_type_expre(df):\n",
    "#     total = len(df[\"name\"].drop_duplicates())\n",
    "#     m6a_up = len(df[df[\"name\"].isin(df_m6a_up[\"name\"])][\"name\"].drop_duplicates())\n",
    "#     m6a_common = len(df[df[\"name\"].isin(df_m6a_common[\"name\"])][\"name\"].drop_duplicates())\n",
    "#     m6a_down = len(df[df[\"name\"].isin(df_m6a_down[\"name\"])][\"name\"].drop_duplicates())\n",
    "#     up_prop, common_prop, down_prop = (m6a_up / total), (m6a_common / total), (m6a_down/ total)\n",
    "#     print(\"m6a up\\tm6a common\\tm6a down\")\n",
    "#     print(\"%f\\t%f\\t%f\" % (up_prop, common_prop, down_prop))"
   ]
  },
  {
   "cell_type": "code",
   "execution_count": 16,
   "metadata": {},
   "outputs": [],
   "source": [
    "def get_genes_by_CpG():\n",
    "    cutoff = 0.35\n",
    "    CpG_high = \"/data5/galaxy/project/CpG_m6a_motif/fasta_seq/high_CpG.bed\"\n",
    "    for in_bed in [CpG_high]:\n",
    "        df = pd.read_table(in_bed, sep=\"\\t\", header=None)\n",
    "#         df_subset = df[df.iloc[:, 4] > cutoff]\n",
    "        names = set(df.iloc[:, 3])\n",
    "    return names"
   ]
  },
  {
   "cell_type": "code",
   "execution_count": 17,
   "metadata": {},
   "outputs": [],
   "source": [
    "def statistic_proportion(df_methyl_up, df_methyl_down, df_gene_up, df_gene_down):\n",
    "    print(\"methyl up\")\n",
    "    each_type_expre(df_methyl_up, df_gene_up, df_gene_down)\n",
    "    print(\"methyl down\")\n",
    "    each_type_expre(df_methyl_down, df_gene_up, df_gene_down)\n",
    "    \n",
    "def each_type_expre(df, df_gene_up, df_gene_down):\n",
    "    total = len(df[\"name\"].drop_duplicates())\n",
    "    up = len(df[df[\"name\"].isin(df_gene_up[\"name\"])][\"name\"].drop_duplicates())\n",
    "    down = len(df[df[\"name\"].isin(df_gene_down[\"name\"])][\"name\"].drop_duplicates())\n",
    "    common = total - up - down\n",
    "    up_prop, common_prop, down_prop = (up / total), (common / total), (down/ total)\n",
    "    print(\"expre up\\texpre common\\texpre down\")\n",
    "    print(\"%f\\t%f\\t%f\" % (up_prop, common_prop, down_prop))"
   ]
  },
  {
   "cell_type": "code",
   "execution_count": 18,
   "metadata": {},
   "outputs": [],
   "source": [
    "# 81--brain; 83--heart; 86--kid; 88--lung;\n",
    "# [\"heart_vs_brain\", \"kid_vs_brain\", \"lung_vs_brain\", \"heart_vs_kid\", \"lung_vs_heart\", \"lung_vs_kid\"]\n",
    "def foldchange_of_methylation(sub_dir):\n",
    "    os.chdir(\"/data5/galaxy/project/methyl_m6a/data/roimethstat/\")\n",
    "    map_dict = {\"brain\": \"E081\", \"heart\": \"E083\", \"kid\": \"E086\", \"lung\": \"E088\"}\n",
    "    tissue_1, tissue_2 = sub_dir.split(\"_\")[0], sub_dir.split(\"_\")[-1]\n",
    "    try:\n",
    "        num_1, num_2 = map_dict[tissue_1], map_dict[tissue_2]\n",
    "    except KeyError:\n",
    "        print(\"%s %s didn't have acoording DNA methylation data!\" % (tissue_1, tissue_2))\n",
    "    df_1 = pd.read_table(\"promoter_filtered_%s.bed\" % num_1, header=None, names=[\"chr\", \"s\", \"e\", \"n\", tissue_1, \"strand\"])\n",
    "    # filtered_\n",
    "    df_1[\"name\"] = df_1[\"n\"].str.split(\":\").str[0]\n",
    "    df_2 = pd.read_table(\"promoter_filtered_%s.bed\" % num_2, header=None, names=[\"chr\", \"s\", \"e\", \"n\", tissue_2, \"strand\"])\n",
    "    df_2[\"name\"] = df_2[\"n\"].str.split(\":\").str[0]\n",
    "    df_methyl = df_1.merge(df_2, on=\"name\").dropna()\n",
    "    df_methyl[\"logFC\"] = np.log2(df_methyl[tissue_1].astype(float) + 0.0001) - np.log2(df_methyl[tissue_2].astype(float) + 0.0001)\n",
    "    df_methyl = df_methyl[[\"name\", \"logFC\"]].sort_values([\"logFC\"], ascending=False)\n",
    "#     print(df_methyl.head())\n",
    "#     print(df_1[tissue_1].median(), df_2[tissue_2].median())\n",
    "    df_methyl_up = df_methyl[df_methyl[\"logFC\"] > 1]\n",
    "#     df_methyl_common = df_methyl[ -1 < df_methyl[\"logFC\"] < 1]\n",
    "    df_methyl_down = df_methyl[df_methyl[\"logFC\"] < -1]\n",
    "    return df_methyl_up, df_methyl_down"
   ]
  },
  {
   "cell_type": "code",
   "execution_count": 12,
   "metadata": {},
   "outputs": [],
   "source": [
    "# def class_and_merge(work_dir, df_methylation):\n",
    "#     df_m6a_up, df_m6a_down = class_m6a_by_diffPeak(work_dir)\n",
    "#     df_up, df_down, df_remain = merge_m6a_and_methyl(df_m6a_up, df_m6a_down, df_methylation)\n",
    "#     return df_up, df_down, df_remain\n",
    "    \n",
    "# def class_m6a_by_diffPeak(work_dir):\n",
    "#     os.chdir(work_dir)\n",
    "#     m6a_up = pd.read_table(\"diff_peak_c3.0_cond1_anno.txt\", sep=\"\\t\", header=None, names=[\"name\", \"m6a_score\"])\n",
    "#     m6a_common = pd.read_table(\"diff_peak_c3.0_common_anno.txt\", sep=\"\\t\", header=None, names=[\"name\", \"m6a_score\"])\n",
    "#     m6a_down = pd.read_table(\"diff_peak_c3.0_cond2_anno.txt\", sep=\"\\t\", header=None, names=[\"name\", \"m6a_score\"])\n",
    "#     # m6a score 计算方式\n",
    "#     df_m6a_up = m6a_up.groupby([\"name\"]).mean().reset_index()\n",
    "#     df_m6a_common = m6a_common.groupby([\"name\"]).mean().reset_index()\n",
    "#     df_m6a_down = m6a_down.groupby([\"name\"]).mean().reset_index()\n",
    "#     df_m6a_up, df_m6a_down, df_m6a_common = filter_intersect(df_m6a_up, df_m6a_down, df_m6a_common)\n",
    "#     return df_m6a_up, df_m6a_common, df_m6a_down\n",
    "    \n",
    "# def filter_intersect(df_up, df_down, df_remain):\n",
    "# #     print(\"before\", len(df_up), len(df_down), len(df_remain))\n",
    "#     up_genes, down_genes, remain_genes = set(df_up[\"name\"]), set(df_down[\"name\"]), set(df_remain[\"name\"])\n",
    "#     uniq_up = up_genes - down_genes - remain_genes\n",
    "#     uniq_down = down_genes - up_genes - remain_genes\n",
    "#     uniq_remain = remain_genes - up_genes - down_genes\n",
    "#     df_up, df_down, df_remain = select_uniq(uniq_up, df_up), select_uniq(uniq_down, df_down), select_uniq(uniq_remain, df_remain)\n",
    "# #     print(\"after\", len(uniq_up), len(uniq_down), len(uniq_remain))\n",
    "# #     print(\"after\", len(df_up), len(df_down), len(df_remain))\n",
    "#     return df_up, df_down, df_remain\n",
    "\n",
    "# def merge_m6a_and_methyl(df_m6a, df_methyl_up, df_methyl_down):\n",
    "#     df_up = df_m6a.merge(df_methyl_up, on=\"name\", how=\"right\").dropna().drop_duplicates()\n",
    "# #     df_common = df_m6a.merge(df_methyl_common, on=\"name\", how=\"right\").dropna().drop_duplicates()\n",
    "#     df_down = df_m6a.merge(df_methyl_down, on=\"name\", how=\"right\").dropna().drop_duplicates()\n",
    "#     return df_up, df_down"
   ]
  },
  {
   "cell_type": "code",
   "execution_count": 7,
   "metadata": {},
   "outputs": [],
   "source": [
    "def format_gene_name(df):\n",
    "    df[\"name\"] = df[\"Unnamed: 0\"].str.split(\".\").str[0]\n",
    "#     df = df.set_index([\"name\"])\n",
    "    del df[\"Unnamed: 0\"]\n",
    "    return df\n",
    "\n",
    "def class_gene_by_diffexpre(DESeq2_file):\n",
    "    df = pd.read_csv(DESeq2_file)\n",
    "    df = df[(abs(df.log2FoldChange) > 1) & (df.padj < 0.05)]\n",
    "    df_up, df_down = df.copy()[df.log2FoldChange > 0], df.copy()[df.log2FoldChange < 0]\n",
    "#     print(len(df_up), len(df_down))\n",
    "    return format_gene_name(df_up), format_gene_name(df_down)"
   ]
  },
  {
   "cell_type": "code",
   "execution_count": 8,
   "metadata": {},
   "outputs": [],
   "source": [
    "## 2.we find the Spearman rho between a row of expression data and each row of methylation data, and we keep the row of methylation data that produces the most-negative rho value\n",
    "# def filter_each_row_by_expression(df, df_gene_up, df_gene_down):\n",
    "# #     print(len(df))\n",
    "#     df_pos, df_neg = df[df.logFC >0], df[df.logFC <0]\n",
    "# #     print(len(df_pos), len(df_neg))\n",
    "# #     print(df_pos.head())\n",
    "# #     print(df_gene_up.head())\n",
    "#     up_genes, down_genes, total_genes = df_gene_up.name, df_gene_down.name, list(set(df[\"name\"].tolist()))\n",
    "# #     remain_genes = [x for x in total_genes if (x not in up_genes) and (x not in down_genes)]\n",
    "#     df_pos = df_pos[df_pos[\"name\"].isin(down_genes)]\n",
    "#     df_neg = df_neg[df_neg[\"name\"].isin(up_genes)]\n",
    "# #     print(len(df_pos), len(df_neg))\n",
    "#     df_coordinate = pd.concat([df_pos, df_neg]).dropna()\n",
    "# #     df_unchange = df[df[\"name\"].isin(remain_genes)]\n",
    "# #     print(len(df), len(df_coordinate), len(df_unchange))\n",
    "#     return df_coordinate"
   ]
  },
  {
   "cell_type": "code",
   "execution_count": 9,
   "metadata": {},
   "outputs": [],
   "source": [
    "# def intersect_m6a_expre_methyl(df_type, df_list, df_methyl):\n",
    "#     df = df_list[0].merge(df_list[1], on=\"name\", how=\"left\").merge(df_methyl, on=\"name\", how=\"left\").dropna()\n",
    "#     if df_type == \"up\":\n",
    "#         df_coor = df[(df[\"logFC\"] < 0) & (abs(df[\"logFC\"]) > 1)][[\"name\", \"m6a_score\", \"log2FoldChange\", \"logFC\"]]\n",
    "#         df_unchange = df[(df[\"logFC\"] < 0) & (abs(df[\"logFC\"]) < 1)][[\"name\", \"m6a_score\", \"log2FoldChange\", \"logFC\"]]\n",
    "#     elif df_type == \"down\":\n",
    "#         df_coor = df[(df[\"logFC\"] > 0) & (abs(df[\"logFC\"]) > 1)][[\"name\", \"m6a_score\", \"log2FoldChange\", \"logFC\"]]\n",
    "#         df_unchange = df[(df[\"logFC\"] > 0) & (abs(df[\"logFC\"]) < 1)][[\"name\", \"m6a_score\", \"log2FoldChange\", \"logFC\"]]\n",
    "#     else:\n",
    "#         print(\"%s is not identified!\" % df_type)\n",
    "#     print(df.head(), len(df))\n",
    "#     return df_coor, df_unchange\n",
    "#     return df"
   ]
  },
  {
   "cell_type": "code",
   "execution_count": 10,
   "metadata": {},
   "outputs": [],
   "source": [
    "def filter_intersect(df_up, df_down, df_remain):\n",
    "#     print(\"before\", len(df_up), len(df_down), len(df_remain))\n",
    "    up_genes, down_genes, remain_genes = set(df_up[\"name\"]), set(df_down[\"name\"]), set(df_remain[\"name\"])\n",
    "    uniq_up = up_genes - down_genes - remain_genes\n",
    "    uniq_down = down_genes - up_genes - remain_genes\n",
    "    uniq_remain = remain_genes - up_genes - down_genes\n",
    "    df_up, df_down, df_remain = select_uniq(uniq_up, df_up), select_uniq(uniq_down, df_down), select_uniq(uniq_remain, df_remain)\n",
    "#     print(\"after\", len(uniq_up), len(uniq_down), len(uniq_remain))\n",
    "#     print(\"after\", len(df_up), len(df_down), len(df_remain))\n",
    "    return df_up, df_down, df_remain\n",
    "    \n",
    "def select_uniq(query_list, df):\n",
    "    df = df[df[\"name\"].isin(query_list)]\n",
    "    return df"
   ]
  },
  {
   "cell_type": "code",
   "execution_count": 46,
   "metadata": {},
   "outputs": [],
   "source": [
    "# def boxplot(df_up, df_down, df_remain, sub_dir):\n",
    "# #     df_up_down = pd.DataFrame({\"up\": df_up_coor[\"logFC\"], \"up_unchanged\": df_up_unchange[\"logFC\"], \n",
    "# #                                \"down\": df_down_coor[\"logFC\"], \"down_unchanged\": df_down_unchange[\"logFC\"]})\n",
    "# #     g = sns.boxplot(data=df_up_down, order=[\"down\", \"down_unchanged\", \"up\", \"up_unchanged\"], saturation=0.5, showfliers=False)\n",
    "#     df_up_down = pd.DataFrame({\"up\": df_up[\"logFC\"], \"down\": df_down[\"logFC\"], \"remain\": df_remain[\"logFC\"]})\n",
    "#     g = sns.boxplot(data=df_up_down, order=[\"down\", \"up\", \"remain\"], saturation=0.5, showfliers=False)\n",
    "#     g.set_ylabel(\"log2fc of methylation level\", size = 14, color=\"black\", alpha=1)\n",
    "#     plt.title(sub_dir)\n",
    "#     plt.savefig(\"/data5/galaxy/project/methyl_m6a/analysis_result_6/%s.pdf\" % sub_dir)\n",
    "#     plt.close()\n",
    "#     print(len(df_up_down[\"down\"].dropna()), len(df_up_down[\"up\"].dropna()), len(df_up_down[\"remain\"].dropna()))\n",
    "#     print(df_up_down[\"down\"].median(), df_up_down[\"up\"].median(), df_up_down[\"remain\"].median())\n",
    "    # return df_up_down"
   ]
  },
  {
   "cell_type": "code",
   "execution_count": 2,
   "metadata": {},
   "outputs": [],
   "source": [
    "# def prepare_plot_data(sub_dir, df_up, df_down, df_remain):\n",
    "#     result_file = \"/data5/galaxy/project/methyl_m6a/data/plot_data/%s.txt\" % sub_dir\n",
    "#     df_up[\"m6a_type\"] = \"up\"\n",
    "#     df_down[\"m6a_type\"] = \"down\"\n",
    "#     df_remain[\"m6a_type\"] = \"remain\"\n",
    "#     df = pd.concat([df_up, df_down, df_remain], sort=True)\n",
    "#     df.to_csv(result_file, sep=\"\\t\", index=False)"
   ]
  }
 ],
 "metadata": {
  "kernelspec": {
   "display_name": "Python 3",
   "language": "python",
   "name": "python3"
  },
  "language_info": {
   "codemirror_mode": {
    "name": "ipython",
    "version": 3
   },
   "file_extension": ".py",
   "mimetype": "text/x-python",
   "name": "python",
   "nbconvert_exporter": "python",
   "pygments_lexer": "ipython3",
   "version": "3.6.5"
  }
 },
 "nbformat": 4,
 "nbformat_minor": 2
}
