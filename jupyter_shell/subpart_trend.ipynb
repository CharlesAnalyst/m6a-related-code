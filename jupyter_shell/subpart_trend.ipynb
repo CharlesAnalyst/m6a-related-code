{
 "cells": [
  {
   "cell_type": "code",
   "execution_count": 1,
   "metadata": {},
   "outputs": [
    {
     "name": "stdout",
     "output_type": "stream",
     "text": [
      "/data5/galaxy/shell_dir/2018_3_17/jupyter_shell\r\n"
     ]
    }
   ],
   "source": [
    "!pwd"
   ]
  },
  {
   "cell_type": "code",
   "execution_count": 2,
   "metadata": {},
   "outputs": [],
   "source": [
    "import os\n",
    "import shutil\n",
    "import glob\n",
    "import pandas as pd\n",
    "import numpy as np\n",
    "from scipy import stats\n",
    "import matplotlib.pyplot as plt\n",
    "import seaborn as sns\n",
    "%matplotlib inline\n",
    "%config InlineBackend.figure_format = 'svg'\n",
    "from itertools import permutations\n",
    "from multiprocessing import Pool"
   ]
  },
  {
   "cell_type": "code",
   "execution_count": 25,
   "metadata": {
    "collapsed": true
   },
   "outputs": [
    {
     "name": "stdout",
     "output_type": "stream",
     "text": [
      "heart_vs_brain\n",
      "heart\n",
      "#### coorelation between expression && m6a!\n",
      "expression vs m6a without methylation\n",
      "SpearmanrResult(correlation=-0.2249027381571596, pvalue=1.02332899971635e-179)\n",
      "expression vs m6a with methylation\n",
      "SpearmanrResult(correlation=-0.061834730247670854, pvalue=0.32249826407626503)\n",
      "brain\n",
      "#### coorelation between expression && m6a!\n",
      "expression vs m6a without methylation\n",
      "SpearmanrResult(correlation=-0.2278449261923644, pvalue=4.573013679409501e-199)\n",
      "expression vs m6a with methylation\n",
      "SpearmanrResult(correlation=-0.0741689793823157, pvalue=0.2176613463145204)\n",
      "kid_vs_brain\n",
      "kid\n",
      "#### coorelation between expression && m6a!\n",
      "expression vs m6a without methylation\n",
      "SpearmanrResult(correlation=-0.2548717810973115, pvalue=2.0159091753688507e-289)\n",
      "expression vs m6a with methylation\n",
      "SpearmanrResult(correlation=-0.01684814055294072, pvalue=0.7618486085643068)\n",
      "brain\n",
      "#### coorelation between expression && m6a!\n",
      "expression vs m6a without methylation\n",
      "SpearmanrResult(correlation=-0.2278449261923644, pvalue=4.573013679409501e-199)\n",
      "expression vs m6a with methylation\n",
      "SpearmanrResult(correlation=-0.10936683309151016, pvalue=0.04057719484963157)\n",
      "lung_vs_brain\n",
      "lung\n",
      "#### coorelation between expression && m6a!\n",
      "expression vs m6a without methylation\n",
      "SpearmanrResult(correlation=-0.3288014854351937, pvalue=0.0)\n",
      "expression vs m6a with methylation\n",
      "SpearmanrResult(correlation=-0.19868345813287278, pvalue=0.0022619119771934908)\n",
      "brain\n",
      "#### coorelation between expression && m6a!\n",
      "expression vs m6a without methylation\n",
      "SpearmanrResult(correlation=-0.2278449261923644, pvalue=4.573013679409501e-199)\n",
      "expression vs m6a with methylation\n",
      "SpearmanrResult(correlation=-0.1142871561174319, pvalue=0.09778573810674586)\n",
      "heart_vs_kid\n",
      "heart\n",
      "#### coorelation between expression && m6a!\n",
      "expression vs m6a without methylation\n",
      "SpearmanrResult(correlation=-0.2249027381571596, pvalue=1.02332899971635e-179)\n",
      "expression vs m6a with methylation\n",
      "SpearmanrResult(correlation=-0.2061186433241191, pvalue=0.0020220306925294762)\n",
      "kid\n",
      "#### coorelation between expression && m6a!\n",
      "expression vs m6a without methylation\n",
      "SpearmanrResult(correlation=-0.2548717810973115, pvalue=2.0159091753688507e-289)\n",
      "expression vs m6a with methylation\n",
      "SpearmanrResult(correlation=-0.315686166690176, pvalue=6.5710466856211505e-06)\n",
      "lung_vs_heart\n",
      "lung\n",
      "#### coorelation between expression && m6a!\n",
      "expression vs m6a without methylation\n",
      "SpearmanrResult(correlation=-0.3288014854351937, pvalue=0.0)\n",
      "expression vs m6a with methylation\n",
      "SpearmanrResult(correlation=-0.18674511997711707, pvalue=0.015359774829890812)\n",
      "heart\n",
      "#### coorelation between expression && m6a!\n",
      "expression vs m6a without methylation\n",
      "SpearmanrResult(correlation=-0.2249027381571596, pvalue=1.02332899971635e-179)\n",
      "expression vs m6a with methylation\n",
      "SpearmanrResult(correlation=-0.12172188141946506, pvalue=0.12282762249121998)\n",
      "lung_vs_kid\n",
      "lung\n",
      "#### coorelation between expression && m6a!\n",
      "expression vs m6a without methylation\n",
      "SpearmanrResult(correlation=-0.3288014854351937, pvalue=0.0)\n",
      "expression vs m6a with methylation\n",
      "SpearmanrResult(correlation=-0.1535217830949538, pvalue=0.030395458669741172)\n",
      "kid\n",
      "#### coorelation between expression && m6a!\n",
      "expression vs m6a without methylation\n",
      "SpearmanrResult(correlation=-0.2548717810973115, pvalue=2.0159091753688507e-289)\n",
      "expression vs m6a with methylation\n",
      "SpearmanrResult(correlation=-0.10351431784738058, pvalue=0.16912522095208632)\n"
     ]
    }
   ],
   "source": [
    "m6a_dir = \"/data5/galaxy/project/methyl_m6a/data/diff_m6a_peak/macs2_bdgdiff/combination/\"\n",
    "expre_dir = \"/data5/galaxy/project/expression/DESeq2/\"\n",
    "expre_file = \"/data5/galaxy/project/expression/stringtie/Total-RPKM.txt\"\n",
    "subdir_list = [\"heart_vs_brain\", \"kid_vs_brain\", \"lung_vs_brain\", \"heart_vs_kid\", \"lung_vs_heart\", \"lung_vs_kid\"]\n",
    "#\n",
    "df_total_exp = get_expre()\n",
    "#\n",
    "for sub_dir in subdir_list:\n",
    "    print(sub_dir)\n",
    "    df_gene_up, df_gene_down = class_gene_by_diffexpre(os.path.join(expre_dir, \"%s.csv\" % sub_dir))\n",
    "    df_methyl_up, df_methyl_down = class_methyl_run(sub_dir)\n",
    "    tissue_1, tissue_2 = sub_dir.split(\"_\")[0], sub_dir.split(\"_\")[-1]\n",
    "    # term_dict = dict(zip([\"DNA methyl up\", \"DNA methyl down\"], [df_methyl_up, df_methyl_down]))\n",
    "    for tissue in [tissue_1, tissue_2]:\n",
    "        print(tissue)\n",
    "        #for term, df_m in term_dict.items():\n",
    "            # print(term)\n",
    "        df_m6a = get_m6a(tissue)\n",
    "        df_expre = df_total_exp[[\"name\", tissue]]\n",
    "        print(\"#### coorelation between expression && m6a!\")\n",
    "        print(\"expression vs m6a without methylation\")\n",
    "        df = df_m6a.merge(df_expre, on=\"name\", how=\"left\").dropna()\n",
    "#         print(stats.spearmanr(df[tissue], df[\"m6a_score\"]))\n",
    "\n",
    "        ##\n",
    "        ##\n",
    "        print(\"expression vs m6a with methylation\")\n",
    "        df_total_methyl = get_methylation(tissue)\n",
    "        # df_methyl = df_total_methyl.merge(df_m, on=\"name\", how=\"right\").dropna()\n",
    "        df = df_m6a.merge(df_expre, on=\"name\", how=\"left\").merge(df_methyl, on=\"name\", how=\"left\").dropna()\n",
    "        df_map_1 = df[(df[\"name\"].isin(df_gene_down.name)) & (df[\"name\"].isin(df_methyl_up.name))]\n",
    "        df_map_2 = df[(df[\"name\"].isin(df_gene_up.name)) & (df[\"name\"].isin(df_methyl_down.name))]\n",
    "        df_coor = pd.concat([df_map_1, df_map_2])\n",
    "#         print(df_coor.head())\n",
    "        print(stats.spearmanr(df_coor[tissue], df_coor[\"m6a_score\"]))\n",
    "#             print(\"#### coorelation between expression && methylation!\")\n",
    "#             print(stats.spearmanr(df[tissue], df[\"methyl\"]))\n",
    "#             print(stats.pearsonr(df[tissue], df[\"methyl\"]))\n",
    "#             #\n",
    "#             print(\"#### coorelation between methylation && m6a!\")\n",
    "#             print(stats.spearmanr(df[\"methyl\"], df[\"m6a_score\"]))\n",
    "#             print(stats.pearsonr(df[\"methyl\"], df[\"m6a_score\"]))\n",
    "#     break"
   ]
  },
  {
   "cell_type": "code",
   "execution_count": null,
   "metadata": {},
   "outputs": [],
   "source": [
    "def "
   ]
  },
  {
   "cell_type": "code",
   "execution_count": 3,
   "metadata": {},
   "outputs": [],
   "source": [
    "def class_methyl_run(sub_dir):\n",
    "    df_methyl = foldchange_of_methylation(sub_dir)\n",
    "    df_up, df_down = class_methyl(df_methyl)\n",
    "    return df_up.drop_duplicates(), df_down.drop_duplicates()\n",
    "# 81--brain; 83--heart; 86--kid; 88--lung;\n",
    "# [\"heart_vs_brain\", \"kid_vs_brain\", \"lung_vs_brain\", \"heart_vs_kid\", \"lung_vs_heart\", \"lung_vs_kid\"]\n",
    "def foldchange_of_methylation(sub_dir):\n",
    "    os.chdir(\"/data5/galaxy/project/methyl_m6a/data/roimethstat/\")\n",
    "    map_dict = {\"brain\": \"E081\", \"heart\": \"E083\", \"kid\": \"E086\", \"lung\": \"E088\"}\n",
    "    tissue_1, tissue_2 = sub_dir.split(\"_\")[0], sub_dir.split(\"_\")[-1]\n",
    "    try:\n",
    "        num_1, num_2 = map_dict[tissue_1], map_dict[tissue_2]\n",
    "    except KeyError:\n",
    "        print(\"%s %s didn't have acoording DNA methylation data!\" % (tissue_1, tissue_2))\n",
    "    df_1 = pd.read_table(\"promoter_%s.bed\" % num_1, header=None, names=[\"chr\", \"s\", \"e\", \"n\", tissue_1, \"strand\"])\n",
    "    df_1[\"name\"] = df_1[\"n\"].str.split(\":\").str[0]\n",
    "    df_2 = pd.read_table(\"promoter_%s.bed\" % num_2, header=None, names=[\"chr\", \"s\", \"e\", \"n\", tissue_2, \"strand\"])\n",
    "    df_2[\"name\"] = df_2[\"n\"].str.split(\":\").str[0]\n",
    "    df_methyl = df_1.merge(df_2, on=\"name\").dropna()\n",
    "    df_methyl[\"logFC\"] = np.log2(df_methyl[tissue_1].astype(float) + 0.01) - np.log2(df_methyl[tissue_2].astype(float) + 0.01)\n",
    "    df_methyl = df_methyl[[\"name\", \"logFC\"]]\n",
    "#     print(df_1[tissue_1].mean(), df_2[tissue_2].mean())\n",
    "    return df_methyl\n",
    "\n",
    "def class_methyl(df):\n",
    "    df_up = df[(df[\"logFC\"] > 0) & (abs(df[\"logFC\"]) > 0.585)]\n",
    "    df_down = df[(df[\"logFC\"] < 0) & (abs(df[\"logFC\"]) > 0.585)]\n",
    "    return df_up, df_down"
   ]
  },
  {
   "cell_type": "code",
   "execution_count": 13,
   "metadata": {},
   "outputs": [],
   "source": [
    "def get_m6a(tissue_name):\n",
    "    m6a_dir = \"/data5/xlj/new_tissue_m6A/Macs2/Filter/Merge-Dup/peak2gene/gene_m6A_level\"\n",
    "    os.chdir(m6a_dir)\n",
    "    tissue_list = [\"brain\", \"heart\", \"kid\", \"lung\"]\n",
    "    real_list = [\"Brain\", \"Heart\", \"Kidney\", \"Lung\"]\n",
    "    map_dict = dict(zip(tissue_list, real_list))\n",
    "    try:\n",
    "        m6a_file = map_dict[tissue_name]\n",
    "    except KeyError:\n",
    "        print(\"%s doesn't have the according\" % m6a_dir)\n",
    "    df = pd.read_table(m6a_file, sep=\"\\t\", header=None, names=[\"name\", \"m6a_score\"])\n",
    "    df[\"name\"] = df[\"name\"].str.split(\".\").str[0]\n",
    "    return df"
   ]
  },
  {
   "cell_type": "code",
   "execution_count": 11,
   "metadata": {},
   "outputs": [],
   "source": [
    "def get_expre():\n",
    "    df = pd.read_table(expre_file, sep=\"\\t\")\n",
    "    df.columns = [\"gene\", \"brain\", \"heart\", \"kid\", \"liver\", \"pla\", \"lung\", \"mus\", \"sto\"]\n",
    "    df[\"name\"] = df[\"gene\"].str.split(\".\").str[0]\n",
    "    return df"
   ]
  },
  {
   "cell_type": "code",
   "execution_count": 18,
   "metadata": {},
   "outputs": [],
   "source": [
    "def get_methylation(tissue):\n",
    "    os.chdir(\"/data5/galaxy/project/methyl_m6a/data/roimethstat/\")\n",
    "    map_dict = {\"brain\": \"E081\", \"heart\": \"E083\", \"kid\": \"E086\", \"lung\": \"E088\"}\n",
    "    try:\n",
    "        num = map_dict[tissue]\n",
    "    except KeyError:\n",
    "        print(\"%s didn't have acoording DNA methylation data!\" % tissue)\n",
    "    df = pd.read_table(\"promoter_%s.bed\" % num, header=None, names=[\"chr\", \"s\", \"e\", \"n\", \"methyl\", \"strand\"])\n",
    "    df[\"name\"] = df[\"n\"].str.split(\":\").str[0]\n",
    "    df[\"methyl\"] = df[\"methyl\"].astype(float)\n",
    "    df = df[[\"name\", \"methyl\"]]\n",
    "    return df"
   ]
  },
  {
   "cell_type": "code",
   "execution_count": 21,
   "metadata": {},
   "outputs": [],
   "source": [
    "def format_gene_name(df):\n",
    "    df[\"name\"] = df[\"Unnamed: 0\"].str.split(\".\").str[0]\n",
    "#     df = df.set_index([\"name\"])\n",
    "    del df[\"Unnamed: 0\"]\n",
    "    return df\n",
    "\n",
    "def class_gene_by_diffexpre(DESeq2_file):\n",
    "    df = pd.read_csv(DESeq2_file)\n",
    "    df = df[(abs(df.log2FoldChange) > 1) & (df.padj < 0.05)]\n",
    "    df_up, df_down = df.copy()[df.log2FoldChange > 0], df.copy()[df.log2FoldChange < 0]\n",
    "#     print(len(df_up), len(df_down))\n",
    "    return format_gene_name(df_up), format_gene_name(df_down)"
   ]
  }
 ],
 "metadata": {
  "kernelspec": {
   "display_name": "Python 3",
   "language": "python",
   "name": "python3"
  },
  "language_info": {
   "codemirror_mode": {
    "name": "ipython",
    "version": 3
   },
   "file_extension": ".py",
   "mimetype": "text/x-python",
   "name": "python",
   "nbconvert_exporter": "python",
   "pygments_lexer": "ipython3",
   "version": "3.6.5"
  }
 },
 "nbformat": 4,
 "nbformat_minor": 2
}
