{
 "cells": [
  {
   "cell_type": "markdown",
   "metadata": {},
   "source": [
    "###### all analysis conserved at this dir."
   ]
  },
  {
   "cell_type": "code",
   "execution_count": 1,
   "metadata": {},
   "outputs": [
    {
     "name": "stdout",
     "output_type": "stream",
     "text": [
      "/data5/galaxy/project/promoter_new_version/data/total/hand_work/2kb_2kb\n"
     ]
    }
   ],
   "source": [
    "cd /data5/galaxy/project/promoter_new_version/data/total/hand_work/2kb_2kb"
   ]
  },
  {
   "cell_type": "code",
   "execution_count": 19,
   "metadata": {
    "collapsed": true
   },
   "outputs": [],
   "source": [
    "import os\n",
    "import glob\n",
    "import pandas as pd\n",
    "import numpy as np\n",
    "from scipy import stats\n",
    "import seaborn as sns\n",
    "import matplotlib.pyplot as plt\n",
    "# os.makedirs(\"data\")\n",
    "# os.makedirs(\"analysis\")"
   ]
  },
  {
   "cell_type": "code",
   "execution_count": 3,
   "metadata": {},
   "outputs": [
    {
     "data": {
      "text/html": [
       "<div>\n",
       "<style>\n",
       "    .dataframe thead tr:only-child th {\n",
       "        text-align: right;\n",
       "    }\n",
       "\n",
       "    .dataframe thead th {\n",
       "        text-align: left;\n",
       "    }\n",
       "\n",
       "    .dataframe tbody tr th {\n",
       "        vertical-align: top;\n",
       "    }\n",
       "</style>\n",
       "<table border=\"1\" class=\"dataframe\">\n",
       "  <thead>\n",
       "    <tr style=\"text-align: right;\">\n",
       "      <th></th>\n",
       "      <th>chr</th>\n",
       "      <th>start</th>\n",
       "      <th>end</th>\n",
       "      <th>gene id</th>\n",
       "      <th>score</th>\n",
       "      <th>strand</th>\n",
       "    </tr>\n",
       "  </thead>\n",
       "  <tbody>\n",
       "    <tr>\n",
       "      <th>0</th>\n",
       "      <td>chr1</td>\n",
       "      <td>11869</td>\n",
       "      <td>14409</td>\n",
       "      <td>ENSG00000223972</td>\n",
       "      <td>2540</td>\n",
       "      <td>+</td>\n",
       "    </tr>\n",
       "    <tr>\n",
       "      <th>1</th>\n",
       "      <td>chr1</td>\n",
       "      <td>14404</td>\n",
       "      <td>29570</td>\n",
       "      <td>ENSG00000227232</td>\n",
       "      <td>15166</td>\n",
       "      <td>-</td>\n",
       "    </tr>\n",
       "    <tr>\n",
       "      <th>2</th>\n",
       "      <td>chr1</td>\n",
       "      <td>17369</td>\n",
       "      <td>17436</td>\n",
       "      <td>ENSG00000278267</td>\n",
       "      <td>67</td>\n",
       "      <td>-</td>\n",
       "    </tr>\n",
       "    <tr>\n",
       "      <th>3</th>\n",
       "      <td>chr1</td>\n",
       "      <td>29554</td>\n",
       "      <td>31109</td>\n",
       "      <td>ENSG00000243485</td>\n",
       "      <td>1555</td>\n",
       "      <td>+</td>\n",
       "    </tr>\n",
       "    <tr>\n",
       "      <th>4</th>\n",
       "      <td>chr1</td>\n",
       "      <td>30366</td>\n",
       "      <td>30503</td>\n",
       "      <td>ENSG00000284332</td>\n",
       "      <td>137</td>\n",
       "      <td>+</td>\n",
       "    </tr>\n",
       "  </tbody>\n",
       "</table>\n",
       "</div>"
      ],
      "text/plain": [
       "    chr  start    end          gene id  score strand\n",
       "0  chr1  11869  14409  ENSG00000223972   2540      +\n",
       "1  chr1  14404  29570  ENSG00000227232  15166      -\n",
       "2  chr1  17369  17436  ENSG00000278267     67      -\n",
       "3  chr1  29554  31109  ENSG00000243485   1555      +\n",
       "4  chr1  30366  30503  ENSG00000284332    137      +"
      ]
     },
     "execution_count": 3,
     "metadata": {},
     "output_type": "execute_result"
    }
   ],
   "source": [
    "df = pd.read_table(\"/data/database/GRCh38/GENCODE/Genes_ensembl.bed\", sep=\"\\t\", header=None, names=[\"chr\", \"start\", \"end\", \"gene id\", \"score\", \"strand\"])\n",
    "df[\"score\"] = df[\"end\"] - df[\"start\"]\n",
    "df.head()"
   ]
  },
  {
   "cell_type": "code",
   "execution_count": 7,
   "metadata": {},
   "outputs": [
    {
     "data": {
      "image/png": "[encoded data removed]",
      "text/plain": [
       "<matplotlib.figure.Figure at 0x7f5c95d58588>"
      ]
     },
     "metadata": {},
     "output_type": "display_data"
    }
   ],
   "source": [
    "import matplotlib.mlab as mlab\n",
    "data_list = df[\"score\"]\n",
    "num_bins, mean, std = 100, np.mean(data_list), np.std(data_list)\n",
    "plt.hist(data_list, num_bins, normed=1, histtype=\"step\", color=\"black\", cumulative=True, alpha=0.5)\n",
    "# y = mlab.normpdf(bins, mean, std)\n",
    "# plt.plot(bins, y, \"r--\")\n",
    "plt.show()"
   ]
  },
  {
   "cell_type": "code",
   "execution_count": 9,
   "metadata": {},
   "outputs": [
    {
     "data": {
      "text/plain": [
       "7"
      ]
     },
     "execution_count": 9,
     "metadata": {},
     "output_type": "execute_result"
    }
   ],
   "source": [
    "min(df[\"score\"])"
   ]
  },
  {
   "cell_type": "code",
   "execution_count": 10,
   "metadata": {},
   "outputs": [
    {
     "data": {
      "text/plain": [
       "2473536"
      ]
     },
     "execution_count": 10,
     "metadata": {},
     "output_type": "execute_result"
    }
   ],
   "source": [
    "max(df[\"score\"])"
   ]
  },
  {
   "cell_type": "code",
   "execution_count": 26,
   "metadata": {},
   "outputs": [
    {
     "data": {
      "image/png": "[encoded data removed]",
      "text/plain": [
       "<matplotlib.figure.Figure at 0x7f5c945ffef0>"
      ]
     },
     "metadata": {},
     "output_type": "display_data"
    }
   ],
   "source": [
    "df_chr_others = df[df[\"chr\"] != \"chrM\"]\n",
    "df_others = df_chr_others.sort_values(by=[\"score\"], ascending=True)\n",
    "# df_others.head(n=50)\n",
    "sns.boxplot(df_others[\"score\"], orient=\"v\", showfliers=False)\n",
    "plt.show()"
   ]
  },
  {
   "cell_type": "code",
   "execution_count": 13,
   "metadata": {},
   "outputs": [
    {
     "data": {
      "text/html": [
       "<div>\n",
       "<style>\n",
       "    .dataframe thead tr:only-child th {\n",
       "        text-align: right;\n",
       "    }\n",
       "\n",
       "    .dataframe thead th {\n",
       "        text-align: left;\n",
       "    }\n",
       "\n",
       "    .dataframe tbody tr th {\n",
       "        vertical-align: top;\n",
       "    }\n",
       "</style>\n",
       "<table border=\"1\" class=\"dataframe\">\n",
       "  <thead>\n",
       "    <tr style=\"text-align: right;\">\n",
       "      <th></th>\n",
       "      <th>chr</th>\n",
       "      <th>promoter_start</th>\n",
       "      <th>promoter_end</th>\n",
       "      <th>gene id</th>\n",
       "      <th>score</th>\n",
       "      <th>strand</th>\n",
       "    </tr>\n",
       "  </thead>\n",
       "  <tbody>\n",
       "    <tr>\n",
       "      <th>0</th>\n",
       "      <td>chr1</td>\n",
       "      <td>9869</td>\n",
       "      <td>13869</td>\n",
       "      <td>ENSG00000223972</td>\n",
       "      <td>4000</td>\n",
       "      <td>+</td>\n",
       "    </tr>\n",
       "    <tr>\n",
       "      <th>2</th>\n",
       "      <td>chr1</td>\n",
       "      <td>15436</td>\n",
       "      <td>19436</td>\n",
       "      <td>ENSG00000278267</td>\n",
       "      <td>4000</td>\n",
       "      <td>-</td>\n",
       "    </tr>\n",
       "    <tr>\n",
       "      <th>3</th>\n",
       "      <td>chr1</td>\n",
       "      <td>27554</td>\n",
       "      <td>31554</td>\n",
       "      <td>ENSG00000243485</td>\n",
       "      <td>4000</td>\n",
       "      <td>+</td>\n",
       "    </tr>\n",
       "    <tr>\n",
       "      <th>1</th>\n",
       "      <td>chr1</td>\n",
       "      <td>27570</td>\n",
       "      <td>31570</td>\n",
       "      <td>ENSG00000227232</td>\n",
       "      <td>4000</td>\n",
       "      <td>-</td>\n",
       "    </tr>\n",
       "    <tr>\n",
       "      <th>4</th>\n",
       "      <td>chr1</td>\n",
       "      <td>28366</td>\n",
       "      <td>32366</td>\n",
       "      <td>ENSG00000284332</td>\n",
       "      <td>4000</td>\n",
       "      <td>+</td>\n",
       "    </tr>\n",
       "  </tbody>\n",
       "</table>\n",
       "</div>"
      ],
      "text/plain": [
       "    chr  promoter_start  promoter_end          gene id  score strand\n",
       "0  chr1            9869         13869  ENSG00000223972   4000      +\n",
       "2  chr1           15436         19436  ENSG00000278267   4000      -\n",
       "3  chr1           27554         31554  ENSG00000243485   4000      +\n",
       "1  chr1           27570         31570  ENSG00000227232   4000      -\n",
       "4  chr1           28366         32366  ENSG00000284332   4000      +"
      ]
     },
     "execution_count": 13,
     "metadata": {},
     "output_type": "execute_result"
    }
   ],
   "source": [
    "df[\"promoter_start\"] = np.where(df[\"strand\"] == \"+\", df[\"start\"] - 2000, df[\"end\"] - 2000)\n",
    "df[\"promoter_end\"] = np.where(df[\"strand\"] == \"+\", df[\"start\"] + 2000, df[\"end\"] + 2000)\n",
    "df_keep = df.copy()[(df[\"promoter_start\"] > 0) & (df[\"promoter_end\"] > 0) & (df[\"chr\"] != \"chrM\")]\n",
    "df_keep = df_keep[[\"chr\", \"promoter_start\", \"promoter_end\", \"gene id\", \"score\", \"strand\"]].sort_values(by=[\"chr\", \"promoter_start\"])\n",
    "df_keep[\"score\"] = df_keep[\"promoter_end\"] - df_keep[\"promoter_start\"]\n",
    "df_keep.to_csv(\"/data5/galaxy/project/promoter_new_version/data/total/hand_work/2kb_2kb/promoter_2k-2k.bed\", sep=\"\\t\", header=None, index=False)\n",
    "df_keep.head()"
   ]
  },
  {
   "cell_type": "code",
   "execution_count": 14,
   "metadata": {},
   "outputs": [
    {
     "data": {
      "text/plain": [
       "37"
      ]
     },
     "execution_count": 14,
     "metadata": {},
     "output_type": "execute_result"
    }
   ],
   "source": [
    "len(df) - len(df_keep)"
   ]
  },
  {
   "cell_type": "code",
   "execution_count": 27,
   "metadata": {},
   "outputs": [
    {
     "data": {
      "text/plain": [
       "58251"
      ]
     },
     "execution_count": 27,
     "metadata": {},
     "output_type": "execute_result"
    }
   ],
   "source": [
    "len(df_keep)"
   ]
  },
  {
   "cell_type": "code",
   "execution_count": null,
   "metadata": {
    "collapsed": true
   },
   "outputs": [],
   "source": []
  }
 ],
 "metadata": {
  "kernelspec": {
   "display_name": "Python 3",
   "language": "python",
   "name": "python3"
  },
  "language_info": {
   "codemirror_mode": {
    "name": "ipython",
    "version": 3
   },
   "file_extension": ".py",
   "mimetype": "text/x-python",
   "name": "python",
   "nbconvert_exporter": "python",
   "pygments_lexer": "ipython3",
   "version": "3.5.3"
  }
 },
 "nbformat": 4,
 "nbformat_minor": 2
}
