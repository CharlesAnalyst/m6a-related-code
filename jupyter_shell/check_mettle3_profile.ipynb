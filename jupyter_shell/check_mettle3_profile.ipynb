{
 "cells": [
  {
   "cell_type": "code",
   "execution_count": 1,
   "metadata": {
    "collapsed": true
   },
   "outputs": [],
   "source": [
    "import os\n",
    "import pandas as pd\n",
    "import numpy as np\n",
    "import matplotlib.pyplot as plt"
   ]
  },
  {
   "cell_type": "code",
   "execution_count": 2,
   "metadata": {},
   "outputs": [
    {
     "name": "stdout",
     "output_type": "stream",
     "text": [
      "check_mettle3_profile.ipynb  high-mettl3_tss.pdf  \u001b[0m\u001b[01;31mmettl3_tss.gz\u001b[0m   tss_high.bed\r\n",
      "data.txt                     \u001b[01;31mlow-mettl3_tss.gz\u001b[0m    mettl3_tss.pdf  tss_low.bed\r\n",
      "\u001b[01;31mhigh-mettl3_tss.gz\u001b[0m           low-mettl3_tss.pdf   \u001b[01;34mpeak_version\u001b[0m/\r\n"
     ]
    }
   ],
   "source": [
    "ls"
   ]
  },
  {
   "cell_type": "code",
   "execution_count": 4,
   "metadata": {},
   "outputs": [
    {
     "name": "stdout",
     "output_type": "stream",
     "text": [
      "  14405 tss_high.bed\r\n",
      "  10685 tss_low.bed\r\n",
      "  25090 total\r\n"
     ]
    }
   ],
   "source": [
    "!wc -l *.bed"
   ]
  },
  {
   "cell_type": "code",
   "execution_count": 13,
   "metadata": {},
   "outputs": [
    {
     "data": {
      "text/plain": [
       "1.3481516144127281"
      ]
     },
     "execution_count": 13,
     "metadata": {},
     "output_type": "execute_result"
    }
   ],
   "source": [
    "ratio = 14405 / 10685\n",
    "ratio"
   ]
  },
  {
   "cell_type": "code",
   "execution_count": 11,
   "metadata": {},
   "outputs": [
    {
     "name": "stdout",
     "output_type": "stream",
     "text": [
      "  22712 /home/cuijr/plot/clean_promoters.bed\r\n",
      "   8114 /home/cuijr/plot/tss_high.bed\r\n",
      "  14598 /home/cuijr/plot/tss_low.bed\r\n",
      "  45424 total\r\n"
     ]
    }
   ],
   "source": [
    "!wc -l /home/cuijr/plot/*.bed"
   ]
  },
  {
   "cell_type": "code",
   "execution_count": 14,
   "metadata": {},
   "outputs": [
    {
     "data": {
      "text/plain": [
       "0.5558295656939307"
      ]
     },
     "execution_count": 14,
     "metadata": {},
     "output_type": "execute_result"
    }
   ],
   "source": [
    "ratio = 8114 / 14598\n",
    "ratio"
   ]
  },
  {
   "cell_type": "code",
   "execution_count": 15,
   "metadata": {},
   "outputs": [
    {
     "name": "stdout",
     "output_type": "stream",
     "text": [
      "03_compre_analysis.py  \u001b[0m\u001b[01;31mmettl3_tss.gz\u001b[0m   peak_promoter_plot.pdf  tss_low.bed\r\n",
      "clean_promoters.bed    mettl3_tss.pdf  tss_high.bed\r\n"
     ]
    }
   ],
   "source": [
    "ls /home/cuijr/plot/"
   ]
  }
 ],
 "metadata": {
  "kernelspec": {
   "display_name": "Python 3",
   "language": "python",
   "name": "python3"
  },
  "language_info": {
   "codemirror_mode": {
    "name": "ipython",
    "version": 3
   },
   "file_extension": ".py",
   "mimetype": "text/x-python",
   "name": "python",
   "nbconvert_exporter": "python",
   "pygments_lexer": "ipython3",
   "version": "3.5.3"
  }
 },
 "nbformat": 4,
 "nbformat_minor": 2
}
