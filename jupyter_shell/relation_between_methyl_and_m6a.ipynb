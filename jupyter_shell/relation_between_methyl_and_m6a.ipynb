{
 "cells": [
  {
   "cell_type": "code",
   "execution_count": 1,
   "metadata": {},
   "outputs": [],
   "source": [
    "import os\n",
    "import shutil\n",
    "import glob\n",
    "import pandas as pd\n",
    "import numpy as np\n",
    "from scipy import stats\n",
    "import matplotlib.pyplot as plt\n",
    "import seaborn as sns\n",
    "%matplotlib inline\n",
    "%config InlineBackend.figure_format = 'svg'\n",
    "from itertools import permutations\n",
    "from multiprocessing import Pool"
   ]
  },
  {
   "cell_type": "code",
   "execution_count": 19,
   "metadata": {},
   "outputs": [
    {
     "name": "stdout",
     "output_type": "stream",
     "text": [
      "heart_vs_brain\n",
      "0.21523865994663505 0.49022869022869026\n",
      "kid_vs_brain\n",
      "0.25338753387533874 0.5491580662683324\n",
      "lung_vs_brain\n",
      "0.16970998925886144 0.5576227390180879\n",
      "heart_vs_kid\n",
      "0.27649208282582216 0.339367904265112\n",
      "lung_vs_heart\n",
      "0.19715224534501644 0.3877344145970603\n",
      "lung_vs_kid\n",
      "0.11399491094147583 0.39775606225117627\n"
     ]
    }
   ],
   "source": [
    "m6a_dir = \"/data5/galaxy/project/methyl_m6a/data/diff_m6a_peak/macs2_bdgdiff/combination/\"\n",
    "subdir_list = [\"heart_vs_brain\", \"kid_vs_brain\", \"lung_vs_brain\", \"heart_vs_kid\", \"lung_vs_heart\", \"lung_vs_kid\"]\n",
    "for sub_dir in subdir_list:\n",
    "    print(sub_dir)\n",
    "    df_methyl_up, df_methyl_down = class_methyl_run(sub_dir)\n",
    "    df_m6a_up, df_m6a_down = class_m6a_by_diffPeak(os.path.join(m6a_dir, sub_dir))\n",
    "    df_methylup_m6a_down = df_methyl_up.merge(df_m6a_down, on=\"name\", how=\"right\").dropna()\n",
    "    ratio_1 = len(df_methylup_m6a_down) / len(df_methyl_up)\n",
    "    #\n",
    "    df_methyldown_m6a_up = df_methyl_down.merge(df_m6a_up, on=\"name\", how=\"right\").dropna()\n",
    "    ratio_2 = len(df_methyldown_m6a_up) / len(df_methyl_down)\n",
    "    print(ratio_1, ratio_2)"
   ]
  },
  {
   "cell_type": "code",
   "execution_count": 18,
   "metadata": {},
   "outputs": [],
   "source": [
    "def class_methyl_run(sub_dir):\n",
    "    df_methyl = foldchange_of_methylation(sub_dir)\n",
    "    df_up, df_down = class_methyl(df_methyl)\n",
    "    return df_up.drop_duplicates(), df_down.drop_duplicates()\n",
    "# 81--brain; 83--heart; 86--kid; 88--lung;\n",
    "# [\"heart_vs_brain\", \"kid_vs_brain\", \"lung_vs_brain\", \"heart_vs_kid\", \"lung_vs_heart\", \"lung_vs_kid\"]\n",
    "def foldchange_of_methylation(sub_dir):\n",
    "    os.chdir(\"/data5/galaxy/project/methyl_m6a/data/roimethstat/\")\n",
    "    map_dict = {\"brain\": \"E081\", \"heart\": \"E083\", \"kid\": \"E086\", \"lung\": \"E088\"}\n",
    "    tissue_1, tissue_2 = sub_dir.split(\"_\")[0], sub_dir.split(\"_\")[-1]\n",
    "    try:\n",
    "        num_1, num_2 = map_dict[tissue_1], map_dict[tissue_2]\n",
    "    except KeyError:\n",
    "        print(\"%s %s didn't have acoording DNA methylation data!\" % (tissue_1, tissue_2))\n",
    "    df_1 = pd.read_table(\"promoter_%s.bed\" % num_1, header=None, names=[\"chr\", \"s\", \"e\", \"n\", tissue_1, \"strand\"])\n",
    "    df_1[\"name\"] = df_1[\"n\"].str.split(\":\").str[0]\n",
    "    df_2 = pd.read_table(\"promoter_%s.bed\" % num_2, header=None, names=[\"chr\", \"s\", \"e\", \"n\", tissue_2, \"strand\"])\n",
    "    df_2[\"name\"] = df_2[\"n\"].str.split(\":\").str[0]\n",
    "    df_methyl = df_1.merge(df_2, on=\"name\").dropna()\n",
    "    df_methyl[\"logFC\"] = np.log2(df_methyl[tissue_1].astype(float) + 0.01) - np.log2(df_methyl[tissue_2].astype(float) + 0.01)\n",
    "    df_methyl = df_methyl[[\"name\", \"logFC\"]]\n",
    "#     print(df_1[tissue_1].mean(), df_2[tissue_2].mean())\n",
    "    return df_methyl\n",
    "\n",
    "def class_methyl(df):\n",
    "    df_up = df[(df[\"logFC\"] > 0) & (abs(df[\"logFC\"]) > 0.585)]\n",
    "    df_down = df[(df[\"logFC\"] < 0) & (abs(df[\"logFC\"]) > 0.585)]\n",
    "#     print(df.head(), len(df))\n",
    "    return df_up, df_down"
   ]
  },
  {
   "cell_type": "code",
   "execution_count": 8,
   "metadata": {},
   "outputs": [],
   "source": [
    "def class_m6a_by_diffPeak(work_dir):\n",
    "    os.chdir(work_dir)\n",
    "    m6a_up = pd.read_table(\"diff_peak_c3.0_cond1_anno.txt\", sep=\"\\t\", header=None, names=[\"name\", \"m6a_score\"])\n",
    "    m6a_down = pd.read_table(\"diff_peak_c3.0_cond2_anno.txt\", sep=\"\\t\", header=None, names=[\"name\", \"m6a_score\"])\n",
    "    df_m6a_up = m6a_up.groupby([\"name\"]).mean().reset_index()\n",
    "    df_m6a_down = m6a_down.groupby([\"name\"]).mean().reset_index()\n",
    "    return df_m6a_up.drop_duplicates(), df_m6a_down.drop_duplicates()"
   ]
  },
  {
   "cell_type": "code",
   "execution_count": 4,
   "metadata": {},
   "outputs": [],
   "source": [
    "def boxplot(df_up_coor, df_up_unchange, df_down_coor, df_down_unchange, sub_dir):\n",
    "    df_up_down = pd.DataFrame({\"up\": df_up_coor[\"logFC\"], \"up_unchanged\": df_up_unchange[\"logFC\"], \n",
    "                               \"down\": df_down_coor[\"logFC\"], \"down_unchanged\": df_down_unchange[\"logFC\"]})\n",
    "    g = sns.boxplot(data=df_up_down, order=[\"down\", \"down_unchanged\", \"up\", \"up_unchanged\"], saturation=0.5, showfliers=False)\n",
    "    g.set_ylabel(\"log2fc of methylation level\", size = 14, color=\"black\", alpha=1)\n",
    "    plt.title(sub_dir)\n",
    "    plt.savefig(\"/data5/galaxy/project/methyl_m6a/analysis_result_3/%s.pdf\" % sub_dir)\n",
    "    plt.close()\n",
    "    print(len(df_up_down[\"down\"].dropna()), len(df_up_down[\"down_unchanged\"].dropna()), len(df_up_down[\"up\"].dropna()), len(df_up_down[\"up_unchanged\"].dropna()))\n",
    "    # return df_up_down"
   ]
  },
  {
   "cell_type": "code",
   "execution_count": null,
   "metadata": {},
   "outputs": [],
   "source": []
  }
 ],
 "metadata": {
  "kernelspec": {
   "display_name": "Python 3",
   "language": "python",
   "name": "python3"
  },
  "language_info": {
   "codemirror_mode": {
    "name": "ipython",
    "version": 3
   },
   "file_extension": ".py",
   "mimetype": "text/x-python",
   "name": "python",
   "nbconvert_exporter": "python",
   "pygments_lexer": "ipython3",
   "version": "3.6.5"
  }
 },
 "nbformat": 4,
 "nbformat_minor": 2
}
