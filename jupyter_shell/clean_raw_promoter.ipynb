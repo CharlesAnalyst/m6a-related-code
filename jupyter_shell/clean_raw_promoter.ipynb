{
 "cells": [
  {
   "cell_type": "code",
   "execution_count": 1,
   "metadata": {},
   "outputs": [
    {
     "name": "stdout",
     "output_type": "stream",
     "text": [
      "/data5/galaxy/project/promoter_new_version/data/total/hand_work/2kb_2kb\n"
     ]
    }
   ],
   "source": [
    "cd /data5/galaxy/project/promoter_new_version/data/total/hand_work/2kb_2kb"
   ]
  },
  {
   "cell_type": "code",
   "execution_count": 2,
   "metadata": {
    "collapsed": true
   },
   "outputs": [],
   "source": [
    "import os\n",
    "import glob\n",
    "import pandas as pd\n",
    "import numpy as np\n",
    "from collections import Counter\n",
    "from scipy import stats\n",
    "import matplotlib.pyplot as plt"
   ]
  },
  {
   "cell_type": "code",
   "execution_count": null,
   "metadata": {
    "collapsed": true
   },
   "outputs": [],
   "source": [
    "# based on the defination of promoter region, each promoter must overlap with its according gene body.This would be kept later.\n",
    "# at the same time, each promoter region maybe overlap with others genes. This would be throw later."
   ]
  },
  {
   "cell_type": "code",
   "execution_count": 39,
   "metadata": {
    "collapsed": true
   },
   "outputs": [],
   "source": [
    "!bedtools merge -i promoter_2k-2k.bed | bedtools intersect -a promoter_2k-2k.bed -b stdin -f 1 -r -wa | sort -k1,1 -k2,2n | uniq > common.bed\n",
    "!bedtools intersect -a common.bed -b /data/database/GRCh38/GENCODE/Genes_ensembl.bed -wa > overlap.bed"
   ]
  },
  {
   "cell_type": "code",
   "execution_count": 6,
   "metadata": {},
   "outputs": [
    {
     "name": "stdout",
     "output_type": "stream",
     "text": [
      "38749 common.bed\r\n"
     ]
    }
   ],
   "source": [
    "!wc -l common.bed"
   ]
  },
  {
   "cell_type": "code",
   "execution_count": 40,
   "metadata": {},
   "outputs": [
    {
     "data": {
      "text/html": [
       "<div>\n",
       "<style>\n",
       "    .dataframe thead tr:only-child th {\n",
       "        text-align: right;\n",
       "    }\n",
       "\n",
       "    .dataframe thead th {\n",
       "        text-align: left;\n",
       "    }\n",
       "\n",
       "    .dataframe tbody tr th {\n",
       "        vertical-align: top;\n",
       "    }\n",
       "</style>\n",
       "<table border=\"1\" class=\"dataframe\">\n",
       "  <thead>\n",
       "    <tr style=\"text-align: right;\">\n",
       "      <th></th>\n",
       "      <th>chr</th>\n",
       "      <th>start</th>\n",
       "      <th>end</th>\n",
       "      <th>gene id</th>\n",
       "      <th>score</th>\n",
       "      <th>strand</th>\n",
       "      <th>index_id</th>\n",
       "    </tr>\n",
       "  </thead>\n",
       "  <tbody>\n",
       "    <tr>\n",
       "      <th>0</th>\n",
       "      <td>chr1</td>\n",
       "      <td>9869</td>\n",
       "      <td>13869</td>\n",
       "      <td>ENSG00000223972</td>\n",
       "      <td>4000</td>\n",
       "      <td>+</td>\n",
       "      <td>chr1-ENSG00000223972</td>\n",
       "    </tr>\n",
       "    <tr>\n",
       "      <th>1</th>\n",
       "      <td>chr1</td>\n",
       "      <td>15436</td>\n",
       "      <td>19436</td>\n",
       "      <td>ENSG00000278267</td>\n",
       "      <td>4000</td>\n",
       "      <td>-</td>\n",
       "      <td>chr1-ENSG00000278267</td>\n",
       "    </tr>\n",
       "    <tr>\n",
       "      <th>2</th>\n",
       "      <td>chr1</td>\n",
       "      <td>15436</td>\n",
       "      <td>19436</td>\n",
       "      <td>ENSG00000278267</td>\n",
       "      <td>4000</td>\n",
       "      <td>-</td>\n",
       "      <td>chr1-ENSG00000278267</td>\n",
       "    </tr>\n",
       "    <tr>\n",
       "      <th>3</th>\n",
       "      <td>chr1</td>\n",
       "      <td>34081</td>\n",
       "      <td>38081</td>\n",
       "      <td>ENSG00000237613</td>\n",
       "      <td>4000</td>\n",
       "      <td>-</td>\n",
       "      <td>chr1-ENSG00000237613</td>\n",
       "    </tr>\n",
       "    <tr>\n",
       "      <th>4</th>\n",
       "      <td>chr1</td>\n",
       "      <td>50473</td>\n",
       "      <td>54473</td>\n",
       "      <td>ENSG00000268020</td>\n",
       "      <td>4000</td>\n",
       "      <td>+</td>\n",
       "      <td>chr1-ENSG00000268020</td>\n",
       "    </tr>\n",
       "  </tbody>\n",
       "</table>\n",
       "</div>"
      ],
      "text/plain": [
       "    chr  start    end          gene id  score strand              index_id\n",
       "0  chr1   9869  13869  ENSG00000223972   4000      +  chr1-ENSG00000223972\n",
       "1  chr1  15436  19436  ENSG00000278267   4000      -  chr1-ENSG00000278267\n",
       "2  chr1  15436  19436  ENSG00000278267   4000      -  chr1-ENSG00000278267\n",
       "3  chr1  34081  38081  ENSG00000237613   4000      -  chr1-ENSG00000237613\n",
       "4  chr1  50473  54473  ENSG00000268020   4000      +  chr1-ENSG00000268020"
      ]
     },
     "execution_count": 40,
     "metadata": {},
     "output_type": "execute_result"
    }
   ],
   "source": [
    "df = pd.read_table(\"overlap.bed\", sep=\"\\t\", header=None, names=[\"chr\", \"start\", \"end\", \"gene id\", \"score\", \"strand\"])\n",
    "df[\"index_id\"] = df[\"chr\"] + \"-\" + df[\"gene id\"]\n",
    "df.head()"
   ]
  },
  {
   "cell_type": "code",
   "execution_count": null,
   "metadata": {
    "collapsed": true
   },
   "outputs": [],
   "source": [
    "# pick out the promoter regiones which only overlapped with self-gene.(overlap num == 1)"
   ]
  },
  {
   "cell_type": "code",
   "execution_count": 41,
   "metadata": {},
   "outputs": [
    {
     "data": {
      "text/plain": [
       "22712"
      ]
     },
     "execution_count": 41,
     "metadata": {},
     "output_type": "execute_result"
    }
   ],
   "source": [
    "gene_list = df[\"index_id\"].tolist()\n",
    "# gene_list.count(\"chrY-ENSG00000228572\")\n",
    "# df[df[\"index_id\"] == \"chrY-ENSG00000228572\"]\n",
    "count = Counter(gene_list)\n",
    "uniq_gene_list = [x for x, num in count.items() if num == 1]\n",
    "len(uniq_gene_list)"
   ]
  },
  {
   "cell_type": "code",
   "execution_count": 42,
   "metadata": {
    "scrolled": false
   },
   "outputs": [
    {
     "data": {
      "text/html": [
       "<div>\n",
       "<style>\n",
       "    .dataframe thead tr:only-child th {\n",
       "        text-align: right;\n",
       "    }\n",
       "\n",
       "    .dataframe thead th {\n",
       "        text-align: left;\n",
       "    }\n",
       "\n",
       "    .dataframe tbody tr th {\n",
       "        vertical-align: top;\n",
       "    }\n",
       "</style>\n",
       "<table border=\"1\" class=\"dataframe\">\n",
       "  <thead>\n",
       "    <tr style=\"text-align: right;\">\n",
       "      <th></th>\n",
       "      <th>chr</th>\n",
       "      <th>start</th>\n",
       "      <th>end</th>\n",
       "      <th>gene id</th>\n",
       "      <th>score</th>\n",
       "      <th>strand</th>\n",
       "    </tr>\n",
       "  </thead>\n",
       "  <tbody>\n",
       "    <tr>\n",
       "      <th>0</th>\n",
       "      <td>chr1</td>\n",
       "      <td>9869</td>\n",
       "      <td>13869</td>\n",
       "      <td>ENSG00000223972</td>\n",
       "      <td>4000</td>\n",
       "      <td>+</td>\n",
       "    </tr>\n",
       "    <tr>\n",
       "      <th>3</th>\n",
       "      <td>chr1</td>\n",
       "      <td>34081</td>\n",
       "      <td>38081</td>\n",
       "      <td>ENSG00000237613</td>\n",
       "      <td>4000</td>\n",
       "      <td>-</td>\n",
       "    </tr>\n",
       "    <tr>\n",
       "      <th>4</th>\n",
       "      <td>chr1</td>\n",
       "      <td>50473</td>\n",
       "      <td>54473</td>\n",
       "      <td>ENSG00000268020</td>\n",
       "      <td>4000</td>\n",
       "      <td>+</td>\n",
       "    </tr>\n",
       "    <tr>\n",
       "      <th>5</th>\n",
       "      <td>chr1</td>\n",
       "      <td>55598</td>\n",
       "      <td>59598</td>\n",
       "      <td>ENSG00000240361</td>\n",
       "      <td>4000</td>\n",
       "      <td>+</td>\n",
       "    </tr>\n",
       "    <tr>\n",
       "      <th>10</th>\n",
       "      <td>chr1</td>\n",
       "      <td>171862</td>\n",
       "      <td>175862</td>\n",
       "      <td>ENSG00000241860</td>\n",
       "      <td>4000</td>\n",
       "      <td>-</td>\n",
       "    </tr>\n",
       "  </tbody>\n",
       "</table>\n",
       "</div>"
      ],
      "text/plain": [
       "     chr   start     end          gene id  score strand\n",
       "0   chr1    9869   13869  ENSG00000223972   4000      +\n",
       "3   chr1   34081   38081  ENSG00000237613   4000      -\n",
       "4   chr1   50473   54473  ENSG00000268020   4000      +\n",
       "5   chr1   55598   59598  ENSG00000240361   4000      +\n",
       "10  chr1  171862  175862  ENSG00000241860   4000      -"
      ]
     },
     "execution_count": 42,
     "metadata": {},
     "output_type": "execute_result"
    }
   ],
   "source": [
    "df[\"boo\"] = np.where((df[\"chr\"] + \"-\" + df[\"gene id\"]).isin(uniq_gene_list), \"True\", \"False\")\n",
    "df_uniq = df[df[\"boo\"] == \"True\"][[\"chr\", \"start\", \"end\", \"gene id\", \"score\", \"strand\"]].drop_duplicates()\n",
    "df_uniq.to_csv(\"clean_promoter.bed\", sep=\"\\t\", header=None, index=False)\n",
    "df_uniq.head()"
   ]
  },
  {
   "cell_type": "code",
   "execution_count": 43,
   "metadata": {},
   "outputs": [
    {
     "data": {
      "text/plain": [
       "22712"
      ]
     },
     "execution_count": 43,
     "metadata": {},
     "output_type": "execute_result"
    }
   ],
   "source": [
    "len(df_uniq)"
   ]
  },
  {
   "cell_type": "code",
   "execution_count": null,
   "metadata": {
    "collapsed": true
   },
   "outputs": [],
   "source": []
  }
 ],
 "metadata": {
  "kernelspec": {
   "display_name": "Python 3",
   "language": "python",
   "name": "python3"
  },
  "language_info": {
   "codemirror_mode": {
    "name": "ipython",
    "version": 3
   },
   "file_extension": ".py",
   "mimetype": "text/x-python",
   "name": "python",
   "nbconvert_exporter": "python",
   "pygments_lexer": "ipython3",
   "version": "3.5.3"
  }
 },
 "nbformat": 4,
 "nbformat_minor": 2
}
