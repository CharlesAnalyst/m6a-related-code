{
 "cells": [
  {
   "cell_type": "code",
   "execution_count": 1,
   "metadata": {},
   "outputs": [],
   "source": [
    "import os\n",
    "import glob\n",
    "import pandas as pd\n",
    "import numpy as np\n",
    "import matplotlib.pyplot as plt\n",
    "import seaborn as sns\n",
    "from scipy import stats\n",
    "%matplotlib inline\n",
    "%config InlineBackend.figure_format = 'svg'"
   ]
  },
  {
   "cell_type": "code",
   "execution_count": 4,
   "metadata": {},
   "outputs": [],
   "source": [
    "total_gene_dir = \"/data5/galaxy/project/promoter_TF_enrich/data/total_gene/gene_bed\"\n",
    "total_gene_list = glob.glob(\"%s/*.bed\" % total_gene_dir)\n",
    "#\n",
    "m6a_gene_dir = \"/data5/galaxy/project/promoter_TF_enrich/data/m6a_gene/gene_bed\"\n",
    "m6a_gene_list = glob.glob(\"%s/*.bed\" % m6a_gene_dir)\n",
    "#\n",
    "CpG_high_gene = \"/data5/galaxy/project/CpG_m6a_motif/fasta_seq/high_CpG.bed\"\n",
    "CpG_low_gene = \"/data5/galaxy/project/CpG_m6a_motif/fasta_seq/low_CpG.bed\"\n",
    "high_CpG_genes = list(set(pd.read_table(CpG_high_gene, sep=\"\\t\", header=None).iloc[:, 3]))\n",
    "low_CpG_genes = list(set(pd.read_table(CpG_low_gene, sep=\"\\t\", header=None).iloc[:, 3]))"
   ]
  },
  {
   "cell_type": "code",
   "execution_count": 5,
   "metadata": {},
   "outputs": [
    {
     "name": "stdout",
     "output_type": "stream",
     "text": [
      "liver\n",
      "0.7790761081249513 0.5064282844515869\n",
      "stomach\n",
      "0.7260907713169019 0.47473637961335674\n",
      "placenta\n",
      "0.8291283502318636 0.5580578512396694\n",
      "lung\n",
      "0.7458082885162923 0.4737736249734551\n",
      "heart\n",
      "0.7711248757360251 0.4349442379182156\n",
      "brain\n",
      "0.7823275862068966 0.39058669717274064\n",
      "muscle\n",
      "0.7939514524472742 0.5418933623503809\n",
      "kidney\n",
      "0.8608695652173913 0.5805587447378492\n"
     ]
    }
   ],
   "source": [
    "tissue_list, propor_high_m6a, propor_low_m6a = [], [], []\n",
    "for total_gene in total_gene_list:\n",
    "    tissue = os.path.basename(total_gene).split(\".\")[0]\n",
    "    print(tissue)\n",
    "    high_CpG, low_CpG = class_CpG(total_gene)\n",
    "    m6a_genes = get_m6a_genes(total_gene)\n",
    "    highCpG_m6a, highGpG_nonm6a = [x for x in high_CpG if x in m6a_genes], [x for x in high_CpG if x not in m6a_genes]\n",
    "    lowCpG_m6a, lowGpG_nonm6a = [x for x in low_CpG if x in m6a_genes], [x for x in low_CpG if x not in m6a_genes]\n",
    "    highCpG_proportation = len(highCpG_m6a) / len(high_CpG)\n",
    "    lowCpG_proportation = len(lowCpG_m6a) / len(low_CpG)\n",
    "    #\n",
    "    tissue_list.append(tissue)\n",
    "    propor_high_m6a.append(highCpG_proportation)\n",
    "    propor_low_m6a.append(lowCpG_proportation)\n",
    "    print(highCpG_proportation, lowCpG_proportation)"
   ]
  },
  {
   "cell_type": "code",
   "execution_count": 14,
   "metadata": {},
   "outputs": [
    {
     "data": {
      "text/plain": [
       "(0.7773181796073914, 0.016288572922348976)"
      ]
     },
     "execution_count": 14,
     "metadata": {},
     "output_type": "execute_result"
    },
    {
     "name": "stdout",
     "output_type": "stream",
     "text": [
      "16.955673772950885 6.082164587780182e-07\n"
     ]
    }
   ],
   "source": [
    "# https://pythonfordatascience.org/paired-samples-t-test-python/\n",
    "df = pd.DataFrame({\"high_CpG\": propor_high_m6a, \"low_CpG\": propor_low_m6a})\n",
    "df[\"difference\"] = df.high_CpG - df.low_CpG\n",
    "# df.head()\n",
    "### normality distribution test\n",
    "# df.difference.plot(kind=\"hist\", title=\"histogram plot for difference proportation of m6a\")\n",
    "# stats.probplot(df.difference, plot=plt)\n",
    "stats.shapiro(df.difference)\n",
    "# paired t-test\n",
    "statistic, pvalue = stats.ttest_rel(propor_high_m6a, propor_low_m6a)\n",
    "print(statistic, pvalue)"
   ]
  },
  {
   "cell_type": "code",
   "execution_count": 32,
   "metadata": {},
   "outputs": [
    {
     "data": {
      "text/html": [
       "<div>\n",
       "<style scoped>\n",
       "    .dataframe tbody tr th:only-of-type {\n",
       "        vertical-align: middle;\n",
       "    }\n",
       "\n",
       "    .dataframe tbody tr th {\n",
       "        vertical-align: top;\n",
       "    }\n",
       "\n",
       "    .dataframe thead th {\n",
       "        text-align: right;\n",
       "    }\n",
       "</style>\n",
       "<table border=\"1\" class=\"dataframe\">\n",
       "  <thead>\n",
       "    <tr style=\"text-align: right;\">\n",
       "      <th></th>\n",
       "      <th></th>\n",
       "      <th>m6a propor</th>\n",
       "    </tr>\n",
       "    <tr>\n",
       "      <th>i</th>\n",
       "      <th>CpG_type</th>\n",
       "      <th></th>\n",
       "    </tr>\n",
       "  </thead>\n",
       "  <tbody>\n",
       "    <tr>\n",
       "      <th>0</th>\n",
       "      <th>high CpG</th>\n",
       "      <td>0.779076</td>\n",
       "    </tr>\n",
       "    <tr>\n",
       "      <th>1</th>\n",
       "      <th>high CpG</th>\n",
       "      <td>0.726091</td>\n",
       "    </tr>\n",
       "    <tr>\n",
       "      <th>2</th>\n",
       "      <th>high CpG</th>\n",
       "      <td>0.829128</td>\n",
       "    </tr>\n",
       "    <tr>\n",
       "      <th>3</th>\n",
       "      <th>high CpG</th>\n",
       "      <td>0.745808</td>\n",
       "    </tr>\n",
       "    <tr>\n",
       "      <th>4</th>\n",
       "      <th>high CpG</th>\n",
       "      <td>0.771125</td>\n",
       "    </tr>\n",
       "  </tbody>\n",
       "</table>\n",
       "</div>"
      ],
      "text/plain": [
       "            m6a propor\n",
       "i CpG_type            \n",
       "0 high CpG    0.779076\n",
       "1 high CpG    0.726091\n",
       "2 high CpG    0.829128\n",
       "3 high CpG    0.745808\n",
       "4 high CpG    0.771125"
      ]
     },
     "execution_count": 32,
     "metadata": {},
     "output_type": "execute_result"
    }
   ],
   "source": [
    "df[\"i\"] = df.index\n",
    "df.columns = [\"m6a propor-high CpG\", \"m6a propor-low CpG\", \"difference\", \"i\"]\n",
    "df_a = df.copy()[[\"m6a propor-high CpG\", \"m6a propor-low CpG\", \"i\"]]\n",
    "# df_a.head()\n",
    "df_long = pd.wide_to_long(df_a, \"m6a propor\", sep=\"-\", suffix='(high CpG|low CpG)', i=\"i\", j=\"CpG_type\")\n",
    "df_long.head()\n",
    "df_long.to_csv(\"/data5/galaxy/project/CpG_proporation-m6aGene/plot_data.txt\", sep=\"\\t\")"
   ]
  },
  {
   "cell_type": "code",
   "execution_count": 2,
   "metadata": {},
   "outputs": [],
   "source": [
    "#### class GpG high && low\n",
    "def class_CpG(total_gene):\n",
    "    total_genes = list(set(pd.read_table(total_gene, sep=\"\\t\", header=None).iloc[:, 3]))\n",
    "    high_CpG = [gene for gene in total_genes if gene in high_CpG_genes]\n",
    "    low_CpG = [gene for gene in total_genes if gene in low_CpG_genes]\n",
    "    return high_CpG, low_CpG\n",
    "\n",
    "def get_m6a_genes(total_gene):\n",
    "    total_genes = list(set(pd.read_table(total_gene, sep=\"\\t\", header=None).iloc[:, 3]))\n",
    "    base_name = os.path.basename(total_gene)\n",
    "    m6a_gene = os.path.join(m6a_gene_dir, base_name)\n",
    "    try:\n",
    "        m6a_genes = list(set(pd.read_table(m6a_gene, sep=\"\\t\", header=None).iloc[:, 3]))\n",
    "    except FileExistsError:\n",
    "        print(\"The basenames of (%s and %s) aren't same!\" % (total_gene, m6a_gene))\n",
    "    return m6a_genes"
   ]
  }
 ],
 "metadata": {
  "kernelspec": {
   "display_name": "Python 3",
   "language": "python",
   "name": "python3"
  },
  "language_info": {
   "codemirror_mode": {
    "name": "ipython",
    "version": 3
   },
   "file_extension": ".py",
   "mimetype": "text/x-python",
   "name": "python",
   "nbconvert_exporter": "python",
   "pygments_lexer": "ipython3",
   "version": "3.6.5"
  }
 },
 "nbformat": 4,
 "nbformat_minor": 2
}
