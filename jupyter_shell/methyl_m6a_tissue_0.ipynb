{
 "cells": [
  {
   "cell_type": "code",
   "execution_count": 1,
   "metadata": {},
   "outputs": [
    {
     "name": "stdout",
     "output_type": "stream",
     "text": [
      "/data5/galaxy/project/methyl_m6a\r\n"
     ]
    }
   ],
   "source": [
    "!pwd"
   ]
  },
  {
   "cell_type": "markdown",
   "metadata": {},
   "source": [
    "#### proprocess data"
   ]
  },
  {
   "cell_type": "code",
   "execution_count": 2,
   "metadata": {},
   "outputs": [],
   "source": [
    "import os\n",
    "import shutil\n",
    "import glob\n",
    "import pandas as pd\n",
    "import numpy as np\n",
    "from scipy import stats\n",
    "import matplotlib.pyplot as plt\n",
    "import seaborn as sns\n",
    "%matplotlib inline\n",
    "%config InlineBackend.figure_format = 'svg'\n",
    "from itertools import permutations\n",
    "from multiprocessing import Pool"
   ]
  },
  {
   "cell_type": "code",
   "execution_count": 7,
   "metadata": {
    "collapsed": true
   },
   "outputs": [
    {
     "name": "stdout",
     "output_type": "stream",
     "text": [
      "['data/E081_RRBS_FractionalMethylation.bigwig', 'data/E088_RRBS_FractionalMethylation.bigwig', 'data/E086_RRBS_FractionalMethylation.bigwig', 'data/E083_RRBS_ReadCoverage.bigwig', 'data/E081_RRBS_ReadCoverage.bigwig', 'data/E083_RRBS_FractionalMethylation.bigwig', 'data/E088_RRBS_ReadCoverage.bigwig', 'data/E086_RRBS_ReadCoverage.bigwig']\n",
      "data/wig_format/E081_RRBS_FractionalMethylation\n"
     ]
    },
    {
     "data": {
      "text/plain": [
       "0"
      ]
     },
     "execution_count": 7,
     "metadata": {},
     "output_type": "execute_result"
    },
    {
     "name": "stdout",
     "output_type": "stream",
     "text": [
      "data/wig_format/E088_RRBS_FractionalMethylation\n"
     ]
    },
    {
     "data": {
      "text/plain": [
       "0"
      ]
     },
     "execution_count": 7,
     "metadata": {},
     "output_type": "execute_result"
    },
    {
     "name": "stdout",
     "output_type": "stream",
     "text": [
      "data/wig_format/E086_RRBS_FractionalMethylation\n"
     ]
    },
    {
     "data": {
      "text/plain": [
       "0"
      ]
     },
     "execution_count": 7,
     "metadata": {},
     "output_type": "execute_result"
    },
    {
     "name": "stdout",
     "output_type": "stream",
     "text": [
      "data/wig_format/E083_RRBS_ReadCoverage\n"
     ]
    },
    {
     "data": {
      "text/plain": [
       "0"
      ]
     },
     "execution_count": 7,
     "metadata": {},
     "output_type": "execute_result"
    },
    {
     "name": "stdout",
     "output_type": "stream",
     "text": [
      "data/wig_format/E081_RRBS_ReadCoverage\n"
     ]
    },
    {
     "data": {
      "text/plain": [
       "0"
      ]
     },
     "execution_count": 7,
     "metadata": {},
     "output_type": "execute_result"
    },
    {
     "name": "stdout",
     "output_type": "stream",
     "text": [
      "data/wig_format/E083_RRBS_FractionalMethylation\n"
     ]
    },
    {
     "data": {
      "text/plain": [
       "0"
      ]
     },
     "execution_count": 7,
     "metadata": {},
     "output_type": "execute_result"
    },
    {
     "name": "stdout",
     "output_type": "stream",
     "text": [
      "data/wig_format/E088_RRBS_ReadCoverage\n"
     ]
    },
    {
     "data": {
      "text/plain": [
       "0"
      ]
     },
     "execution_count": 7,
     "metadata": {},
     "output_type": "execute_result"
    },
    {
     "name": "stdout",
     "output_type": "stream",
     "text": [
      "data/wig_format/E086_RRBS_ReadCoverage\n"
     ]
    },
    {
     "data": {
      "text/plain": [
       "0"
      ]
     },
     "execution_count": 7,
     "metadata": {},
     "output_type": "execute_result"
    }
   ],
   "source": [
    "bw_list = glob.glob(\"data/*.bigwig\")\n",
    "print(bw_list)\n",
    "for bw in bw_list:\n",
    "    wiggle_file = \"data/wig_format/%s\" % (os.path.basename(bw).split(\".\")[0])\n",
    "    print(wiggle_file)\n",
    "    os.system(\"bigWigToWig %s %s\" % (bw, wiggle_file))"
   ]
  },
  {
   "cell_type": "code",
   "execution_count": 1,
   "metadata": {},
   "outputs": [],
   "source": [
    "# cov_list, frac_list = glob.glob(\"data/wig_format/*ReadCoverage\"), glob.glob(\"data/wig_format/*FractionalMethylation\")\n",
    "# print(len(cov_list))\n",
    "# def get_dict(in_list):\n",
    "#     result_dict = {}\n",
    "#     for i_file in in_list:\n",
    "#         prefix = os.path.basename(i_file).split(\"_RRBS\")[0]\n",
    "#         result_dict[prefix] = i_file\n",
    "#     return result_dict\n",
    "# cov_dict, frac_dict = get_dict(cov_list), get_dict(frac_list)\n",
    "# print(cov_dict[\"E086\"], frac_dict[\"E086\"])"
   ]
  },
  {
   "cell_type": "code",
   "execution_count": 21,
   "metadata": {},
   "outputs": [],
   "source": [
    "# use end as position;  term the coverge file number as the total number;\n",
    "# def format_into_methylCount(prefix, cov_file, frac_file):\n",
    "#     df_cov = pd.read_table(cov_file, sep=\"\\t\", header=None, comment=\"#\", names=[\"a\", \"b\", \"c\", \"number\"])\n",
    "#     df_frac = pd.read_table(frac_file, sep=\"\\t\", header=None, comment=\"#\", names=[\"a\", \"b\", \"c\", \"frac\"])\n",
    "#     df = df_cov.merge(df_frac).drop_duplicates()\n",
    "#     df[\"position\"], df[\"strand\"], df[\"type\"] = df[\"c\"], \"+\", \"CpG\"\n",
    "#     # df[\"name\"] = df[\"a\"].astype(str) + \":\" + df[\"position\"].astype(str)\n",
    "#     df = df[[\"a\", \"position\", \"strand\", \"type\", \"frac\", \"number\"]]\n",
    "#     result_file = \"data/methylcount_format/%s.meth\" % prefix\n",
    "#     print(df.head())\n",
    "#     df.to_csv(result_file, sep=\"\\t\", header=None, index=False)\n",
    "# prefix_list = cov_dict.keys()\n",
    "# for pre in prefix_list:\n",
    "#     cov_file, frac_file = cov_dict[pre], frac_dict[pre]\n",
    "#     format_into_methylCount(pre, cov_file, frac_file)"
   ]
  },
  {
   "cell_type": "code",
   "execution_count": 20,
   "metadata": {},
   "outputs": [],
   "source": [
    "# merge seems didn't work\n",
    "# def merge_paired_CpG_site(meth_file):\n",
    "#     result_file = \"data/merged_meth/%s\" % os.path.basename(meth_file)\n",
    "#     os.system(\"symmetric-cpgs -o %s %s\" % (result_file, meth_file))\n",
    "# meth_list = glob.glob(\"data/methylcount_format/*.meth\")\n",
    "# for meth_file in meth_list:\n",
    "#     merge_paired_CpG_site(meth_file)"
   ]
  },
  {
   "cell_type": "code",
   "execution_count": 47,
   "metadata": {},
   "outputs": [],
   "source": [
    "# def get_up_down_peak(df, col_one, col_two):\n",
    "#     df = df.copy()[[\"chr\", \"start\", \"end\", col_one, col_two]]\n",
    "#     df[\"2vs1\"] = df[col_two] / df[col_one]\n",
    "#     df_up, df_down = df[df[\"2vs1\"] > 2], df[df[\"2vs1\"] < 0.5]\n",
    "#     df_up, df_down = df_up[[\"chr\", \"start\", \"end\"]], df_down[[\"chr\", \"start\", \"end\"]]\n",
    "# #     print(df_up.head())\n",
    "# #     print(df_down.head())\n",
    "#     return df_up, df_down\n",
    "\n",
    "# m6a_level = \"/data5/xlj/new_tissue_m6A/Macs2/Filter/Merge-Dup/Ratio/Total.Ratio\"\n",
    "# df = pd.read_table(m6a_level, sep=\"\\t\")\n",
    "# df[\"chr\"], df[\"start\"], df[\"end\"] = df.peak.str.split(\":\").str[0], df.peak.str.split(\":\").str[1].str.split(\"-\").str[0], df.peak.str.split(\"-\").str[1]\n",
    "# # df.head()\n",
    "# df_up, df_down = get_up_down_peak(df, \"brain\", \"heart\")\n",
    "\n",
    "# df_up[\"start\"] = df_up[\"start\"].astype(int)\n",
    "# df_down[\"start\"] = df_down[\"start\"].astype(int)\n",
    "# df_up = df_up.sort_values([\"chr\", \"start\"])\n",
    "# df_down = df_down.sort_values([\"chr\", \"start\"])\n",
    "# df_up.to_csv(\"/data5/galaxy/project/methyl_m6a/data/diff_m6a_peak/Up_m6a.bed\", sep=\"\\t\", header=None, index=False)\n",
    "# df_down.to_csv(\"/data5/galaxy/project/methyl_m6a/data/diff_m6a_peak/Down_m6a.bed\", sep=\"\\t\", header=None, index=False)"
   ]
  },
  {
   "cell_type": "code",
   "execution_count": 31,
   "metadata": {},
   "outputs": [
    {
     "name": "stdout",
     "output_type": "stream",
     "text": [
      "format_raw_bedgraph has done!\n",
      "format_raw_bedgraph has done!\n",
      "format_raw_bedgraph has done!\n",
      "format_raw_bedgraph has done!\n"
     ]
    }
   ],
   "source": [
    "def format_raw_bedgraph():\n",
    "    os.chdir(\"/data5/galaxy/project/methyl_m6a/data/wig_format\")\n",
    "    frac_list = glob.glob(\"*FractionalMethylation\")\n",
    "    for frac in frac_list:\n",
    "        df = pd.read_table(frac, sep=\"\\t\", comment=\"#\", header=None, names=[\"chr\", \"start\", \"end\", \"score\"])\n",
    "        df = df[df.index % 2 == 0]\n",
    "        prefix, chain_file = os.path.basename(frac).split(\"_\")[0], \"/data/database/chain_file/hg19ToHg38.over.chain\"\n",
    "        df[\"name\"] = df[\"chr\"] + \":\" + df[\"start\"].astype(str) + \"-\" + df[\"end\"].astype(str)\n",
    "        df[\"strand\"] = \".\"\n",
    "        df_bed = df[[\"chr\", \"start\", \"end\", \"name\", \"score\", \"strand\"]]\n",
    "        raw_result, final_result = (\"raw_%s.bed\" % prefix), (\"%s.bed\" % prefix)\n",
    "        df_bed.to_csv(raw_result, sep=\"\\t\", header=None, index=False)\n",
    "        os.system(\"liftOver %s %s %s unmapped.bed\" % (raw_result, chain_file, final_result))\n",
    "        os.remove(raw_result)\n",
    "        print(\"format_raw_bedgraph has done!\")\n",
    "#\n",
    "format_raw_bedgraph()"
   ]
  },
  {
   "cell_type": "code",
   "execution_count": 35,
   "metadata": {
    "scrolled": true
   },
   "outputs": [
    {
     "name": "stdout",
     "output_type": "stream",
     "text": [
      "/data5/galaxy/project/methyl_m6a/data/wig_format/E088.bed\n",
      "calculate_promoter_methylation_level has done!\n",
      "/data5/galaxy/project/methyl_m6a/data/wig_format/E083.bed\n",
      "calculate_promoter_methylation_level has done!\n",
      "/data5/galaxy/project/methyl_m6a/data/wig_format/E081.bed\n",
      "calculate_promoter_methylation_level has done!\n",
      "/data5/galaxy/project/methyl_m6a/data/wig_format/E086.bed\n",
      "calculate_promoter_methylation_level has done!\n"
     ]
    }
   ],
   "source": [
    "def calculate_promoter_methylation_level():\n",
    "    os.chdir(\"/data5/galaxy/project/methyl_m6a/data/roimethstat\")\n",
    "    promoter_bed = \"/data5/galaxy/project/data/promoter/human/2k_100/genes_promoters.bed\"\n",
    "    bed_list = glob.glob(\"/data5/galaxy/project/methyl_m6a/data/wig_format/*.bed\")\n",
    "    for formatted_bed in bed_list:\n",
    "        print(formatted_bed)\n",
    "        prefix, raw_result = os.path.basename(formatted_bed).split(\".bed\")[0], \"roimathstat_%s\" % os.path.basename(formatted_bed)\n",
    "        os.system(\"roimethstat -o %s %s %s\" % (raw_result, promoter_bed, formatted_bed))\n",
    "#         df = pd.read_table(raw_result, header=None, names=[\"chr\", \"a\", \"b\", \"name\", prefix, \"strand\"])\n",
    "#         df[\"start\"], df[\"end\"] = df[\"name\"].str.split(\":\").str[-2], df[\"name\"].str.split(\":\").str[-1]\n",
    "#         df[\"name\"] = df[\"name\"].str.split(\":\").str[0]\n",
    "#         df = df[[\"chr\", \"start\", \"end\", \"name\", prefix, \"strand\"]]\n",
    "#         result_bed = \"promoter_%s\" % os.path.basename(formatted_bed)\n",
    "#         df.to_csv(result_bed, sep=\"\\t\", header=None, index=False)\n",
    "        print(\"calculate_promoter_methylation_level has done!\")\n",
    "calculate_promoter_methylation_level()"
   ]
  },
  {
   "cell_type": "markdown",
   "metadata": {},
   "source": [
    "#### diff m6a"
   ]
  },
  {
   "cell_type": "code",
   "execution_count": 77,
   "metadata": {
    "collapsed": true
   },
   "outputs": [
    {
     "name": "stdout",
     "output_type": "stream",
     "text": [
      "liver\n",
      "/data5/galaxy/project/unique_bam//ip/rename_bam/liver_3.bam /data5/galaxy/project/unique_bam//ip/rename_bam/liver_2.bam /data5/galaxy/project/unique_bam//ip/rename_bam/liver_1.bam\n",
      "/data5/galaxy/project/unique_bam//input/rename_bam/liver_1_L6.bam /data5/galaxy/project/unique_bam//input/rename_bam/liver_3_L6.bam /data5/galaxy/project/unique_bam//input/rename_bam/liver_2_L7.bam\n",
      "lung\n",
      "/data5/galaxy/project/unique_bam//ip/rename_bam/lung_5.bam /data5/galaxy/project/unique_bam//ip/rename_bam/lung_4.bam\n",
      "/data5/galaxy/project/unique_bam//input/rename_bam/lung_5_L7.bam /data5/galaxy/project/unique_bam//input/rename_bam/lung_4_L7.bam\n",
      "mus\n",
      "/data5/galaxy/project/unique_bam//ip/rename_bam/mus_5.bam /data5/galaxy/project/unique_bam//ip/rename_bam/mus_4.bam\n",
      "/data5/galaxy/project/unique_bam//input/rename_bam/mus_5_L7.bam /data5/galaxy/project/unique_bam//input/rename_bam/mus_4_L6.bam\n",
      "pla\n",
      "/data5/galaxy/project/unique_bam//ip/rename_bam/pla_6.bam /data5/galaxy/project/unique_bam//ip/rename_bam/pla_2.bam /data5/galaxy/project/unique_bam//ip/rename_bam/pla_4.bam\n",
      "/data5/galaxy/project/unique_bam//input/rename_bam/pla_4_L6.bam /data5/galaxy/project/unique_bam//input/rename_bam/pla_6_L6.bam /data5/galaxy/project/unique_bam//input/rename_bam/pla_2_L3.bam\n",
      "heart\n",
      "/data5/galaxy/project/unique_bam//ip/rename_bam/heart_2.bam /data5/galaxy/project/unique_bam//ip/rename_bam/heart_3.bam /data5/galaxy/project/unique_bam//ip/rename_bam/heart_1.bam\n",
      "/data5/galaxy/project/unique_bam//input/rename_bam/heart_3_L6.bam /data5/galaxy/project/unique_bam//input/rename_bam/heart_1_L6.bam /data5/galaxy/project/unique_bam//input/rename_bam/heart_2_L7.bam\n",
      "sto\n",
      "/data5/galaxy/project/unique_bam//ip/rename_bam/sto_5.bam /data5/galaxy/project/unique_bam//ip/rename_bam/sto_4.bam\n",
      "/data5/galaxy/project/unique_bam//input/rename_bam/sto_4_L3.bam /data5/galaxy/project/unique_bam//input/rename_bam/sto_5_L7.bam\n",
      "kid\n",
      "/data5/galaxy/project/unique_bam//ip/rename_bam/kid_4.bam /data5/galaxy/project/unique_bam//ip/rename_bam/kid_2.bam /data5/galaxy/project/unique_bam//ip/rename_bam/kid_3.bam\n",
      "/data5/galaxy/project/unique_bam//input/rename_bam/kid_2_L7.bam /data5/galaxy/project/unique_bam//input/rename_bam/kid_4_L6.bam /data5/galaxy/project/unique_bam//input/rename_bam/kid_3_L8.bam\n",
      "brain\n",
      "/data5/galaxy/project/unique_bam//ip/rename_bam/brain_2.bam /data5/galaxy/project/unique_bam//ip/rename_bam/brain_1.bam /data5/galaxy/project/unique_bam//ip/rename_bam/brain_3.bam\n",
      "/data5/galaxy/project/unique_bam//input/rename_bam/brain_1_L6.bam /data5/galaxy/project/unique_bam//input/rename_bam/brain_2_L7.bam /data5/galaxy/project/unique_bam//input/rename_bam/brain_3_LX.bam\n"
     ]
    }
   ],
   "source": [
    "base_dir = \"/data5/galaxy/project/unique_bam/\"\n",
    "ip_dir, input_dir = \"%s/ip/rename_bam\" % base_dir, \"%s/input/rename_bam\" % base_dir\n",
    "def call_diff_peak(tissue_prefix):\n",
    "    res_dir = \"/data5/galaxy/project/methyl_m6a/data/diff_m6a_peak/macs2/%s\" % tissue_prefix\n",
    "    if not os.path.exists(res_dir):\n",
    "          os.makedirs(res_dir)\n",
    "    tr_bam = \" \".join(glob.glob(\"%s/%s*.bam\" % (ip_dir, tissue_prefix)))\n",
    "    # print(tr_bam)\n",
    "    con_bam = \" \".join(glob.glob(\"%s/%s*.bam\" % (input_dir, tissue_prefix)))\n",
    "#     print(con_bam)\n",
    "    os.system(\"macs2 callpeak -B -t %s -c %s --outdir %s -q 0.05 --nomodel -n %s -g hs\" % (tr_bam, con_bam, res_dir, tissue_prefix))\n",
    "tissue_list = list(set([os.path.basename(x).split(\"_\")[0] for x in glob.glob(\"%s/*.bam\" % ip_dir)]))\n",
    "for tissue_prefix in tissue_list:\n",
    "    print(tissue_prefix)\n",
    "    call_diff_peak(tissue_prefix)"
   ]
  },
  {
   "cell_type": "code",
   "execution_count": 3,
   "metadata": {
    "collapsed": true
   },
   "outputs": [
    {
     "name": "stdout",
     "output_type": "stream",
     "text": [
      "heart sto\n"
     ]
    },
    {
     "data": {
      "text/plain": [
       "<multiprocessing.pool.ApplyResult at 0x7f1e4c711c18>"
      ]
     },
     "execution_count": 3,
     "metadata": {},
     "output_type": "execute_result"
    },
    {
     "data": {
      "text/plain": [
       "<multiprocessing.pool.ApplyResult at 0x7f1e4c711eb8>"
      ]
     },
     "execution_count": 3,
     "metadata": {},
     "output_type": "execute_result"
    },
    {
     "data": {
      "text/plain": [
       "<multiprocessing.pool.ApplyResult at 0x7f1e84519f60>"
      ]
     },
     "execution_count": 3,
     "metadata": {},
     "output_type": "execute_result"
    },
    {
     "name": "stdout",
     "output_type": "stream",
     "text": [
      "heart lung\n"
     ]
    },
    {
     "data": {
      "text/plain": [
       "<multiprocessing.pool.ApplyResult at 0x7f1e4c69f0b8>"
      ]
     },
     "execution_count": 3,
     "metadata": {},
     "output_type": "execute_result"
    },
    {
     "name": "stdout",
     "output_type": "stream",
     "text": [
      "heart mus\n"
     ]
    },
    {
     "data": {
      "text/plain": [
       "<multiprocessing.pool.ApplyResult at 0x7f1e4c69f1d0>"
      ]
     },
     "execution_count": 3,
     "metadata": {},
     "output_type": "execute_result"
    },
    {
     "name": "stdout",
     "output_type": "stream",
     "text": [
      "heart pla\n"
     ]
    },
    {
     "data": {
      "text/plain": [
       "<multiprocessing.pool.ApplyResult at 0x7f1e4c711e10>"
      ]
     },
     "execution_count": 3,
     "metadata": {},
     "output_type": "execute_result"
    },
    {
     "name": "stdout",
     "output_type": "stream",
     "text": [
      "heart liver\n"
     ]
    },
    {
     "data": {
      "text/plain": [
       "<multiprocessing.pool.ApplyResult at 0x7f1e4c69f3c8>"
      ]
     },
     "execution_count": 3,
     "metadata": {},
     "output_type": "execute_result"
    },
    {
     "name": "stdout",
     "output_type": "stream",
     "text": [
      "# tags after filtering in treatment: 19639808a\n",
      "# tags after filtering in control: 47661421a\n",
      "# tags after filtering in treatment: 19639808a\n",
      "# tags after filtering in control: 47661421a\n"
     ]
    },
    {
     "data": {
      "text/plain": [
       "<multiprocessing.pool.ApplyResult at 0x7f1e4c69f4a8>"
      ]
     },
     "execution_count": 3,
     "metadata": {},
     "output_type": "execute_result"
    },
    {
     "name": "stdout",
     "output_type": "stream",
     "text": [
      "# tags after filtering in treatment: 19639808a\n"
     ]
    },
    {
     "data": {
      "text/plain": [
       "<multiprocessing.pool.ApplyResult at 0x7f1e4c69f5c0>"
      ]
     },
     "execution_count": 3,
     "metadata": {},
     "output_type": "execute_result"
    },
    {
     "name": "stdout",
     "output_type": "stream",
     "text": [
      "# tags after filtering in treatment: 19639808a\n",
      "# tags after filtering in control: 47661421a\n"
     ]
    },
    {
     "data": {
      "text/plain": [
       "<multiprocessing.pool.ApplyResult at 0x7f1e4c69f208>"
      ]
     },
     "execution_count": 3,
     "metadata": {},
     "output_type": "execute_result"
    },
    {
     "data": {
      "text/plain": [
       "<multiprocessing.pool.ApplyResult at 0x7f1e4c69f6d8>"
      ]
     },
     "execution_count": 3,
     "metadata": {},
     "output_type": "execute_result"
    },
    {
     "name": "stdout",
     "output_type": "stream",
     "text": [
      "# tags after filtering in control: 47661421a\n",
      "# tags after filtering in treatment: 12332131a\n",
      "# tags after filtering in control: 41033398a\n",
      "# tags after filtering in treatment: 19639808a\n"
     ]
    },
    {
     "data": {
      "text/plain": [
       "<multiprocessing.pool.ApplyResult at 0x7f1e4c69f710>"
      ]
     },
     "execution_count": 3,
     "metadata": {},
     "output_type": "execute_result"
    },
    {
     "name": "stdout",
     "output_type": "stream",
     "text": [
      "# tags after filtering in control: 47661421a\n"
     ]
    },
    {
     "data": {
      "text/plain": [
       "<multiprocessing.pool.ApplyResult at 0x7f1e4c69f748>"
      ]
     },
     "execution_count": 3,
     "metadata": {},
     "output_type": "execute_result"
    },
    {
     "name": "stdout",
     "output_type": "stream",
     "text": [
      "# tags after filtering in treatment: 20643431a\n"
     ]
    },
    {
     "data": {
      "text/plain": [
       "<multiprocessing.pool.ApplyResult at 0x7f1e4c69f828>"
      ]
     },
     "execution_count": 3,
     "metadata": {},
     "output_type": "execute_result"
    },
    {
     "name": "stdout",
     "output_type": "stream",
     "text": [
      "# tags after filtering in treatment: 16858672a\n"
     ]
    },
    {
     "data": {
      "text/plain": [
       "<multiprocessing.pool.ApplyResult at 0x7f1e4c69f8d0>"
      ]
     },
     "execution_count": 3,
     "metadata": {},
     "output_type": "execute_result"
    },
    {
     "name": "stdout",
     "output_type": "stream",
     "text": [
      "# tags after filtering in control: 33858979a\n",
      "# tags after filtering in control: 40349670a\n",
      "# tags after filtering in treatment: 32181303a\n",
      "# tags after filtering in control: 52008099a\n"
     ]
    },
    {
     "data": {
      "text/plain": [
       "<multiprocessing.pool.ApplyResult at 0x7f1e4c69fa58>"
      ]
     },
     "execution_count": 3,
     "metadata": {},
     "output_type": "execute_result"
    },
    {
     "data": {
      "text/plain": [
       "<multiprocessing.pool.ApplyResult at 0x7f1e4c69f9b0>"
      ]
     },
     "execution_count": 3,
     "metadata": {},
     "output_type": "execute_result"
    },
    {
     "name": "stdout",
     "output_type": "stream",
     "text": [
      "# tags after filtering in treatment: 16997942a\n",
      "# tags after filtering in control: 41728116a\n"
     ]
    },
    {
     "data": {
      "text/plain": [
       "<multiprocessing.pool.ApplyResult at 0x7f1e4c69fa90>"
      ]
     },
     "execution_count": 3,
     "metadata": {},
     "output_type": "execute_result"
    },
    {
     "data": {
      "text/plain": [
       "<multiprocessing.pool.ApplyResult at 0x7f1e4c69f240>"
      ]
     },
     "execution_count": 3,
     "metadata": {},
     "output_type": "execute_result"
    },
    {
     "data": {
      "text/plain": [
       "<multiprocessing.pool.ApplyResult at 0x7f1e4c69fc88>"
      ]
     },
     "execution_count": 3,
     "metadata": {},
     "output_type": "execute_result"
    },
    {
     "data": {
      "text/plain": [
       "<multiprocessing.pool.ApplyResult at 0x7f1e4c69fd68>"
      ]
     },
     "execution_count": 3,
     "metadata": {},
     "output_type": "execute_result"
    },
    {
     "data": {
      "text/plain": [
       "<multiprocessing.pool.ApplyResult at 0x7f1e4c69fda0>"
      ]
     },
     "execution_count": 3,
     "metadata": {},
     "output_type": "execute_result"
    },
    {
     "data": {
      "text/plain": [
       "<multiprocessing.pool.ApplyResult at 0x7f1e4c69feb8>"
      ]
     },
     "execution_count": 3,
     "metadata": {},
     "output_type": "execute_result"
    },
    {
     "data": {
      "text/plain": [
       "<multiprocessing.pool.ApplyResult at 0x7f1e4c69fef0>"
      ]
     },
     "execution_count": 3,
     "metadata": {},
     "output_type": "execute_result"
    },
    {
     "data": {
      "text/plain": [
       "<multiprocessing.pool.ApplyResult at 0x7f1e4c69ffd0>"
      ]
     },
     "execution_count": 3,
     "metadata": {},
     "output_type": "execute_result"
    },
    {
     "data": {
      "text/plain": [
       "<multiprocessing.pool.ApplyResult at 0x7f1e4c6a6080>"
      ]
     },
     "execution_count": 3,
     "metadata": {},
     "output_type": "execute_result"
    },
    {
     "data": {
      "text/plain": [
       "<multiprocessing.pool.ApplyResult at 0x7f1e4c6a6160>"
      ]
     },
     "execution_count": 3,
     "metadata": {},
     "output_type": "execute_result"
    },
    {
     "data": {
      "text/plain": [
       "<multiprocessing.pool.ApplyResult at 0x7f1e4c6a6198>"
      ]
     },
     "execution_count": 3,
     "metadata": {},
     "output_type": "execute_result"
    },
    {
     "data": {
      "text/plain": [
       "<multiprocessing.pool.ApplyResult at 0x7f1e4c6a62b0>"
      ]
     },
     "execution_count": 3,
     "metadata": {},
     "output_type": "execute_result"
    },
    {
     "data": {
      "text/plain": [
       "<multiprocessing.pool.ApplyResult at 0x7f1e4c6a63c8>"
      ]
     },
     "execution_count": 3,
     "metadata": {},
     "output_type": "execute_result"
    },
    {
     "data": {
      "text/plain": [
       "<multiprocessing.pool.ApplyResult at 0x7f1e4c6a6358>"
      ]
     },
     "execution_count": 3,
     "metadata": {},
     "output_type": "execute_result"
    },
    {
     "data": {
      "text/plain": [
       "<multiprocessing.pool.ApplyResult at 0x7f1e4c6a64a8>"
      ]
     },
     "execution_count": 3,
     "metadata": {},
     "output_type": "execute_result"
    },
    {
     "data": {
      "text/plain": [
       "<multiprocessing.pool.ApplyResult at 0x7f1e4c6a6550>"
      ]
     },
     "execution_count": 3,
     "metadata": {},
     "output_type": "execute_result"
    },
    {
     "data": {
      "text/plain": [
       "<multiprocessing.pool.ApplyResult at 0x7f1e4c6a6630>"
      ]
     },
     "execution_count": 3,
     "metadata": {},
     "output_type": "execute_result"
    },
    {
     "data": {
      "text/plain": [
       "<multiprocessing.pool.ApplyResult at 0x7f1e4c6a66d8>"
      ]
     },
     "execution_count": 3,
     "metadata": {},
     "output_type": "execute_result"
    },
    {
     "data": {
      "text/plain": [
       "<multiprocessing.pool.ApplyResult at 0x7f1e4c6a65f8>"
      ]
     },
     "execution_count": 3,
     "metadata": {},
     "output_type": "execute_result"
    },
    {
     "data": {
      "text/plain": [
       "<multiprocessing.pool.ApplyResult at 0x7f1e4c6a67b8>"
      ]
     },
     "execution_count": 3,
     "metadata": {},
     "output_type": "execute_result"
    },
    {
     "data": {
      "text/plain": [
       "<multiprocessing.pool.ApplyResult at 0x7f1e4c6a6860>"
      ]
     },
     "execution_count": 3,
     "metadata": {},
     "output_type": "execute_result"
    },
    {
     "data": {
      "text/plain": [
       "<multiprocessing.pool.ApplyResult at 0x7f1e4c6a6908>"
      ]
     },
     "execution_count": 3,
     "metadata": {},
     "output_type": "execute_result"
    },
    {
     "data": {
      "text/plain": [
       "<multiprocessing.pool.ApplyResult at 0x7f1e4c6a69b0>"
      ]
     },
     "execution_count": 3,
     "metadata": {},
     "output_type": "execute_result"
    },
    {
     "data": {
      "text/plain": [
       "<multiprocessing.pool.ApplyResult at 0x7f1e4c6a6a58>"
      ]
     },
     "execution_count": 3,
     "metadata": {},
     "output_type": "execute_result"
    },
    {
     "data": {
      "text/plain": [
       "<multiprocessing.pool.ApplyResult at 0x7f1e4c6a6b00>"
      ]
     },
     "execution_count": 3,
     "metadata": {},
     "output_type": "execute_result"
    },
    {
     "data": {
      "text/plain": [
       "<multiprocessing.pool.ApplyResult at 0x7f1e4c6a6ba8>"
      ]
     },
     "execution_count": 3,
     "metadata": {},
     "output_type": "execute_result"
    },
    {
     "data": {
      "text/plain": [
       "<multiprocessing.pool.ApplyResult at 0x7f1e4c6a6c50>"
      ]
     },
     "execution_count": 3,
     "metadata": {},
     "output_type": "execute_result"
    },
    {
     "data": {
      "text/plain": [
       "<multiprocessing.pool.ApplyResult at 0x7f1e4c6a6cf8>"
      ]
     },
     "execution_count": 3,
     "metadata": {},
     "output_type": "execute_result"
    },
    {
     "data": {
      "text/plain": [
       "<multiprocessing.pool.ApplyResult at 0x7f1e4c6a6da0>"
      ]
     },
     "execution_count": 3,
     "metadata": {},
     "output_type": "execute_result"
    },
    {
     "data": {
      "text/plain": [
       "<multiprocessing.pool.ApplyResult at 0x7f1e4c6a6e48>"
      ]
     },
     "execution_count": 3,
     "metadata": {},
     "output_type": "execute_result"
    },
    {
     "data": {
      "text/plain": [
       "<multiprocessing.pool.ApplyResult at 0x7f1e4c6a6ef0>"
      ]
     },
     "execution_count": 3,
     "metadata": {},
     "output_type": "execute_result"
    },
    {
     "data": {
      "text/plain": [
       "<multiprocessing.pool.ApplyResult at 0x7f1e4c6a6f98>"
      ]
     },
     "execution_count": 3,
     "metadata": {},
     "output_type": "execute_result"
    },
    {
     "data": {
      "text/plain": [
       "<multiprocessing.pool.ApplyResult at 0x7f1e4c6b3080>"
      ]
     },
     "execution_count": 3,
     "metadata": {},
     "output_type": "execute_result"
    },
    {
     "data": {
      "text/plain": [
       "<multiprocessing.pool.ApplyResult at 0x7f1e4c6b3128>"
      ]
     },
     "execution_count": 3,
     "metadata": {},
     "output_type": "execute_result"
    },
    {
     "data": {
      "text/plain": [
       "<multiprocessing.pool.ApplyResult at 0x7f1e4c6b31d0>"
      ]
     },
     "execution_count": 3,
     "metadata": {},
     "output_type": "execute_result"
    },
    {
     "data": {
      "text/plain": [
       "<multiprocessing.pool.ApplyResult at 0x7f1e4c6b3278>"
      ]
     },
     "execution_count": 3,
     "metadata": {},
     "output_type": "execute_result"
    },
    {
     "data": {
      "text/plain": [
       "<multiprocessing.pool.ApplyResult at 0x7f1e4c6b3320>"
      ]
     },
     "execution_count": 3,
     "metadata": {},
     "output_type": "execute_result"
    },
    {
     "data": {
      "text/plain": [
       "<multiprocessing.pool.ApplyResult at 0x7f1e4c6b33c8>"
      ]
     },
     "execution_count": 3,
     "metadata": {},
     "output_type": "execute_result"
    },
    {
     "data": {
      "text/plain": [
       "<multiprocessing.pool.ApplyResult at 0x7f1e4c6b34a8>"
      ]
     },
     "execution_count": 3,
     "metadata": {},
     "output_type": "execute_result"
    },
    {
     "name": "stdout",
     "output_type": "stream",
     "text": [
      "heart brain\n",
      "# tags after filtering in treatment: 19639808a\n",
      "# tags after filtering in control: 47661421a\n",
      "# tags after filtering in treatment: 43529061a\n",
      "# tags after filtering in control: 64428658a\n",
      "heart kid\n",
      "# tags after filtering in treatment: 19639808a\n",
      "# tags after filtering in control: 47661421a\n",
      "# tags after filtering in treatment: 40433534a\n",
      "# tags after filtering in control: 63313205a\n",
      "sto heart\n",
      "# tags after filtering in treatment: 12332131a\n",
      "# tags after filtering in control: 41033398a\n",
      "# tags after filtering in treatment: 19639808a\n",
      "# tags after filtering in control: 47661421a\n",
      "sto lung\n",
      "# tags after filtering in treatment: 12332131a\n",
      "# tags after filtering in control: 41033398a\n",
      "# tags after filtering in treatment: 16858672a\n",
      "# tags after filtering in control: 40349670a\n",
      "sto mus\n",
      "# tags after filtering in treatment: 12332131a\n",
      "# tags after filtering in control: 41033398a\n",
      "# tags after filtering in treatment: 20643431a\n",
      "# tags after filtering in control: 33858979a\n",
      "sto pla\n",
      "# tags after filtering in treatment: 12332131a\n",
      "# tags after filtering in control: 41033398a\n",
      "# tags after filtering in treatment: 32181303a\n",
      "# tags after filtering in control: 52008099a\n",
      "sto liver\n",
      "# tags after filtering in treatment: 12332131a\n",
      "# tags after filtering in control: 41033398a\n",
      "# tags after filtering in treatment: 16997942a\n",
      "# tags after filtering in control: 41728116a\n",
      "sto brain\n",
      "# tags after filtering in treatment: 12332131a\n",
      "# tags after filtering in control: 41033398a\n",
      "# tags after filtering in treatment: 43529061a\n",
      "# tags after filtering in control: 64428658a\n",
      "sto kid\n",
      "# tags after filtering in treatment: 12332131a\n",
      "# tags after filtering in control: 41033398a\n",
      "# tags after filtering in treatment: 40433534a\n",
      "# tags after filtering in control: 63313205a\n",
      "lung heart\n",
      "# tags after filtering in treatment: 16858672a\n",
      "# tags after filtering in control: 40349670a\n",
      "# tags after filtering in treatment: 19639808a\n",
      "# tags after filtering in control: 47661421a\n",
      "lung sto\n",
      "# tags after filtering in treatment: 16858672a\n",
      "# tags after filtering in control: 40349670a\n",
      "# tags after filtering in treatment: 12332131a\n",
      "# tags after filtering in control: 41033398a\n",
      "lung mus\n",
      "# tags after filtering in treatment: 16858672a\n",
      "# tags after filtering in control: 40349670a\n",
      "# tags after filtering in treatment: 20643431a\n",
      "# tags after filtering in control: 33858979a\n",
      "lung pla\n",
      "# tags after filtering in treatment: 16858672a\n",
      "# tags after filtering in control: 40349670a\n",
      "# tags after filtering in treatment: 32181303a\n",
      "# tags after filtering in control: 52008099a\n",
      "lung liver\n",
      "# tags after filtering in treatment: 16858672a\n",
      "# tags after filtering in control: 40349670a\n",
      "# tags after filtering in treatment: 16997942a\n",
      "# tags after filtering in control: 41728116a\n",
      "lung brain\n",
      "# tags after filtering in treatment: 16858672a\n",
      "# tags after filtering in control: 40349670a\n",
      "# tags after filtering in treatment: 43529061a\n",
      "# tags after filtering in control: 64428658a\n",
      "lung kid\n",
      "# tags after filtering in treatment: 16858672a\n",
      "# tags after filtering in control: 40349670a\n",
      "# tags after filtering in treatment: 40433534a\n",
      "# tags after filtering in control: 63313205a\n",
      "mus heart\n",
      "# tags after filtering in treatment: 20643431a\n",
      "# tags after filtering in control: 33858979a\n",
      "# tags after filtering in treatment: 19639808a\n",
      "# tags after filtering in control: 47661421a\n",
      "mus sto\n",
      "# tags after filtering in treatment: 20643431a\n",
      "# tags after filtering in control: 33858979a\n",
      "# tags after filtering in treatment: 12332131a\n",
      "# tags after filtering in control: 41033398a\n",
      "mus lung\n",
      "# tags after filtering in treatment: 20643431a\n",
      "# tags after filtering in control: 33858979a\n",
      "# tags after filtering in treatment: 16858672a\n",
      "# tags after filtering in control: 40349670a\n",
      "mus pla\n",
      "# tags after filtering in treatment: 20643431a\n",
      "# tags after filtering in control: 33858979a\n",
      "# tags after filtering in treatment: 32181303a\n",
      "# tags after filtering in control: 52008099a\n",
      "mus liver\n",
      "# tags after filtering in treatment: 20643431a\n",
      "# tags after filtering in control: 33858979a\n",
      "# tags after filtering in treatment: 16997942a\n",
      "# tags after filtering in control: 41728116a\n",
      "mus brain\n",
      "# tags after filtering in treatment: 20643431a\n",
      "# tags after filtering in control: 33858979a\n",
      "# tags after filtering in treatment: 43529061a\n",
      "# tags after filtering in control: 64428658a\n",
      "mus kid\n",
      "# tags after filtering in treatment: 20643431a\n",
      "# tags after filtering in control: 33858979a\n",
      "# tags after filtering in treatment: 40433534a\n",
      "# tags after filtering in control: 63313205a\n",
      "pla heart\n",
      "# tags after filtering in treatment: 32181303a\n",
      "# tags after filtering in control: 52008099a\n",
      "# tags after filtering in treatment: 19639808a\n",
      "# tags after filtering in control: 47661421a\n",
      "pla sto\n",
      "# tags after filtering in treatment: 32181303a\n",
      "# tags after filtering in control: 52008099a\n",
      "# tags after filtering in treatment: 12332131a\n",
      "# tags after filtering in control: 41033398a\n",
      "pla lung\n",
      "# tags after filtering in treatment: 32181303a\n",
      "# tags after filtering in control: 52008099a\n",
      "# tags after filtering in treatment: 16858672a\n",
      "# tags after filtering in control: 40349670a\n",
      "pla mus\n",
      "# tags after filtering in treatment: 32181303a\n",
      "# tags after filtering in control: 52008099a\n",
      "# tags after filtering in treatment: 20643431a\n",
      "# tags after filtering in control: 33858979a\n",
      "pla liver\n",
      "# tags after filtering in treatment: 32181303a\n",
      "# tags after filtering in control: 52008099a\n",
      "# tags after filtering in treatment: 16997942a\n",
      "# tags after filtering in control: 41728116a\n",
      "pla brain\n",
      "# tags after filtering in treatment: 32181303a\n",
      "# tags after filtering in control: 52008099a\n",
      "# tags after filtering in treatment: 43529061a\n",
      "# tags after filtering in control: 64428658a\n",
      "pla kid\n",
      "# tags after filtering in treatment: 32181303a\n",
      "# tags after filtering in control: 52008099a\n",
      "# tags after filtering in treatment: 40433534a\n",
      "# tags after filtering in control: 63313205a\n",
      "liver heart\n",
      "# tags after filtering in treatment: 16997942a\n",
      "# tags after filtering in control: 41728116a\n",
      "# tags after filtering in treatment: 19639808a\n",
      "# tags after filtering in control: 47661421a\n",
      "liver sto\n",
      "# tags after filtering in treatment: 16997942a\n",
      "# tags after filtering in control: 41728116a\n",
      "# tags after filtering in treatment: 12332131a\n",
      "# tags after filtering in control: 41033398a\n",
      "liver lung\n",
      "# tags after filtering in treatment: 16997942a\n",
      "# tags after filtering in control: 41728116a\n",
      "# tags after filtering in treatment: 16858672a\n",
      "# tags after filtering in control: 40349670a\n",
      "liver mus\n",
      "# tags after filtering in treatment: 16997942a\n",
      "# tags after filtering in control: 41728116a\n",
      "# tags after filtering in treatment: 20643431a\n",
      "# tags after filtering in control: 33858979a\n",
      "liver pla\n",
      "# tags after filtering in treatment: 16997942a\n",
      "# tags after filtering in control: 41728116a\n",
      "# tags after filtering in treatment: 32181303a\n",
      "# tags after filtering in control: 52008099a\n",
      "liver brain\n",
      "# tags after filtering in treatment: 16997942a\n",
      "# tags after filtering in control: 41728116a\n",
      "# tags after filtering in treatment: 43529061a\n",
      "# tags after filtering in control: 64428658a\n",
      "liver kid\n",
      "# tags after filtering in treatment: 16997942a\n",
      "# tags after filtering in control: 41728116a\n",
      "# tags after filtering in treatment: 40433534a\n",
      "# tags after filtering in control: 63313205a\n",
      "brain heart\n",
      "# tags after filtering in treatment: 43529061a\n",
      "# tags after filtering in control: 64428658a\n",
      "# tags after filtering in treatment: 19639808a\n",
      "# tags after filtering in control: 47661421a\n",
      "brain sto\n",
      "# tags after filtering in treatment: 43529061a\n",
      "# tags after filtering in control: 64428658a\n",
      "# tags after filtering in treatment: 12332131a\n",
      "# tags after filtering in control: 41033398a\n",
      "brain lung\n",
      "# tags after filtering in treatment: 43529061a\n",
      "# tags after filtering in control: 64428658a\n",
      "# tags after filtering in treatment: 16858672a\n",
      "# tags after filtering in control: 40349670a\n",
      "brain mus\n",
      "# tags after filtering in treatment: 43529061a\n",
      "# tags after filtering in control: 64428658a\n",
      "# tags after filtering in treatment: 20643431a\n",
      "# tags after filtering in control: 33858979a\n",
      "brain pla\n",
      "# tags after filtering in treatment: 43529061a\n",
      "# tags after filtering in control: 64428658a\n",
      "# tags after filtering in treatment: 32181303a\n",
      "# tags after filtering in control: 52008099a\n",
      "brain liver\n",
      "# tags after filtering in treatment: 43529061a\n"
     ]
    },
    {
     "name": "stdout",
     "output_type": "stream",
     "text": [
      "# tags after filtering in control: 64428658a\n",
      "# tags after filtering in treatment: 16997942a\n",
      "# tags after filtering in control: 41728116a\n",
      "brain kid\n",
      "# tags after filtering in treatment: 43529061a\n",
      "# tags after filtering in control: 64428658a\n",
      "# tags after filtering in treatment: 40433534a\n",
      "# tags after filtering in control: 63313205a\n",
      "kid heart\n",
      "# tags after filtering in treatment: 40433534a\n",
      "# tags after filtering in control: 63313205a\n",
      "# tags after filtering in treatment: 19639808a\n",
      "# tags after filtering in control: 47661421a\n",
      "kid sto\n",
      "# tags after filtering in treatment: 40433534a\n",
      "# tags after filtering in control: 63313205a\n",
      "# tags after filtering in treatment: 12332131a\n",
      "# tags after filtering in control: 41033398a\n",
      "kid lung\n",
      "# tags after filtering in treatment: 40433534a\n",
      "# tags after filtering in control: 63313205a\n",
      "# tags after filtering in treatment: 16858672a\n",
      "# tags after filtering in control: 40349670a\n",
      "kid mus\n",
      "# tags after filtering in treatment: 40433534a\n",
      "# tags after filtering in control: 63313205a\n",
      "# tags after filtering in treatment: 20643431a\n",
      "# tags after filtering in control: 33858979a\n",
      "kid pla\n",
      "# tags after filtering in treatment: 40433534a\n",
      "# tags after filtering in control: 63313205a\n",
      "# tags after filtering in treatment: 32181303a\n",
      "# tags after filtering in control: 52008099a\n",
      "kid liver\n",
      "# tags after filtering in treatment: 40433534a\n",
      "# tags after filtering in control: 63313205a\n",
      "# tags after filtering in treatment: 16997942a\n",
      "# tags after filtering in control: 41728116a\n",
      "kid brain\n",
      "# tags after filtering in treatment: 40433534a\n",
      "# tags after filtering in control: 63313205a\n",
      "# tags after filtering in treatment: 43529061a\n",
      "# tags after filtering in control: 64428658a\n"
     ]
    }
   ],
   "source": [
    "base_dir = \"/data5/galaxy/project/methyl_m6a/data/diff_m6a_peak/macs2\"\n",
    "tissue_list = [x.split(\"/\")[-2] for x in glob.glob(\"%s/*/*.xls\" % base_dir)]\n",
    "pair_value_list = list(permutations(tissue_list, 2))   # combinations\n",
    "    \n",
    "def get_effective_seq_depth(tissue_prefix):\n",
    "    treat_bdg = \"%s/%s/%s_treat_pileup.bdg\" % (base_dir, tissue_prefix, tissue_prefix)\n",
    "    control_bdg = \"%s/%s/%s_control_lambda.bdg\" % (base_dir, tissue_prefix, tissue_prefix)\n",
    "    xls = \"%s/%s/%s_peaks.xls\" % (base_dir, tissue_prefix, tissue_prefix)\n",
    "    return_str = os.popen('egrep \"tags after filtering in treatment|tags after filtering in control\" %s' % xls)\n",
    "    line_list, number_list = return_str.read().strip().split(\"\\n\"), []\n",
    "    for line in line_list:\n",
    "        print(line + \"a\")\n",
    "        number_list.append(float(line.split(\":\")[1].strip()))\n",
    "    final_num = min(number_list)\n",
    "    return treat_bdg, control_bdg, final_num\n",
    "\n",
    "def process_each_pair(pair_list):\n",
    "    tissue_1, tissue_2 = pair_list[0], pair_list[1]\n",
    "    print(tissue_1, tissue_2)\n",
    "    result_dir = \"/data5/galaxy/project/methyl_m6a/data/diff_m6a_peak/macs2_bdgdiff/%s_vs_%s\" % (tissue_1, tissue_2)\n",
    "    if not os.path.exists(result_dir):\n",
    "        os.makedirs(result_dir)\n",
    "    treat_bdg_1, control_bdg_1, final_num_1 = get_effective_seq_depth(tissue_1)\n",
    "    treat_bdg_2, control_bdg_2, final_num_2 = get_effective_seq_depth(tissue_2)\n",
    "    os.system(\"macs2 bdgdiff --t1 %s --c1 %s --t2 %s --c2 %s --d1 %f --d2 %f --outdir %s --o-prefix 'diff_peak'\" % \n",
    "              (treat_bdg_1, control_bdg_1, treat_bdg_2, control_bdg_2, final_num_1, final_num_2, result_dir))\n",
    "\n",
    "pool = Pool(processes=5)\n",
    "for pair_list in pair_value_list:\n",
    "    pool.apply_async(process_each_pair, (pair_list, ))\n",
    "pool.close()\n",
    "pool.join()"
   ]
  },
  {
   "cell_type": "code",
   "execution_count": 4,
   "metadata": {},
   "outputs": [],
   "source": [
    "# base_dir = \"/data5/galaxy/project/methyl_m6a/data/diff_m6a_peak/macs2_bdgdiff/\"  # heart_vs_brain\n",
    "# !python /data5/galaxy/shell_dir/2018_3_17/chip_seq_pipeline/short_reads/04_annotate_peaks.py"
   ]
  },
  {
   "cell_type": "code",
   "execution_count": 9,
   "metadata": {
    "collapsed": true
   },
   "outputs": [
    {
     "name": "stdout",
     "output_type": "stream",
     "text": [
      "mus_vs_pla\n"
     ]
    },
    {
     "data": {
      "text/plain": [
       "'/data5/galaxy/project/methyl_m6a/data/diff_m6a_peak/macs2_bdgdiff/combination/mus_vs_pla'"
      ]
     },
     "execution_count": 9,
     "metadata": {},
     "output_type": "execute_result"
    },
    {
     "name": "stdout",
     "output_type": "stream",
     "text": [
      "heart_vs_sto\n"
     ]
    },
    {
     "data": {
      "text/plain": [
       "'/data5/galaxy/project/methyl_m6a/data/diff_m6a_peak/macs2_bdgdiff/combination/heart_vs_sto'"
      ]
     },
     "execution_count": 9,
     "metadata": {},
     "output_type": "execute_result"
    },
    {
     "name": "stdout",
     "output_type": "stream",
     "text": [
      "lung_vs_liver\n"
     ]
    },
    {
     "data": {
      "text/plain": [
       "'/data5/galaxy/project/methyl_m6a/data/diff_m6a_peak/macs2_bdgdiff/combination/lung_vs_liver'"
      ]
     },
     "execution_count": 9,
     "metadata": {},
     "output_type": "execute_result"
    },
    {
     "name": "stdout",
     "output_type": "stream",
     "text": [
      "kid_vs_brain\n"
     ]
    },
    {
     "data": {
      "text/plain": [
       "'/data5/galaxy/project/methyl_m6a/data/diff_m6a_peak/macs2_bdgdiff/combination/kid_vs_brain'"
      ]
     },
     "execution_count": 9,
     "metadata": {},
     "output_type": "execute_result"
    },
    {
     "name": "stdout",
     "output_type": "stream",
     "text": [
      "lung_vs_kid\n"
     ]
    },
    {
     "data": {
      "text/plain": [
       "'/data5/galaxy/project/methyl_m6a/data/diff_m6a_peak/macs2_bdgdiff/combination/lung_vs_kid'"
      ]
     },
     "execution_count": 9,
     "metadata": {},
     "output_type": "execute_result"
    },
    {
     "name": "stdout",
     "output_type": "stream",
     "text": [
      "kid_vs_mus\n"
     ]
    },
    {
     "data": {
      "text/plain": [
       "'/data5/galaxy/project/methyl_m6a/data/diff_m6a_peak/macs2_bdgdiff/combination/kid_vs_mus'"
      ]
     },
     "execution_count": 9,
     "metadata": {},
     "output_type": "execute_result"
    },
    {
     "name": "stdout",
     "output_type": "stream",
     "text": [
      "lung_vs_brain\n"
     ]
    },
    {
     "data": {
      "text/plain": [
       "'/data5/galaxy/project/methyl_m6a/data/diff_m6a_peak/macs2_bdgdiff/combination/lung_vs_brain'"
      ]
     },
     "execution_count": 9,
     "metadata": {},
     "output_type": "execute_result"
    },
    {
     "name": "stdout",
     "output_type": "stream",
     "text": [
      "pla_vs_sto\n"
     ]
    },
    {
     "data": {
      "text/plain": [
       "'/data5/galaxy/project/methyl_m6a/data/diff_m6a_peak/macs2_bdgdiff/combination/pla_vs_sto'"
      ]
     },
     "execution_count": 9,
     "metadata": {},
     "output_type": "execute_result"
    },
    {
     "name": "stdout",
     "output_type": "stream",
     "text": [
      "lung_vs_pla\n"
     ]
    },
    {
     "data": {
      "text/plain": [
       "'/data5/galaxy/project/methyl_m6a/data/diff_m6a_peak/macs2_bdgdiff/combination/lung_vs_pla'"
      ]
     },
     "execution_count": 9,
     "metadata": {},
     "output_type": "execute_result"
    },
    {
     "name": "stdout",
     "output_type": "stream",
     "text": [
      "mus_vs_sto\n"
     ]
    },
    {
     "data": {
      "text/plain": [
       "'/data5/galaxy/project/methyl_m6a/data/diff_m6a_peak/macs2_bdgdiff/combination/mus_vs_sto'"
      ]
     },
     "execution_count": 9,
     "metadata": {},
     "output_type": "execute_result"
    },
    {
     "name": "stdout",
     "output_type": "stream",
     "text": [
      "kid_vs_liver\n"
     ]
    },
    {
     "data": {
      "text/plain": [
       "'/data5/galaxy/project/methyl_m6a/data/diff_m6a_peak/macs2_bdgdiff/combination/kid_vs_liver'"
      ]
     },
     "execution_count": 9,
     "metadata": {},
     "output_type": "execute_result"
    },
    {
     "name": "stdout",
     "output_type": "stream",
     "text": [
      "heart_vs_kid\n"
     ]
    },
    {
     "data": {
      "text/plain": [
       "'/data5/galaxy/project/methyl_m6a/data/diff_m6a_peak/macs2_bdgdiff/combination/heart_vs_kid'"
      ]
     },
     "execution_count": 9,
     "metadata": {},
     "output_type": "execute_result"
    },
    {
     "name": "stdout",
     "output_type": "stream",
     "text": [
      "brain_vs_pla\n"
     ]
    },
    {
     "data": {
      "text/plain": [
       "'/data5/galaxy/project/methyl_m6a/data/diff_m6a_peak/macs2_bdgdiff/combination/brain_vs_pla'"
      ]
     },
     "execution_count": 9,
     "metadata": {},
     "output_type": "execute_result"
    },
    {
     "name": "stdout",
     "output_type": "stream",
     "text": [
      "kid_vs_sto\n"
     ]
    },
    {
     "data": {
      "text/plain": [
       "'/data5/galaxy/project/methyl_m6a/data/diff_m6a_peak/macs2_bdgdiff/combination/kid_vs_sto'"
      ]
     },
     "execution_count": 9,
     "metadata": {},
     "output_type": "execute_result"
    },
    {
     "name": "stdout",
     "output_type": "stream",
     "text": [
      "liver_vs_sto\n"
     ]
    },
    {
     "data": {
      "text/plain": [
       "'/data5/galaxy/project/methyl_m6a/data/diff_m6a_peak/macs2_bdgdiff/combination/liver_vs_sto'"
      ]
     },
     "execution_count": 9,
     "metadata": {},
     "output_type": "execute_result"
    },
    {
     "name": "stdout",
     "output_type": "stream",
     "text": [
      "mus_vs_liver\n"
     ]
    },
    {
     "data": {
      "text/plain": [
       "'/data5/galaxy/project/methyl_m6a/data/diff_m6a_peak/macs2_bdgdiff/combination/mus_vs_liver'"
      ]
     },
     "execution_count": 9,
     "metadata": {},
     "output_type": "execute_result"
    },
    {
     "name": "stdout",
     "output_type": "stream",
     "text": [
      "heart_vs_mus\n"
     ]
    },
    {
     "data": {
      "text/plain": [
       "'/data5/galaxy/project/methyl_m6a/data/diff_m6a_peak/macs2_bdgdiff/combination/heart_vs_mus'"
      ]
     },
     "execution_count": 9,
     "metadata": {},
     "output_type": "execute_result"
    },
    {
     "name": "stdout",
     "output_type": "stream",
     "text": [
      "liver_vs_pla\n"
     ]
    },
    {
     "data": {
      "text/plain": [
       "'/data5/galaxy/project/methyl_m6a/data/diff_m6a_peak/macs2_bdgdiff/combination/liver_vs_pla'"
      ]
     },
     "execution_count": 9,
     "metadata": {},
     "output_type": "execute_result"
    },
    {
     "name": "stdout",
     "output_type": "stream",
     "text": [
      "heart_vs_pla\n"
     ]
    },
    {
     "data": {
      "text/plain": [
       "'/data5/galaxy/project/methyl_m6a/data/diff_m6a_peak/macs2_bdgdiff/combination/heart_vs_pla'"
      ]
     },
     "execution_count": 9,
     "metadata": {},
     "output_type": "execute_result"
    },
    {
     "name": "stdout",
     "output_type": "stream",
     "text": [
      "kid_vs_pla\n"
     ]
    },
    {
     "data": {
      "text/plain": [
       "'/data5/galaxy/project/methyl_m6a/data/diff_m6a_peak/macs2_bdgdiff/combination/kid_vs_pla'"
      ]
     },
     "execution_count": 9,
     "metadata": {},
     "output_type": "execute_result"
    },
    {
     "name": "stdout",
     "output_type": "stream",
     "text": [
      "brain_vs_sto\n"
     ]
    },
    {
     "data": {
      "text/plain": [
       "'/data5/galaxy/project/methyl_m6a/data/diff_m6a_peak/macs2_bdgdiff/combination/brain_vs_sto'"
      ]
     },
     "execution_count": 9,
     "metadata": {},
     "output_type": "execute_result"
    },
    {
     "name": "stdout",
     "output_type": "stream",
     "text": [
      "brain_vs_liver\n"
     ]
    },
    {
     "data": {
      "text/plain": [
       "'/data5/galaxy/project/methyl_m6a/data/diff_m6a_peak/macs2_bdgdiff/combination/brain_vs_liver'"
      ]
     },
     "execution_count": 9,
     "metadata": {},
     "output_type": "execute_result"
    },
    {
     "name": "stdout",
     "output_type": "stream",
     "text": [
      "heart_vs_brain\n"
     ]
    },
    {
     "data": {
      "text/plain": [
       "'/data5/galaxy/project/methyl_m6a/data/diff_m6a_peak/macs2_bdgdiff/combination/heart_vs_brain'"
      ]
     },
     "execution_count": 9,
     "metadata": {},
     "output_type": "execute_result"
    },
    {
     "name": "stdout",
     "output_type": "stream",
     "text": [
      "lung_vs_mus\n"
     ]
    },
    {
     "data": {
      "text/plain": [
       "'/data5/galaxy/project/methyl_m6a/data/diff_m6a_peak/macs2_bdgdiff/combination/lung_vs_mus'"
      ]
     },
     "execution_count": 9,
     "metadata": {},
     "output_type": "execute_result"
    },
    {
     "name": "stdout",
     "output_type": "stream",
     "text": [
      "heart_vs_liver\n"
     ]
    },
    {
     "data": {
      "text/plain": [
       "'/data5/galaxy/project/methyl_m6a/data/diff_m6a_peak/macs2_bdgdiff/combination/heart_vs_liver'"
      ]
     },
     "execution_count": 9,
     "metadata": {},
     "output_type": "execute_result"
    },
    {
     "name": "stdout",
     "output_type": "stream",
     "text": [
      "lung_vs_heart\n"
     ]
    },
    {
     "data": {
      "text/plain": [
       "'/data5/galaxy/project/methyl_m6a/data/diff_m6a_peak/macs2_bdgdiff/combination/lung_vs_heart'"
      ]
     },
     "execution_count": 9,
     "metadata": {},
     "output_type": "execute_result"
    },
    {
     "name": "stdout",
     "output_type": "stream",
     "text": [
      "lung_vs_sto\n"
     ]
    },
    {
     "data": {
      "text/plain": [
       "'/data5/galaxy/project/methyl_m6a/data/diff_m6a_peak/macs2_bdgdiff/combination/lung_vs_sto'"
      ]
     },
     "execution_count": 9,
     "metadata": {},
     "output_type": "execute_result"
    },
    {
     "name": "stdout",
     "output_type": "stream",
     "text": [
      "mus_vs_brain\n"
     ]
    },
    {
     "data": {
      "text/plain": [
       "'/data5/galaxy/project/methyl_m6a/data/diff_m6a_peak/macs2_bdgdiff/combination/mus_vs_brain'"
      ]
     },
     "execution_count": 9,
     "metadata": {},
     "output_type": "execute_result"
    }
   ],
   "source": [
    "os.chdir(\"/data5/galaxy/project/expression/DESeq2\")\n",
    "subdir_name_list = [os.path.basename(x).split(\".csv\")[0] for x in glob.glob(\"*.csv\")]\n",
    "for sub_dir in subdir_name_list:\n",
    "    print(sub_dir)\n",
    "    source_dir = os.path.join(\"/data5/galaxy/project/methyl_m6a/data/diff_m6a_peak/macs2_bdgdiff/permutation/\", sub_dir)\n",
    "    target_dir = os.path.join(\"/data5/galaxy/project/methyl_m6a/data/diff_m6a_peak/macs2_bdgdiff/combination/\", sub_dir)\n",
    "    shutil.copytree(source_dir, target_dir)"
   ]
  },
  {
   "cell_type": "code",
   "execution_count": 11,
   "metadata": {},
   "outputs": [
    {
     "name": "stdout",
     "output_type": "stream",
     "text": [
      "heart_vs_brain\n",
      "0.17827542509660232 0.14620232429314814\n",
      "11358\n",
      "5468 5890\n",
      "6931 2967 5688\n",
      "6931 2967 5688\n",
      "6931 1307 4192\n",
      "2967 921 1196\n",
      "5688 635 4386\n",
      "0.7399539626713317 -0.4012389067377619 0.39178322209562927\n",
      "kid_vs_brain\n",
      "0.1877232534897525 0.14620232429314814\n",
      "10154\n",
      "5562 4592\n",
      "7680 3464 4881\n",
      "7680 3464 4881\n",
      "7680 1160 5024\n",
      "3464 1158 1579\n",
      "4881 395 4100\n",
      "0.8508135854474768 -0.2096513636182674 0.32917379082827236\n",
      "lung_vs_brain\n",
      "0.18365661506835906 0.14620232429314814\n",
      "10872\n",
      "5569 5303\n",
      "7736 2300 5517\n",
      "7736 2300 5517\n",
      "7736 1339 4867\n",
      "2300 818 825\n",
      "5517 633 4251\n",
      "0.8960536065169726 -0.19235058169826766 0.36398260388349735\n",
      "heart_vs_kid\n",
      "0.17827542509660232 0.1877232534897525\n",
      "7512\n",
      "3100 4412\n",
      "4927 4196 6834\n",
      "4927 4196 6834\n",
      "4927 848 3386\n",
      "4196 603 2734\n",
      "6834 383 5948\n",
      "0.31803335046747505 -0.6408484864062493 0.028625855161572816\n",
      "lung_vs_heart\n",
      "0.18365661506835906 0.17827542509660232\n",
      "6817\n",
      "3758 3059\n",
      "5348 2721 7473\n",
      "5348 2721 7473\n",
      "5348 740 3784\n",
      "2721 658 1483\n",
      "7473 432 6606\n",
      "0.7871010177573928 -0.36624927696581067 0.12095590215122168\n",
      "lung_vs_kid\n",
      "0.18365661506835906 0.1877232534897525\n",
      "4703\n",
      "2270 2433\n",
      "5610 1698 8173\n",
      "5610 1698 8173\n",
      "5610 575 4579\n",
      "1698 294 1000\n",
      "8173 310 7486\n",
      "0.6555787546967589 -0.4810396976927825 0.164700032772909\n"
     ]
    }
   ],
   "source": [
    "m6a_dir = \"/data5/galaxy/project/methyl_m6a/data/diff_m6a_peak/macs2_bdgdiff/combination/\"\n",
    "expre_dir = \"/data5/galaxy/project/expression/DESeq2/\"\n",
    "# subdir_list = list(set([x.split(\"/\")[-2] for x in glob.glob(\"%s/*/diff_peak_c3.0_common.bed\" % m6a_dir)]))\n",
    "# methylation level only have these tissue data.\n",
    "subdir_list = [\"heart_vs_brain\", \"kid_vs_brain\", \"lung_vs_brain\", \"heart_vs_kid\", \"lung_vs_heart\", \"lung_vs_kid\"]\n",
    "for sub_dir in subdir_list:\n",
    "    print(sub_dir)\n",
    "    df_methyl = foldchange_of_methylation(sub_dir)\n",
    "    df_up, df_down, df_remain = class_genes_by_diffPeak(df_methyl, os.path.join(m6a_dir, sub_dir))\n",
    "    df_gene_up, df_gene_down = get_diff_expression_genes(os.path.join(expre_dir, \"%s.csv\" % sub_dir))\n",
    "    check_intersect_between_up_down(df_up, df_down, df_remain)\n",
    "    df_up, df_up_unchange = filter_each_row_by_expression(df_up, df_gene_up, df_gene_down)\n",
    "    df_down, df_down_unchange = filter_each_row_by_expression(df_down, df_gene_up, df_gene_down)\n",
    "    df_remain, df_remain_unchange = filter_each_row_by_expression(df_remain, df_gene_up, df_gene_down)\n",
    "    boxplot(df_up, df_up_unchange, df_down, df_down_unchange, df_remain, df_remain_unchange, sub_dir)\n",
    "#     prepare_plot_data(sub_dir, df_up, df_down, df_remain)"
   ]
  },
  {
   "cell_type": "code",
   "execution_count": 68,
   "metadata": {},
   "outputs": [],
   "source": [
    "def prepare_plot_data(sub_dir, df_up, df_down, df_remain):\n",
    "    result_file = \"/data5/galaxy/project/methyl_m6a/data/plot_data/%s.txt\" % sub_dir\n",
    "    df_up[\"m6a_type\"] = \"up\"\n",
    "    df_down[\"m6a_type\"] = \"down\"\n",
    "    df_remain[\"m6a_type\"] = \"remain\"\n",
    "    df = pd.concat([df_up, df_down, df_remain], sort=True)\n",
    "    df.to_csv(result_file, sep=\"\\t\", index=False)"
   ]
  },
  {
   "cell_type": "code",
   "execution_count": 3,
   "metadata": {},
   "outputs": [],
   "source": [
    "# 81--brain; 83--heart; 86--kid; 88--lung;\n",
    "# [\"heart_vs_brain\", \"kid_vs_brain\", \"lung_vs_brain\", \"heart_vs_kid\", \"lung_vs_heart\", \"lung_vs_kid\"]\n",
    "def foldchange_of_methylation(sub_dir):\n",
    "    os.chdir(\"/data5/galaxy/project/methyl_m6a/data/roimethstat/\")\n",
    "    map_dict = {\"brain\": \"E081\", \"heart\": \"E083\", \"kid\": \"E086\", \"lung\": \"E088\"}\n",
    "    tissue_1, tissue_2 = sub_dir.split(\"_\")[0], sub_dir.split(\"_\")[-1]\n",
    "    try:\n",
    "        num_1, num_2 = map_dict[tissue_1], map_dict[tissue_2]\n",
    "    except KeyError:\n",
    "        print(\"%s %s didn't have acoording DNA methylation data!\" % (tissue_1, tissue_2))\n",
    "    df_1 = pd.read_table(\"promoter_%s.bed\" % num_1, header=None, names=[\"chr\", \"s\", \"e\", \"n\", tissue_1, \"strand\"])\n",
    "    df_1[\"name\"] = df_1[\"n\"].str.split(\":\").str[0]\n",
    "    df_2 = pd.read_table(\"promoter_%s.bed\" % num_2, header=None, names=[\"chr\", \"s\", \"e\", \"n\", tissue_2, \"strand\"])\n",
    "    df_2[\"name\"] = df_2[\"n\"].str.split(\":\").str[0]\n",
    "    df_methyl = df_1.merge(df_2, on=\"name\").dropna()\n",
    "    df_methyl[\"logFC\"] = np.log2(df_methyl[tissue_1].astype(float) + 0.01) - np.log2(df_methyl[tissue_2].astype(float) + 0.01)\n",
    "    df_methyl = df_methyl[[\"name\", \"logFC\"]]\n",
    "    print(df_1[tissue_1].mean(), df_2[tissue_2].mean())\n",
    "    return df_methyl"
   ]
  },
  {
   "cell_type": "code",
   "execution_count": 4,
   "metadata": {},
   "outputs": [],
   "source": [
    "def class_genes_by_diffPeak(df_methylation, work_dir):\n",
    "    os.chdir(work_dir)\n",
    "    m6a_up = pd.read_table(\"diff_peak_c3.0_cond1_anno.txt\", sep=\"\\t\", header=None, names=[\"name\", \"m6a_score\"])\n",
    "    m6a_down = pd.read_table(\"diff_peak_c3.0_cond2_anno.txt\", sep=\"\\t\", header=None, names=[\"name\", \"m6a_score\"])\n",
    "    m6a_up = m6a_up.groupby([\"name\"]).mean().reset_index()\n",
    "    m6a_down = m6a_down.groupby([\"name\"]).mean().reset_index()\n",
    "    df_up = df_methylation.merge(m6a_up, how=\"right\").dropna().drop_duplicates()\n",
    "    df_down = df_methylation.merge(m6a_down, how=\"right\").dropna().drop_duplicates()\n",
    "    diff_genes = df_up[\"name\"].tolist() + df_down[\"name\"].tolist()\n",
    "    remain_genes = [x for x in df_methylation[\"name\"] if x not in diff_genes]\n",
    "    df_remain = df_methylation[df_methylation[\"name\"].isin(remain_genes)]\n",
    "    df_remain = df_remain.drop(df_remain.index[len(df_remain) - 1]).replace([np.inf, -np.inf], np.nan).dropna().drop_duplicates()\n",
    "    return df_up, df_down, df_remain"
   ]
  },
  {
   "cell_type": "code",
   "execution_count": 5,
   "metadata": {},
   "outputs": [],
   "source": [
    "def format_gene_name(df):\n",
    "    df[\"name\"] = df[\"Unnamed: 0\"].str.split(\".\").str[0]\n",
    "    df = df.set_index([\"name\"])\n",
    "    del df[\"Unnamed: 0\"]\n",
    "    return df\n",
    "\n",
    "def get_diff_expression_genes(DESeq2_file):\n",
    "    df = pd.read_csv(DESeq2_file)\n",
    "    df = df[(abs(df.log2FoldChange) > 1) & (df.padj < 0.05)]\n",
    "    print(len(df))\n",
    "    df_up, df_down = df.copy()[df.log2FoldChange > 0], df.copy()[df.log2FoldChange < 0]\n",
    "    print(len(df_up), len(df_down))\n",
    "    return format_gene_name(df_up), format_gene_name(df_down)"
   ]
  },
  {
   "cell_type": "code",
   "execution_count": 6,
   "metadata": {},
   "outputs": [],
   "source": [
    "def check_intersect_between_up_down(df_up, df_down, df_remain):\n",
    "#     df_up, df_down, df_remain = correlation_between_m6a_and_methylation()\n",
    "    print(len(df_up), len(df_down), len(df_remain))\n",
    "    up_genes, down_genes, remain_genes = df_up[\"name\"], df_down[\"name\"], df_remain[\"name\"]\n",
    "    uniq_up = [name for name in up_genes if (name not in down_genes) and (name not in remain_genes)]\n",
    "    uniq_down = [name for name in down_genes if (name not in up_genes) and (name not in remain_genes)]\n",
    "    uniq_remain = [name for name in remain_genes if (name not in down_genes) and (name not in up_genes)]\n",
    "    print(len(uniq_up), len(uniq_down), len(uniq_remain))"
   ]
  },
  {
   "cell_type": "code",
   "execution_count": 7,
   "metadata": {},
   "outputs": [],
   "source": [
    "def filter_each_row_by_expression(df, df_gene_up, df_gene_down):\n",
    "    df_pos, df_neg = df[df.logFC >0], df[df.logFC <0]\n",
    "    up_genes, down_genes, total_genes = df_gene_up.index, df_gene_down.index, list(set(df[\"name\"].tolist()))\n",
    "    remain_genes = [x for x in total_genes if (x not in up_genes) and (x not in down_genes)]\n",
    "    df_pos = df_pos[df_pos[\"name\"].isin(down_genes)]\n",
    "    df_neg = df_neg[df_neg[\"name\"].isin(up_genes)]\n",
    "    df_coordinate = pd.concat([df_pos, df_neg]).dropna()\n",
    "    df_unchange = df[df[\"name\"].isin(remain_genes)]\n",
    "    print(len(df), len(df_coordinate), len(df_unchange))\n",
    "    return df_coordinate, df_unchange"
   ]
  },
  {
   "cell_type": "code",
   "execution_count": 10,
   "metadata": {},
   "outputs": [],
   "source": [
    "def boxplot(df_up, df_up_unchange, df_down, df_down_unchange, df_remain, df_remain_unchange, sub_dir):\n",
    "    df_up_down = pd.DataFrame({\"up\": df_up[\"logFC\"], \"up_unchange\": df_up_unchange[\"logFC\"], \n",
    "                               \"down\": df_down[\"logFC\"], \"down_unchange\": df_down_unchange[\"logFC\"],\n",
    "                               \"remain\": df_remain[\"logFC\"], \"remain_unchange\": df_remain_unchange[\"logFC\"]})\n",
    "    g = sns.boxplot(data=df_up_down, order=[\"down\", \"down_unchange\", \"up\", \"up_unchange\", \"remain\", \"remain_unchange\"], saturation=0.5, showfliers=False)\n",
    "    g.set_ylabel(\"log2 fold change of methylation level\", size = 14, color=\"black\", alpha=1)\n",
    "    plt.title(sub_dir)\n",
    "    plt.savefig(\"/data5/galaxy/project/methyl_m6a/analysis_result_2/%s.pdf\" % sub_dir)\n",
    "    plt.close()\n",
    "    print(df_up_down[\"down\"].mean(), df_up_down[\"up\"].mean(), df_up_down[\"remain\"].mean())\n",
    "    # return df_up_down"
   ]
  },
  {
   "cell_type": "code",
   "execution_count": null,
   "metadata": {},
   "outputs": [],
   "source": []
  }
 ],
 "metadata": {
  "kernelspec": {
   "display_name": "Python 3",
   "language": "python",
   "name": "python3"
  },
  "language_info": {
   "codemirror_mode": {
    "name": "ipython",
    "version": 3
   },
   "file_extension": ".py",
   "mimetype": "text/x-python",
   "name": "python",
   "nbconvert_exporter": "python",
   "pygments_lexer": "ipython3",
   "version": "3.6.5"
  }
 },
 "nbformat": 4,
 "nbformat_minor": 2
}
