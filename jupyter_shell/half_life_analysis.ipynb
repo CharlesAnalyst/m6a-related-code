{
 "cells": [
  {
   "cell_type": "code",
   "execution_count": 2,
   "metadata": {},
   "outputs": [],
   "source": [
    "import os\n",
    "import glob\n",
    "import math\n",
    "import pandas as pd\n",
    "import numpy as np\n",
    "import matplotlib.pyplot as plt\n",
    "import seaborn as sns\n",
    "from scipy import stats\n",
    "%matplotlib inline\n",
    "%config InlineBackend.figure_format = 'svg'"
   ]
  },
  {
   "cell_type": "code",
   "execution_count": 11,
   "metadata": {},
   "outputs": [],
   "source": [
    "map_dict = {\"EA\": \"0.0091015|0.5872\", \"PA\": \"0.000385|0.7868\", \"EZ\": \"0.0073905|0.3367\", \"PZ\": \"0.0004055|1.123\"}"
   ]
  },
  {
   "cell_type": "code",
   "execution_count": 18,
   "metadata": {},
   "outputs": [
    {
     "name": "stdout",
     "output_type": "stream",
     "text": [
      "EA_vs_PA\n",
      "[0.0091015, 0.005044130828411685, 0.0027955013804464262, 0.0015492912919823367, 0.000858630771639606, 0.0004758606763116246, 0.0002637261448565949, 0.0001461593339042264, 8.100277998202772e-05, 4.4892448463922976e-05, 2.4879787206477694e-05, 1.3788595468056554e-05, 7.641760092393747e-06, 4.235130216488431e-06, 2.347146172315238e-06, 1.3008089179326235e-06]\n",
      "[0.000385, 0.00024783379600578915, 0.00015953659855230939, 0.00010269756057420917, 6.610889942244346e-05, 4.255589478864698e-05, 2.7394257007515224e-05, 1.763434468293685e-05, 1.1351653461939599e-05, 7.307333424453894e-06, 4.7039069643179e-06, 3.0280184909739575e-06, 1.949208615568304e-06, 1.2547526503986542e-06, 8.077145776535668e-07, 5.199453762833672e-07]\n",
      "Ks_2sampResult(statistic=0.375, pvalue=0.16246637436875133)\n",
      "EZ_vs_PZ\n",
      "[0.0073905, 0.002640242579771121, 0.0009432218226150415, 0.000336964267402416, 0.00012037986694502953, 4.300548683518695e-05, 1.5363631351876993e-05, 5.488629142159825e-06, 1.9608027015361633e-06, 7.00493171385701e-07, 2.5024990162119445e-07, 8.940131869884469e-08, 3.193845725138727e-08, 1.1409955316597321e-08, 4.076185624811054e-09, 1.4562098436745937e-09]\n",
      "[0.0004055, 0.0002978252224958015, 0.00021874195599179695, 0.00016065812999364678, 0.0001179976407179217, 8.666503970602881e-05, 6.365236678928608e-05, 4.675038298743154e-05, 3.433648141799194e-05, 2.5218915457549703e-05, 1.8522389906899017e-05, 1.3604031800681099e-05, 9.991673977503845e-06, 7.338526573256701e-06, 5.389884856896494e-06, 3.958677328562145e-06]\n",
      "Ks_2sampResult(statistic=0.5, pvalue=0.023077693773042005)\n"
     ]
    }
   ],
   "source": [
    "con_dict = make_contrast()\n",
    "for a,b in con_dict.items():\n",
    "    print(\"%s_vs_%s\" % (a, b))\n",
    "    result_list = []\n",
    "    for x in [a, b]:\n",
    "        try:\n",
    "            ini_value, ha_life = float(map_dict[x].split(\"|\")[0]), float(map_dict[x].split(\"|\")[1])\n",
    "            result_list.append(calculate_remain_quantity(ini_value, ha_life))\n",
    "        except KeyError:\n",
    "            print(\"%s not in map_dict!\" % a)\n",
    "    print(stats.ks_2samp(result_list[0], result_list[1]))"
   ]
  },
  {
   "cell_type": "code",
   "execution_count": 8,
   "metadata": {},
   "outputs": [],
   "source": [
    "def make_contrast():\n",
    "    contra_dict = {\"EA\": \"PA\", \"EZ\": \"PZ\"}\n",
    "    return contra_dict"
   ]
  },
  {
   "cell_type": "code",
   "execution_count": 17,
   "metadata": {},
   "outputs": [],
   "source": [
    "def calculate_remain_quantity(initial_value, half_life):\n",
    "    result_list = [(initial_value * math.pow(0.5, x/half_life)) for x in np.arange(0, 8, 0.5)]\n",
    "    print(result_list)\n",
    "    return result_list"
   ]
  }
 ],
 "metadata": {
  "kernelspec": {
   "display_name": "Python 3",
   "language": "python",
   "name": "python3"
  },
  "language_info": {
   "codemirror_mode": {
    "name": "ipython",
    "version": 3
   },
   "file_extension": ".py",
   "mimetype": "text/x-python",
   "name": "python",
   "nbconvert_exporter": "python",
   "pygments_lexer": "ipython3",
   "version": "3.6.5"
  }
 },
 "nbformat": 4,
 "nbformat_minor": 2
}
