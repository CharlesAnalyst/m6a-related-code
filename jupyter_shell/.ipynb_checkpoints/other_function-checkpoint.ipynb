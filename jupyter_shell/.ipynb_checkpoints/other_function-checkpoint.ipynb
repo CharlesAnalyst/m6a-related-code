{
 "cells": [
  {
   "cell_type": "code",
   "execution_count": 5,
   "metadata": {},
   "outputs": [],
   "source": [
    "import os\n",
    "import sys\n",
    "import shutil\n",
    "import glob\n",
    "import pandas as pd\n",
    "import numpy as np\n",
    "from scipy import stats\n",
    "import matplotlib.pyplot as plt\n",
    "import seaborn as sns\n",
    "%matplotlib inline\n",
    "%config InlineBackend.figure_format = 'svg'\n",
    "from itertools import permutations\n",
    "from multiprocessing import Pool"
   ]
  },
  {
   "cell_type": "code",
   "execution_count": 4,
   "metadata": {},
   "outputs": [
    {
     "data": {
      "text/plain": [
       "16"
      ]
     },
     "execution_count": 4,
     "metadata": {},
     "output_type": "execute_result"
    }
   ],
   "source": [
    "data_dir = \"/data5/galaxy/project/expression/DESeq2\"\n",
    "positive_pairs = glob.glob(\"%s/*.csv\" % data_dir)\n",
    "result_list, result_file = [], \"/data5/galaxy/project/expression/featureCounts/input/paired_tissue.txt\"\n",
    "for pair in positive_pairs:\n",
    "    tissue_1 = os.path.basename(pair).split(\"_\")[0]\n",
    "    tissue_2 = os.path.basename(pair).split(\"_\")[-1].split(\".\")[0]\n",
    "    result_list.append(\"%s\\t%s\\n\" % (tissue_2, tissue_1))\n",
    "with open(result_file, 'w') as fw:\n",
    "    fw.write(\"tissue1\\ttissue2\\n\")\n",
    "    fw.writelines(result_list)"
   ]
  },
  {
   "cell_type": "code",
   "execution_count": 25,
   "metadata": {},
   "outputs": [
    {
     "name": "stdout",
     "output_type": "stream",
     "text": [
      "mus_vs_lung-gene_down-m6a_up.txt\n",
      "mus_vs_kid-gene_up-m6a_up.txt\n",
      "sto_vs_heart-gene_down-m6a_down.txt\n",
      "brain_vs_kid-gene_down-m6a_up.txt\n",
      "kid_vs_lung-gene_down-m6a_common.txt\n",
      "sto_vs_kid-gene_up-m6a_up.txt\n",
      "mus_vs_lung-gene_down-m6a_down.txt\n",
      "brain_vs_lung-gene_down-m6a_common.txt\n",
      "brain_vs_lung-gene_up-m6a_down.txt\n",
      "pla_vs_mus-gene_up-m6a_down.txt\n",
      "liver_vs_lung-gene_down-m6a_common.txt\n",
      "brain_vs_heart-gene_up-m6a_up.txt\n",
      "brain_vs_kid-gene_down-m6a_common.txt\n",
      "brain_vs_heart-gene_up-m6a_common.txt\n",
      "sto_vs_brain-gene_down-m6a_common.txt\n",
      "liver_vs_brain-gene_up-m6a_down.txt\n",
      "mus_vs_heart-gene_up-m6a_down.txt\n",
      "mus_vs_kid-gene_down-m6a_up.txt\n",
      "mus_vs_kid-gene_up-m6a_down.txt\n",
      "pla_vs_brain-gene_up-m6a_down.txt\n",
      "sto_vs_liver-gene_up-m6a_up.txt\n",
      "sto_vs_brain-gene_up-m6a_common.txt\n",
      "pla_vs_heart-gene_up-m6a_up.txt\n",
      "pla_vs_heart-gene_down-m6a_up.txt\n",
      "liver_vs_kid-gene_down-m6a_up.txt\n",
      "liver_vs_brain-gene_down-m6a_up.txt\n",
      "pla_vs_kid-gene_up-m6a_up.txt\n",
      "brain_vs_heart-gene_down-m6a_down.txt\n",
      "brain_vs_heart-gene_down-m6a_common.txt\n",
      "liver_vs_mus-gene_up-m6a_down.txt\n",
      "liver_vs_mus-gene_down-m6a_up.txt\n",
      "heart_vs_lung-gene_down-m6a_up.txt\n",
      "pla_vs_mus-gene_down-m6a_down.txt\n",
      "pla_vs_lung-gene_down-m6a_down.txt\n",
      "mus_vs_lung-gene_up-m6a_up.txt\n",
      "kid_vs_lung-gene_up-m6a_common.txt\n",
      "sto_vs_mus-gene_down-m6a_down.txt\n",
      "kid_vs_lung-gene_down-m6a_down.txt\n",
      "sto_vs_mus-gene_up-m6a_common.txt\n",
      "sto_vs_brain-gene_down-m6a_up.txt\n",
      "pla_vs_liver-gene_down-m6a_common.txt\n",
      "sto_vs_pla-gene_down-m6a_up.txt\n",
      "liver_vs_brain-gene_down-m6a_common.txt\n",
      "liver_vs_brain-gene_up-m6a_up.txt\n",
      "sto_vs_lung-gene_down-m6a_common.txt\n",
      "mus_vs_heart-gene_up-m6a_up.txt\n",
      "liver_vs_heart-gene_up-m6a_up.txt\n",
      "liver_vs_lung-gene_up-m6a_up.txt\n",
      "liver_vs_lung-gene_up-m6a_down.txt\n",
      "pla_vs_brain-gene_down-m6a_up.txt\n",
      "sto_vs_liver-gene_down-m6a_up.txt\n",
      "brain_vs_heart-gene_down-m6a_up.txt\n",
      "sto_vs_mus-gene_up-m6a_down.txt\n",
      "kid_vs_heart-gene_up-m6a_down.txt\n",
      "liver_vs_heart-gene_down-m6a_down.txt\n",
      "liver_vs_kid-gene_up-m6a_down.txt\n",
      "pla_vs_lung-gene_up-m6a_common.txt\n",
      "sto_vs_pla-gene_up-m6a_up.txt\n",
      "sto_vs_kid-gene_up-m6a_common.txt\n",
      "sto_vs_pla-gene_down-m6a_common.txt\n",
      "sto_vs_brain-gene_up-m6a_down.txt\n",
      "sto_vs_lung-gene_down-m6a_down.txt\n",
      "sto_vs_heart-gene_down-m6a_common.txt\n",
      "sto_vs_pla-gene_up-m6a_down.txt\n",
      "pla_vs_liver-gene_up-m6a_up.txt\n",
      "liver_vs_lung-gene_down-m6a_up.txt\n",
      "mus_vs_kid-gene_up-m6a_common.txt\n",
      "kid_vs_heart-gene_down-m6a_up.txt\n",
      "liver_vs_heart-gene_up-m6a_common.txt\n",
      "heart_vs_lung-gene_down-m6a_common.txt\n",
      "brain_vs_lung-gene_down-m6a_down.txt\n",
      "sto_vs_kid-gene_down-m6a_down.txt\n",
      "sto_vs_pla-gene_down-m6a_down.txt\n",
      "brain_vs_mus-gene_down-m6a_up.txt\n",
      "sto_vs_mus-gene_down-m6a_common.txt\n",
      "mus_vs_heart-gene_down-m6a_down.txt\n",
      "brain_vs_kid-gene_up-m6a_up.txt\n",
      "liver_vs_kid-gene_up-m6a_up.txt\n",
      "mus_vs_lung-gene_down-m6a_common.txt\n",
      "pla_vs_mus-gene_down-m6a_up.txt\n",
      "brain_vs_mus-gene_down-m6a_down.txt\n",
      "mus_vs_lung-gene_up-m6a_down.txt\n",
      "pla_vs_heart-gene_up-m6a_common.txt\n",
      "pla_vs_kid-gene_up-m6a_common.txt\n",
      "sto_vs_lung-gene_up-m6a_common.txt\n",
      "brain_vs_mus-gene_up-m6a_up.txt\n",
      "liver_vs_kid-gene_up-m6a_common.txt\n",
      "pla_vs_kid-gene_down-m6a_up.txt\n",
      "pla_vs_brain-gene_up-m6a_up.txt\n",
      "liver_vs_mus-gene_up-m6a_up.txt\n",
      "mus_vs_lung-gene_up-m6a_common.txt\n",
      "liver_vs_lung-gene_up-m6a_common.txt\n",
      "liver_vs_mus-gene_down-m6a_down.txt\n",
      "brain_vs_mus-gene_up-m6a_down.txt\n",
      "mus_vs_heart-gene_down-m6a_up.txt\n",
      "pla_vs_lung-gene_up-m6a_up.txt\n",
      "sto_vs_lung-gene_up-m6a_up.txt\n",
      "brain_vs_mus-gene_up-m6a_common.txt\n",
      "sto_vs_liver-gene_down-m6a_common.txt\n",
      "sto_vs_pla-gene_up-m6a_common.txt\n",
      "heart_vs_lung-gene_down-m6a_down.txt\n",
      "heart_vs_lung-gene_up-m6a_up.txt\n",
      "brain_vs_mus-gene_down-m6a_common.txt\n",
      "pla_vs_liver-gene_down-m6a_up.txt\n",
      "sto_vs_heart-gene_up-m6a_down.txt\n",
      "pla_vs_brain-gene_down-m6a_down.txt\n",
      "liver_vs_lung-gene_down-m6a_down.txt\n",
      "liver_vs_kid-gene_down-m6a_down.txt\n",
      "kid_vs_heart-gene_up-m6a_common.txt\n",
      "pla_vs_kid-gene_down-m6a_common.txt\n",
      "pla_vs_kid-gene_down-m6a_down.txt\n",
      "liver_vs_kid-gene_down-m6a_common.txt\n",
      "pla_vs_kid-gene_up-m6a_down.txt\n",
      "liver_vs_mus-gene_down-m6a_common.txt\n",
      "kid_vs_lung-gene_up-m6a_up.txt\n",
      "liver_vs_mus-gene_up-m6a_common.txt\n",
      "pla_vs_mus-gene_up-m6a_up.txt\n",
      "kid_vs_heart-gene_down-m6a_common.txt\n",
      "brain_vs_kid-gene_up-m6a_common.txt\n",
      "liver_vs_heart-gene_down-m6a_common.txt\n",
      "sto_vs_liver-gene_up-m6a_common.txt\n",
      "pla_vs_heart-gene_down-m6a_down.txt\n",
      "brain_vs_lung-gene_up-m6a_up.txt\n",
      "pla_vs_mus-gene_down-m6a_common.txt\n",
      "sto_vs_mus-gene_down-m6a_up.txt\n",
      "brain_vs_lung-gene_down-m6a_up.txt\n",
      "pla_vs_heart-gene_up-m6a_down.txt\n",
      "mus_vs_heart-gene_up-m6a_common.txt\n",
      "liver_vs_heart-gene_down-m6a_up.txt\n",
      "brain_vs_kid-gene_up-m6a_down.txt\n",
      "sto_vs_lung-gene_down-m6a_up.txt\n",
      "pla_vs_lung-gene_down-m6a_common.txt\n",
      "sto_vs_heart-gene_up-m6a_up.txt\n",
      "liver_vs_brain-gene_up-m6a_common.txt\n",
      "heart_vs_lung-gene_up-m6a_down.txt\n",
      "sto_vs_mus-gene_up-m6a_up.txt\n",
      "sto_vs_lung-gene_up-m6a_down.txt\n",
      "sto_vs_brain-gene_down-m6a_down.txt\n",
      "kid_vs_heart-gene_up-m6a_up.txt\n",
      "mus_vs_heart-gene_down-m6a_common.txt\n",
      "liver_vs_brain-gene_down-m6a_down.txt\n",
      "sto_vs_heart-gene_down-m6a_up.txt\n",
      "pla_vs_lung-gene_up-m6a_down.txt\n",
      "brain_vs_kid-gene_down-m6a_down.txt\n",
      "kid_vs_lung-gene_down-m6a_up.txt\n",
      "pla_vs_heart-gene_down-m6a_common.txt\n",
      "pla_vs_liver-gene_up-m6a_down.txt\n",
      "kid_vs_lung-gene_up-m6a_down.txt\n",
      "liver_vs_heart-gene_up-m6a_down.txt\n",
      "sto_vs_kid-gene_down-m6a_up.txt\n",
      "sto_vs_kid-gene_up-m6a_down.txt\n",
      "pla_vs_brain-gene_down-m6a_common.txt\n",
      "kid_vs_heart-gene_down-m6a_down.txt\n",
      "brain_vs_lung-gene_up-m6a_common.txt\n",
      "sto_vs_brain-gene_up-m6a_up.txt\n",
      "mus_vs_kid-gene_down-m6a_down.txt\n",
      "pla_vs_liver-gene_down-m6a_down.txt\n",
      "pla_vs_mus-gene_up-m6a_common.txt\n",
      "pla_vs_lung-gene_down-m6a_up.txt\n",
      "sto_vs_liver-gene_down-m6a_down.txt\n",
      "pla_vs_brain-gene_up-m6a_common.txt\n",
      "mus_vs_kid-gene_down-m6a_common.txt\n",
      "pla_vs_liver-gene_up-m6a_common.txt\n",
      "heart_vs_lung-gene_up-m6a_common.txt\n",
      "brain_vs_heart-gene_up-m6a_down.txt\n",
      "sto_vs_liver-gene_up-m6a_down.txt\n",
      "sto_vs_kid-gene_down-m6a_common.txt\n",
      "sto_vs_heart-gene_up-m6a_common.txt\n"
     ]
    },
    {
     "data": {
      "text/plain": [
       "214"
      ]
     },
     "execution_count": 25,
     "metadata": {},
     "output_type": "execute_result"
    },
    {
     "data": {
      "text/plain": [
       "210"
      ]
     },
     "execution_count": 25,
     "metadata": {},
     "output_type": "execute_result"
    },
    {
     "data": {
      "text/plain": [
       "126"
      ]
     },
     "execution_count": 25,
     "metadata": {},
     "output_type": "execute_result"
    },
    {
     "data": {
      "text/plain": [
       "168"
      ]
     },
     "execution_count": 25,
     "metadata": {},
     "output_type": "execute_result"
    },
    {
     "data": {
      "text/plain": [
       "190"
      ]
     },
     "execution_count": 25,
     "metadata": {},
     "output_type": "execute_result"
    },
    {
     "data": {
      "text/plain": [
       "180"
      ]
     },
     "execution_count": 25,
     "metadata": {},
     "output_type": "execute_result"
    },
    {
     "data": {
      "text/plain": [
       "108"
      ]
     },
     "execution_count": 25,
     "metadata": {},
     "output_type": "execute_result"
    },
    {
     "data": {
      "text/plain": [
       "144"
      ]
     },
     "execution_count": 25,
     "metadata": {},
     "output_type": "execute_result"
    },
    {
     "data": {
      "text/plain": [
       "156"
      ]
     },
     "execution_count": 25,
     "metadata": {},
     "output_type": "execute_result"
    },
    {
     "data": {
      "text/plain": [
       "150"
      ]
     },
     "execution_count": 25,
     "metadata": {},
     "output_type": "execute_result"
    },
    {
     "data": {
      "text/plain": [
       "90"
      ]
     },
     "execution_count": 25,
     "metadata": {},
     "output_type": "execute_result"
    },
    {
     "data": {
      "text/plain": [
       "120"
      ]
     },
     "execution_count": 25,
     "metadata": {},
     "output_type": "execute_result"
    },
    {
     "data": {
      "text/plain": [
       "120"
      ]
     },
     "execution_count": 25,
     "metadata": {},
     "output_type": "execute_result"
    },
    {
     "data": {
      "text/plain": [
       "120"
      ]
     },
     "execution_count": 25,
     "metadata": {},
     "output_type": "execute_result"
    },
    {
     "data": {
      "text/plain": [
       "96"
      ]
     },
     "execution_count": 25,
     "metadata": {},
     "output_type": "execute_result"
    },
    {
     "data": {
      "text/plain": [
       "96"
      ]
     },
     "execution_count": 25,
     "metadata": {},
     "output_type": "execute_result"
    },
    {
     "data": {
      "text/plain": [
       "94"
      ]
     },
     "execution_count": 25,
     "metadata": {},
     "output_type": "execute_result"
    },
    {
     "data": {
      "text/plain": [
       "72"
      ]
     },
     "execution_count": 25,
     "metadata": {},
     "output_type": "execute_result"
    },
    {
     "data": {
      "text/plain": [
       "36"
      ]
     },
     "execution_count": 25,
     "metadata": {},
     "output_type": "execute_result"
    },
    {
     "data": {
      "text/plain": [
       "54"
      ]
     },
     "execution_count": 25,
     "metadata": {},
     "output_type": "execute_result"
    },
    {
     "data": {
      "text/plain": [
       "70"
      ]
     },
     "execution_count": 25,
     "metadata": {},
     "output_type": "execute_result"
    },
    {
     "data": {
      "text/plain": [
       "60"
      ]
     },
     "execution_count": 25,
     "metadata": {},
     "output_type": "execute_result"
    },
    {
     "data": {
      "text/plain": [
       "36"
      ]
     },
     "execution_count": 25,
     "metadata": {},
     "output_type": "execute_result"
    },
    {
     "data": {
      "text/plain": [
       "48"
      ]
     },
     "execution_count": 25,
     "metadata": {},
     "output_type": "execute_result"
    },
    {
     "ename": "FileNotFoundError",
     "evalue": "[Errno 2] No such file or directory: 'heart_vs_heart-gene_up-m6a_up.txt'",
     "output_type": "error",
     "traceback": [
      "\u001b[0;31m---------------------------------------------------------------------------\u001b[0m",
      "\u001b[0;31mFileNotFoundError\u001b[0m                         Traceback (most recent call last)",
      "\u001b[0;32m<ipython-input-25-f22854e40ebd>\u001b[0m in \u001b[0;36m<module>\u001b[0;34m()\u001b[0m\n\u001b[1;32m     29\u001b[0m             \u001b[0;32mfor\u001b[0m \u001b[0mtissue_2\u001b[0m \u001b[0;32min\u001b[0m \u001b[0mtissue2_list\u001b[0m\u001b[0;34m:\u001b[0m\u001b[0;34m\u001b[0m\u001b[0m\n\u001b[1;32m     30\u001b[0m                 \u001b[0mtitle_list\u001b[0m\u001b[0;34m.\u001b[0m\u001b[0mappend\u001b[0m\u001b[0;34m(\u001b[0m\u001b[0mtissue_2\u001b[0m\u001b[0;34m)\u001b[0m\u001b[0;34m\u001b[0m\u001b[0m\n\u001b[0;32m---> 31\u001b[0;31m                 \u001b[0mup_num\u001b[0m\u001b[0;34m,\u001b[0m \u001b[0mdown_num\u001b[0m\u001b[0;34m,\u001b[0m \u001b[0mcommon_num\u001b[0m \u001b[0;34m=\u001b[0m \u001b[0mprocess_data\u001b[0m\u001b[0;34m(\u001b[0m\u001b[0mtissue1\u001b[0m\u001b[0;34m,\u001b[0m \u001b[0mtissue2\u001b[0m\u001b[0;34m,\u001b[0m \u001b[0mgene_type\u001b[0m\u001b[0;34m)\u001b[0m\u001b[0;34m\u001b[0m\u001b[0m\n\u001b[0m\u001b[1;32m     32\u001b[0m                 \u001b[0mup_list\u001b[0m\u001b[0;34m.\u001b[0m\u001b[0mappend\u001b[0m\u001b[0;34m(\u001b[0m\u001b[0mup_num\u001b[0m\u001b[0;34m)\u001b[0m\u001b[0;34m\u001b[0m\u001b[0m\n\u001b[1;32m     33\u001b[0m                 \u001b[0mdown_list\u001b[0m\u001b[0;34m.\u001b[0m\u001b[0mappend\u001b[0m\u001b[0;34m(\u001b[0m\u001b[0mdown_num\u001b[0m\u001b[0;34m)\u001b[0m\u001b[0;34m\u001b[0m\u001b[0m\n",
      "\u001b[0;32m<ipython-input-17-68f188e6c6f3>\u001b[0m in \u001b[0;36mprocess_data\u001b[0;34m(t_1, t_2, gene_type)\u001b[0m\n\u001b[1;32m      4\u001b[0m     \u001b[0mm6a_down\u001b[0m \u001b[0;34m=\u001b[0m \u001b[0;34m\"%s-m6a_down.txt\"\u001b[0m \u001b[0;34m%\u001b[0m \u001b[0mprefix\u001b[0m\u001b[0;34m\u001b[0m\u001b[0m\n\u001b[1;32m      5\u001b[0m     \u001b[0mm6a_common\u001b[0m \u001b[0;34m=\u001b[0m \u001b[0;34m\"%s-m6a_common.txt\"\u001b[0m \u001b[0;34m%\u001b[0m \u001b[0mprefix\u001b[0m\u001b[0;34m\u001b[0m\u001b[0m\n\u001b[0;32m----> 6\u001b[0;31m     \u001b[0mup_num\u001b[0m\u001b[0;34m,\u001b[0m \u001b[0mdown_num\u001b[0m\u001b[0;34m,\u001b[0m \u001b[0mcommon_num\u001b[0m \u001b[0;34m=\u001b[0m \u001b[0mstat_line_num\u001b[0m\u001b[0;34m(\u001b[0m\u001b[0mm6a_up\u001b[0m\u001b[0;34m)\u001b[0m\u001b[0;34m,\u001b[0m \u001b[0mstat_line_num\u001b[0m\u001b[0;34m(\u001b[0m\u001b[0mm6a_down\u001b[0m\u001b[0;34m)\u001b[0m\u001b[0;34m,\u001b[0m \u001b[0mstat_line_num\u001b[0m\u001b[0;34m(\u001b[0m\u001b[0mm6a_common\u001b[0m\u001b[0;34m)\u001b[0m\u001b[0;34m\u001b[0m\u001b[0m\n\u001b[0m\u001b[1;32m      7\u001b[0m     \u001b[0;32mreturn\u001b[0m \u001b[0mup_num\u001b[0m\u001b[0;34m,\u001b[0m \u001b[0mdown_num\u001b[0m\u001b[0;34m,\u001b[0m \u001b[0mcommon_num\u001b[0m\u001b[0;34m\u001b[0m\u001b[0m\n\u001b[1;32m      8\u001b[0m \u001b[0;34m\u001b[0m\u001b[0m\n",
      "\u001b[0;32m<ipython-input-17-68f188e6c6f3>\u001b[0m in \u001b[0;36mstat_line_num\u001b[0;34m(in_file)\u001b[0m\n\u001b[1;32m      9\u001b[0m \u001b[0;34m\u001b[0m\u001b[0m\n\u001b[1;32m     10\u001b[0m \u001b[0;32mdef\u001b[0m \u001b[0mstat_line_num\u001b[0m\u001b[0;34m(\u001b[0m\u001b[0min_file\u001b[0m\u001b[0;34m)\u001b[0m\u001b[0;34m:\u001b[0m\u001b[0;34m\u001b[0m\u001b[0m\n\u001b[0;32m---> 11\u001b[0;31m     \u001b[0;32mwith\u001b[0m \u001b[0mopen\u001b[0m\u001b[0;34m(\u001b[0m\u001b[0min_file\u001b[0m\u001b[0;34m,\u001b[0m \u001b[0;34m'r'\u001b[0m\u001b[0;34m)\u001b[0m \u001b[0;32mas\u001b[0m \u001b[0mf\u001b[0m\u001b[0;34m:\u001b[0m\u001b[0;34m\u001b[0m\u001b[0m\n\u001b[0m\u001b[1;32m     12\u001b[0m         \u001b[0;32mreturn\u001b[0m \u001b[0mstr\u001b[0m\u001b[0;34m(\u001b[0m\u001b[0mlen\u001b[0m\u001b[0;34m(\u001b[0m\u001b[0mf\u001b[0m\u001b[0;34m.\u001b[0m\u001b[0mreadlines\u001b[0m\u001b[0;34m(\u001b[0m\u001b[0;34m)\u001b[0m\u001b[0;34m)\u001b[0m\u001b[0;34m)\u001b[0m\u001b[0;34m\u001b[0m\u001b[0m\n",
      "\u001b[0;31mFileNotFoundError\u001b[0m: [Errno 2] No such file or directory: 'heart_vs_heart-gene_up-m6a_up.txt'"
     ]
    }
   ],
   "source": [
    "data_dir = \"/data5/galaxy/project/expre_vs_m6a/expre_vs_m6a_2\"\n",
    "os.chdir(data_dir)\n",
    "file_list = glob.glob(\"*.txt\")\n",
    "file_dict = {}\n",
    "for x in file_list:\n",
    "    tissue1, tissue2 = os.path.basename(x).split(\"_\")[0], os.path.basename(x).split(\"_\")[2].split(\"-\")[0]\n",
    "    print(tissue1, tissue2)\n",
    "    file_dict[tissue1] = file_dict.get(tissue1, []) + [tissue2]\n",
    "###    \n",
    "key_list, value_list = [], []\n",
    "for x, i_list in file_dict.items():\n",
    "    i_list = list(set(i_list))\n",
    "    key_list.append(x)\n",
    "    value_list.append(len(i_list))\n",
    "index_list = list(np.argsort(value_list))\n",
    "index_list.reverse()\n",
    "# print(index_list)\n",
    "ordered_list = [key_list[i] for i in index_list]\n",
    "###\n",
    "for gene_type in [\"gene_up\", \"gene_down\"]:\n",
    "    result_file = \"format_txt/data-%s.txt\" % gene_type\n",
    "    if os.path.exists(result_file):\n",
    "        os.remove(result_file)\n",
    "    with open(result_file, 'a+') as fw:\n",
    "#         for tissue1, tissue2_list in file_dict.items():\n",
    "        for tissue1 in ordered_list:\n",
    "            tissue2_list = file_dict[tissue1]\n",
    "            title_list, up_list, down_list, common_list = [tissue1], [], [], []\n",
    "            for tissue_2 in tissue2_list:\n",
    "                title_list.append(tissue_2)\n",
    "                up_num, down_num, common_num = process_data(tissue1, tissue2, gene_type)\n",
    "                up_list.append(up_num)\n",
    "                down_list.append(down_num)\n",
    "                common_list.append(common_num)\n",
    "            for i_list in [title_list, up_list, down_list, common_list]:\n",
    "                fw.write(\"%s\\n\" % \"\\t\".join(i_list))"
   ]
  },
  {
   "cell_type": "code",
   "execution_count": 17,
   "metadata": {},
   "outputs": [],
   "source": [
    "def process_data(t_1, t_2, gene_type):\n",
    "    prefix = \"%s_vs_%s-%s\" % (t_1, t_2, gene_type)\n",
    "    m6a_up = \"%s-m6a_up.txt\" % prefix\n",
    "    m6a_down = \"%s-m6a_down.txt\" % prefix\n",
    "    m6a_common = \"%s-m6a_common.txt\" % prefix\n",
    "    up_num, down_num, common_num = stat_line_num(m6a_up), stat_line_num(m6a_down), stat_line_num(m6a_common)\n",
    "    return up_num, down_num, common_num\n",
    "\n",
    "    \n",
    "def stat_line_num(in_file):\n",
    "    with open(in_file, 'r') as f:\n",
    "        return str(len(f.readlines()))"
   ]
  },
  {
   "cell_type": "code",
   "execution_count": 24,
   "metadata": {},
   "outputs": [
    {
     "ename": "TypeError",
     "evalue": "can only concatenate tuple (not \"int\") to tuple",
     "output_type": "error",
     "traceback": [
      "\u001b[0;31m---------------------------------------------------------------------------\u001b[0m",
      "\u001b[0;31mTypeError\u001b[0m                                 Traceback (most recent call last)",
      "\u001b[0;32m<ipython-input-24-864840202d1a>\u001b[0m in \u001b[0;36m<module>\u001b[0;34m()\u001b[0m\n\u001b[1;32m      1\u001b[0m \u001b[0ma\u001b[0m \u001b[0;34m=\u001b[0m \u001b[0;34m(\u001b[0m\u001b[0;36m1\u001b[0m\u001b[0;34m,\u001b[0m\u001b[0;36m2\u001b[0m\u001b[0;34m,\u001b[0m\u001b[0;36m3\u001b[0m\u001b[0;34m,\u001b[0m\u001b[0;36m3\u001b[0m\u001b[0;34m)\u001b[0m\u001b[0;34m\u001b[0m\u001b[0m\n\u001b[1;32m      2\u001b[0m \u001b[0mb\u001b[0m \u001b[0;34m=\u001b[0m \u001b[0;34m(\u001b[0m\u001b[0;36m5\u001b[0m\u001b[0;34m)\u001b[0m\u001b[0;34m\u001b[0m\u001b[0m\n\u001b[0;32m----> 3\u001b[0;31m \u001b[0ma\u001b[0m\u001b[0;34m+\u001b[0m\u001b[0mb\u001b[0m\u001b[0;34m\u001b[0m\u001b[0m\n\u001b[0m",
      "\u001b[0;31mTypeError\u001b[0m: can only concatenate tuple (not \"int\") to tuple"
     ]
    }
   ],
   "source": [
    "a = (1,2,3,3)\n",
    "b = (5)\n",
    "a"
   ]
  }
 ],
 "metadata": {
  "kernelspec": {
   "display_name": "Python 3",
   "language": "python",
   "name": "python3"
  },
  "language_info": {
   "codemirror_mode": {
    "name": "ipython",
    "version": 3
   },
   "file_extension": ".py",
   "mimetype": "text/x-python",
   "name": "python",
   "nbconvert_exporter": "python",
   "pygments_lexer": "ipython3",
   "version": "3.6.5"
  }
 },
 "nbformat": 4,
 "nbformat_minor": 2
}
