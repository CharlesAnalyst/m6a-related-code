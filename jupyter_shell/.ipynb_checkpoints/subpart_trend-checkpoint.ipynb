{
 "cells": [
  {
   "cell_type": "code",
   "execution_count": 1,
   "metadata": {},
   "outputs": [
    {
     "name": "stdout",
     "output_type": "stream",
     "text": [
      "/data5/galaxy/shell_dir/2018_3_17/jupyter_shell\r\n"
     ]
    }
   ],
   "source": [
    "!pwd"
   ]
  },
  {
   "cell_type": "code",
   "execution_count": 2,
   "metadata": {},
   "outputs": [],
   "source": [
    "import os\n",
    "import shutil\n",
    "import glob\n",
    "import pandas as pd\n",
    "import numpy as np\n",
    "from scipy import stats\n",
    "import matplotlib.pyplot as plt\n",
    "import seaborn as sns\n",
    "%matplotlib inline\n",
    "%config InlineBackend.figure_format = 'svg'\n",
    "from itertools import permutations\n",
    "from multiprocessing import Pool"
   ]
  },
  {
   "cell_type": "code",
   "execution_count": 14,
   "metadata": {},
   "outputs": [
    {
     "name": "stdout",
     "output_type": "stream",
     "text": [
      "heart_vs_brain\n",
      "heart\n",
      "DNA methyl up\n"
     ]
    },
    {
     "ename": "NameError",
     "evalue": "name 'df_total_exp' is not defined",
     "output_type": "error",
     "traceback": [
      "\u001b[0;31m---------------------------------------------------------------------------\u001b[0m",
      "\u001b[0;31mNameError\u001b[0m                                 Traceback (most recent call last)",
      "\u001b[0;32m<ipython-input-14-caa55b2004b3>\u001b[0m in \u001b[0;36m<module>\u001b[0;34m()\u001b[0m\n\u001b[1;32m     12\u001b[0m             \u001b[0mprint\u001b[0m\u001b[0;34m(\u001b[0m\u001b[0mterm\u001b[0m\u001b[0;34m)\u001b[0m\u001b[0;34m\u001b[0m\u001b[0m\n\u001b[1;32m     13\u001b[0m             \u001b[0mdf_m6a\u001b[0m \u001b[0;34m=\u001b[0m \u001b[0mget_m6a\u001b[0m\u001b[0;34m(\u001b[0m\u001b[0mtissue\u001b[0m\u001b[0;34m)\u001b[0m\u001b[0;34m\u001b[0m\u001b[0m\n\u001b[0;32m---> 14\u001b[0;31m             \u001b[0mdf_expre\u001b[0m \u001b[0;34m=\u001b[0m \u001b[0mdf_total_exp\u001b[0m\u001b[0;34m[\u001b[0m\u001b[0;34m[\u001b[0m\u001b[0;34m\"name\"\u001b[0m\u001b[0;34m,\u001b[0m \u001b[0mtissue\u001b[0m\u001b[0;34m]\u001b[0m\u001b[0;34m]\u001b[0m\u001b[0;34m\u001b[0m\u001b[0m\n\u001b[0m\u001b[1;32m     15\u001b[0m             \u001b[0;31m#\u001b[0m\u001b[0;34m\u001b[0m\u001b[0;34m\u001b[0m\u001b[0m\n\u001b[1;32m     16\u001b[0m             \u001b[0mprint\u001b[0m\u001b[0;34m(\u001b[0m\u001b[0;34m\"#### coorelation between expression && m6a!\"\u001b[0m\u001b[0;34m)\u001b[0m\u001b[0;34m\u001b[0m\u001b[0m\n",
      "\u001b[0;31mNameError\u001b[0m: name 'df_total_exp' is not defined"
     ]
    }
   ],
   "source": [
    "m6a_dir = \"/data5/galaxy/project/methyl_m6a/data/diff_m6a_peak/macs2_bdgdiff/combination/\"\n",
    "expre_dir = \"/data5/galaxy/project/expression/DESeq2/\"\n",
    "subdir_list = [\"heart_vs_brain\", \"kid_vs_brain\", \"lung_vs_brain\", \"heart_vs_kid\", \"lung_vs_heart\", \"lung_vs_kid\"]\n",
    "#\n",
    "df_total_exp = get_expre()\n",
    "#\n",
    "for sub_dir in subdir_list:\n",
    "    print(sub_dir)\n",
    "    df_methyl_up, df_methyl_down = class_methyl_run(sub_dir)\n",
    "    tissue_1, tissue_2 = sub_dir.split(\"_\")[0], sub_dir.split(\"_\")[-1]\n",
    "    term_dict = dict(zip([\"DNA methyl up\", \"DNA methyl down\"], [df_methyl_up, df_methyl_down]))\n",
    "    for tissue in [tissue_1, tissue_2]:\n",
    "        print(tissue)\n",
    "        for term, df_methyl in term_dict.items():\n",
    "            print(term)\n",
    "            df_m6a = get_m6a(tissue)\n",
    "            df_expre = df_total_exp[[\"name\", tissue]]\n",
    "            #\n",
    "            print(\"#### coorelation between expression && m6a!\")\n",
    "            df = df_m6a.merge(df_expre, on=\"name\", how=\"left\").merge(df_methyl, on=\"name\", how=\"left\").dropna()\n",
    "            print(stats.spearmanr(df[tissue], df[\"m6a_score\"]))\n",
    "            print(stats.pearsonr(df[tissue], df[\"m6a_score\"]))\n",
    "            #\n",
    "            print(\"#### coorelation between expression && methylation!\")\n",
    "            print(stats.spearmanr(df[tissue], df[\"methyl\"]))\n",
    "            print(stats.pearsonr(df[tissue], df[\"methyl\"]))\n",
    "            #\n",
    "            print(\"#### coorelation between methylation && m6a!\")\n",
    "            print(stats.spearmanr(df[\"methyl\"], df[\"m6a_score\"]))\n",
    "            print(stats.pearsonr(df[\"methyl\"], df[\"m6a_score\"]))\n",
    "    break"
   ]
  },
  {
   "cell_type": "code",
   "execution_count": 3,
   "metadata": {},
   "outputs": [],
   "source": [
    "def class_methyl_run(sub_dir):\n",
    "    df_methyl = foldchange_of_methylation(sub_dir)\n",
    "    df_up, df_down = class_methyl(df_methyl)\n",
    "    return df_up.drop_duplicates(), df_down.drop_duplicates()\n",
    "# 81--brain; 83--heart; 86--kid; 88--lung;\n",
    "# [\"heart_vs_brain\", \"kid_vs_brain\", \"lung_vs_brain\", \"heart_vs_kid\", \"lung_vs_heart\", \"lung_vs_kid\"]\n",
    "def foldchange_of_methylation(sub_dir):\n",
    "    os.chdir(\"/data5/galaxy/project/methyl_m6a/data/roimethstat/\")\n",
    "    map_dict = {\"brain\": \"E081\", \"heart\": \"E083\", \"kid\": \"E086\", \"lung\": \"E088\"}\n",
    "    tissue_1, tissue_2 = sub_dir.split(\"_\")[0], sub_dir.split(\"_\")[-1]\n",
    "    try:\n",
    "        num_1, num_2 = map_dict[tissue_1], map_dict[tissue_2]\n",
    "    except KeyError:\n",
    "        print(\"%s %s didn't have acoording DNA methylation data!\" % (tissue_1, tissue_2))\n",
    "    df_1 = pd.read_table(\"promoter_%s.bed\" % num_1, header=None, names=[\"chr\", \"s\", \"e\", \"n\", tissue_1, \"strand\"])\n",
    "    df_1[\"name\"] = df_1[\"n\"].str.split(\":\").str[0]\n",
    "    df_2 = pd.read_table(\"promoter_%s.bed\" % num_2, header=None, names=[\"chr\", \"s\", \"e\", \"n\", tissue_2, \"strand\"])\n",
    "    df_2[\"name\"] = df_2[\"n\"].str.split(\":\").str[0]\n",
    "    df_methyl = df_1.merge(df_2, on=\"name\").dropna()\n",
    "    df_methyl[\"logFC\"] = np.log2(df_methyl[tissue_1].astype(float) + 0.01) - np.log2(df_methyl[tissue_2].astype(float) + 0.01)\n",
    "    df_methyl = df_methyl[[\"name\", \"logFC\"]]\n",
    "#     print(df_1[tissue_1].mean(), df_2[tissue_2].mean())\n",
    "    return df_methyl\n",
    "\n",
    "def class_methyl(df):\n",
    "    df_up = df[(df[\"logFC\"] > 0) & (abs(df[\"logFC\"]) > 0.585)]\n",
    "    df_down = df[(df[\"logFC\"] < 0) & (abs(df[\"logFC\"]) > 0.585)]\n",
    "    return df_up, df_down"
   ]
  },
  {
   "cell_type": "code",
   "execution_count": 13,
   "metadata": {},
   "outputs": [],
   "source": [
    "def get_m6a(tissue_name):\n",
    "    m6a_dir = \"/data5/xlj/new_tissue_m6A/Macs2/Filter/Merge-Dup/peak2gene/gene_m6A_level\"\n",
    "    os.chdir(m6a_dir)\n",
    "    tissue_list = [\"brain\", \"heart\", \"kid\", \"lung\"]\n",
    "    real_list = [\"Brain\", \"Heart\", \"Kidney\", \"Lung\"]\n",
    "    map_dict = dict(zip(tissue_list, real_list))\n",
    "    try:\n",
    "        m6a_file = map_dict[tissue_name]\n",
    "    except KeyError:\n",
    "        print(\"%s doesn't have the according\" % m6a_dir)\n",
    "    df = pd.read_table(m6a_file, sep=\"\\t\", header=None, names=[\"name\", \"m6a_score\"])\n",
    "    df[\"name\"] = df[\"name\"].str.split(\".\").str[0]\n",
    "    return df"
   ]
  },
  {
   "cell_type": "code",
   "execution_count": 11,
   "metadata": {},
   "outputs": [],
   "source": [
    "def get_expre():\n",
    "    df = pd.read_table(expre_file, sep=\"\\t\")\n",
    "    df.columns = [\"gene\", \"brain\", \"heart\", \"kid\", \"liver\", \"pla\", \"lung\", \"mus\", \"sto\"]\n",
    "    df[\"name\"] = df[\"gene\"].str.split(\".\").str[0]\n",
    "    return df"
   ]
  }
 ],
 "metadata": {
  "kernelspec": {
   "display_name": "Python 3",
   "language": "python",
   "name": "python3"
  },
  "language_info": {
   "codemirror_mode": {
    "name": "ipython",
    "version": 3
   },
   "file_extension": ".py",
   "mimetype": "text/x-python",
   "name": "python",
   "nbconvert_exporter": "python",
   "pygments_lexer": "ipython3",
   "version": "3.6.5"
  }
 },
 "nbformat": 4,
 "nbformat_minor": 2
}
