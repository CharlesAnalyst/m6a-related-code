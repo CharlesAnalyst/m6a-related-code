{
 "cells": [
  {
   "cell_type": "code",
   "execution_count": 74,
   "metadata": {},
   "outputs": [],
   "source": [
    "import os\n",
    "import re\n",
    "import glob\n",
    "import math\n",
    "import pandas as pd\n",
    "import numpy as np\n",
    "import matplotlib.pyplot as plt\n",
    "import seaborn as sns\n",
    "from scipy import stats\n",
    "import subprocess\n",
    "%matplotlib inline\n",
    "%config InlineBackend.figure_format = 'svg'"
   ]
  },
  {
   "cell_type": "code",
   "execution_count": 84,
   "metadata": {},
   "outputs": [],
   "source": [
    "tf_dir = \"/data5/galaxy/project/what/TF_narrowPeak/total_TF_narrowPeak/03_hg19_to_GRCh38\"\n",
    "cebpz = \"%s/CEBPZ.bed\" % tf_dir\n",
    "smad2 = \"%s/SMAD2.bed\" % tf_dir\n",
    "stat3 = \"%s/STAT3.bed\" % tf_dir\n",
    "reference_genome = \"/data/database/GRCh38/GENCODE/GRCh38.primary_assembly.genome.fa\"\n",
    "high_bed = \"/data5/galaxy/project/CpG_m6a_motif/fasta_seq/high_CpG.bed\"\n",
    "low_bed = \"/data5/galaxy/project/CpG_m6a_motif/fasta_seq/low_CpG.bed\"\n",
    "tf_list = [cebpz, smad2]\n",
    "result_file = \"/data5/galaxy/project/tf_analysis/tf_and_PromoterCpG/result.bed\""
   ]
  },
  {
   "cell_type": "code",
   "execution_count": 89,
   "metadata": {},
   "outputs": [
    {
     "data": {
      "text/plain": [
       "0"
      ]
     },
     "execution_count": 89,
     "metadata": {},
     "output_type": "execute_result"
    },
    {
     "name": "stdout",
     "output_type": "stream",
     "text": [
      "CEBPZ.bed\n",
      "positive number: 20098\t\tnegative number: 3640\n",
      ">0.35 fraction: 0.652204\n",
      "SMAD2.bed\n",
      "positive number: 16745\t\tnegative number: 6993\n",
      ">0.35 fraction: 0.697104\n"
     ]
    }
   ],
   "source": [
    "CpG_bed = \"/data5/galaxy/shell_dir/2018_3_17/jupyter_shell/total_CpG.bed\"\n",
    "os.system(\"cat %s %s | sort -k1,1 -k2,2n | uniq > %s\" % (high_bed, low_bed, CpG_bed))\n",
    "df_list = []\n",
    "for tf in tf_list:\n",
    "    df = process_sinal_tf(tf)\n",
    "    df_list.append(df)\n",
    "df_result = pd.concat(df_list)\n",
    "df_result.to_csv(result_file, sep=\"\\t\", header=False, index=False)\n",
    "# os.remove(CpG_bed)"
   ]
  },
  {
   "cell_type": "code",
   "execution_count": 85,
   "metadata": {},
   "outputs": [],
   "source": [
    "def process_sinal_tf(tf):\n",
    "    print(os.path.basename(tf))\n",
    "    p_title_list, p_score_list = enrich_CpG_in_promoter(tf, \"positive\")\n",
    "    n_title_list, n_score_list = enrich_CpG_in_promoter(tf, \"negative\")\n",
    "    df = format_dataframe(tf, p_score_list, n_score_list)\n",
    "    print(\"positive number: %d\\t\\tnegative number: %d\" % (len(p_score_list), len(n_score_list)))\n",
    "    sig_list = [x for x in p_score_list if x > 0.35]\n",
    "    print(\">0.35 fraction: %f\" % (len(sig_list) / len(p_score_list)))\n",
    "#     print(np.median(p_score_list), np.median(n_score_list))\n",
    "    return df"
   ]
  },
  {
   "cell_type": "code",
   "execution_count": 81,
   "metadata": {},
   "outputs": [],
   "source": [
    "def format_dataframe(tf, p_score_list, n_score_list):\n",
    "    tf_name = os.path.basename(tf).split(\".\")[0]\n",
    "    n_list = [tf_name for x in p_score_list]\n",
    "    p_list = [\"positive\" for x in p_score_list]\n",
    "    df_p = pd.DataFrame({\"tf\": n_list, \"type\": p_list, \"value\": p_score_list})\n",
    "    #\n",
    "    x_list = [tf_name for x in n_score_list]\n",
    "    neg_list = [\"negative\" for x in n_score_list]\n",
    "    df_n = pd.DataFrame({\"tf\": x_list, \"type\": neg_list, \"value\": n_score_list})\n",
    "    df = pd.concat([df_p, df_n])\n",
    "    return df"
   ]
  },
  {
   "cell_type": "code",
   "execution_count": 86,
   "metadata": {},
   "outputs": [],
   "source": [
    "def enrich_CpG_in_promoter(tf, data_type):\n",
    "    in_bed = get_intersect_bed(tf, data_type)\n",
    "    str_seq_list, title_list, score_list = str(get_sequence_from_bed(in_bed)).split(\"\\n\"), [], []\n",
    "#     print(len(str_seq_list))\n",
    "    for i in range(0, len(str_seq_list)-1, 2):\n",
    "        title, seq = str_seq_list[i], str_seq_list[i+1]\n",
    "        title_list.append(title)\n",
    "        score_list.append(calculate_CpG_density(seq))\n",
    "#     print(score_list[0])\n",
    "    return title_list, score_list"
   ]
  },
  {
   "cell_type": "code",
   "execution_count": 88,
   "metadata": {},
   "outputs": [],
   "source": [
    "def get_intersect_bed(tf, data_type):\n",
    "#     print(CpG_bed)\n",
    "    if data_type == \"positive\":\n",
    "        command = \"bedtools intersect -a %s -b %s -wa -F 0.5 | sort | uniq\" % (CpG_bed, tf)\n",
    "    elif data_type == \"negative\":\n",
    "        command = \"bedtools intersect -a %s -b %s -wa -v -F 0.5 | sort | uniq\" % (CpG_bed, tf)\n",
    "    sub_p = subprocess.Popen(command, shell=True, stdout=subprocess.PIPE)\n",
    "    bed_str = str(sub_p.communicate()[0].decode(\"utf-8\").strip())\n",
    "    final_str = \"\\n\".join([\"\\t\".join(x.split()) for x in bed_str.split(\"\\n\")])\n",
    "#     print(final_str)\n",
    "    return final_str\n",
    "\n",
    "def get_sequence_from_bed(in_bed):\n",
    "    command = \"bedtools getfasta -fi %s -bed stdin\" % (reference_genome)\n",
    "    sub_p = subprocess.Popen(command, shell=True, stdin=subprocess.PIPE, stdout=subprocess.PIPE)\n",
    "    str_sequence = sub_p.communicate(in_bed.encode(\"utf-8\"))[0].decode(\"utf-8\")\n",
    "#     print(str_sequence.split(\"\\n\")[0])\n",
    "#     print(str_sequence)\n",
    "    return str_sequence\n",
    "\n",
    "def calculate_CpG_density(sequence):\n",
    "    seq = sequence.lower()\n",
    "    cg_num, c_num, g_num = len(re.findall(\"cg\", seq)), len(re.findall(\"c\", seq)), len(re.findall(\"g\", seq))\n",
    "    score = cg_num / (math.pow((c_num + g_num) / 2.0, 2) / (len(seq) * 1.0))\n",
    "    return score"
   ]
  }
 ],
 "metadata": {
  "kernelspec": {
   "display_name": "Python 3",
   "language": "python",
   "name": "python3"
  },
  "language_info": {
   "codemirror_mode": {
    "name": "ipython",
    "version": 3
   },
   "file_extension": ".py",
   "mimetype": "text/x-python",
   "name": "python",
   "nbconvert_exporter": "python",
   "pygments_lexer": "ipython3",
   "version": "3.6.5"
  }
 },
 "nbformat": 4,
 "nbformat_minor": 2
}
