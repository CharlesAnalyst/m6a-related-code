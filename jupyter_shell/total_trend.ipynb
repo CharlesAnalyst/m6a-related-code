{
 "cells": [
  {
   "cell_type": "code",
   "execution_count": 1,
   "metadata": {},
   "outputs": [
    {
     "name": "stdout",
     "output_type": "stream",
     "text": [
      "/data5/galaxy/shell_dir/2018_3_17/jupyter_shell\r\n"
     ]
    }
   ],
   "source": [
    "!pwd"
   ]
  },
  {
   "cell_type": "code",
   "execution_count": 1,
   "metadata": {},
   "outputs": [],
   "source": [
    "import os\n",
    "import shutil\n",
    "import glob\n",
    "import pandas as pd\n",
    "import numpy as np\n",
    "from scipy import stats\n",
    "import matplotlib.pyplot as plt\n",
    "import seaborn as sns\n",
    "%matplotlib inline\n",
    "%config InlineBackend.figure_format = 'svg'\n",
    "from itertools import permutations\n",
    "from multiprocessing import Pool"
   ]
  },
  {
   "cell_type": "code",
   "execution_count": 6,
   "metadata": {},
   "outputs": [
    {
     "name": "stdout",
     "output_type": "stream",
     "text": [
      "##################################################\n",
      "brain\n",
      "#### coorelation between expression && m6a!\n",
      "SpearmanrResult(correlation=-0.2278449261923644, pvalue=4.573013679409501e-199)\n",
      "(-0.07612578513990023, 2.808425194029496e-23)\n",
      "#### coorelation between expression && methylation!\n",
      "SpearmanrResult(correlation=-0.06678740372922698, pvalue=3.106630681142805e-11)\n",
      "(-0.016034691021318603, 0.11119779972872013)\n",
      "#### coorelation between methylation && m6a!\n",
      "SpearmanrResult(correlation=0.03438434878907758, pvalue=0.0006345115152405328)\n",
      "(0.007331855364669609, 0.46643922372682123)\n",
      "##################################################\n",
      "heart\n",
      "#### coorelation between expression && m6a!\n",
      "SpearmanrResult(correlation=-0.2249027381571596, pvalue=1.02332899971635e-179)\n",
      "(-0.03931258605893888, 8.038807159131456e-07)\n",
      "#### coorelation between expression && methylation!\n",
      "SpearmanrResult(correlation=-0.046117755035064045, pvalue=5.148588492432149e-06)\n",
      "(-0.012016413052406217, 0.23514586036349489)\n",
      "#### coorelation between methylation && m6a!\n",
      "SpearmanrResult(correlation=0.07443023543645974, pvalue=1.790584039984903e-13)\n",
      "(0.02221134291744971, 0.028189019923861143)\n",
      "##################################################\n",
      "kid\n",
      "#### coorelation between expression && m6a!\n",
      "SpearmanrResult(correlation=-0.2548717810973115, pvalue=2.0159091753688507e-289)\n",
      "(-0.07239257104408837, 2.7242740644373487e-24)\n",
      "#### coorelation between expression && methylation!\n",
      "SpearmanrResult(correlation=-0.0810457339529127, pvalue=1.2117696529135839e-17)\n",
      "(-0.01754559024515121, 0.06453340718932557)\n",
      "#### coorelation between methylation && m6a!\n",
      "SpearmanrResult(correlation=0.03803051530544371, pvalue=6.129686374613502e-05)\n",
      "(0.01245939295223066, 0.18932396900615556)\n",
      "##################################################\n",
      "lung\n",
      "#### coorelation between expression && m6a!\n",
      "SpearmanrResult(correlation=-0.3288014854351937, pvalue=0.0)\n",
      "(-0.04121082630498763, 4.2574191065894107e-07)\n",
      "#### coorelation between expression && methylation!\n",
      "SpearmanrResult(correlation=-0.07203645240712761, pvalue=3.3959428170060003e-12)\n",
      "(-0.0014094912202866393, 0.8918129858360665)\n",
      "#### coorelation between methylation && m6a!\n",
      "SpearmanrResult(correlation=0.06490591958376335, pvalue=3.615574095063368e-10)\n",
      "(0.015975379501216802, 0.12315613670664684)\n"
     ]
    }
   ],
   "source": [
    "expre_file = \"/data5/galaxy/project/expression/stringtie/Total-RPKM.txt\"\n",
    "tissue_list = [\"brain\", \"heart\", \"kid\", \"lung\"]\n",
    "df_total_exp = get_expre()\n",
    "for tissue in tissue_list:\n",
    "    print(\"##################################################\")\n",
    "    print(tissue)\n",
    "    df_m6a = get_m6a(tissue)\n",
    "    df_expre = df_total_exp[[\"name\", tissue]]\n",
    "    #\n",
    "    print(\"#### coorelation between expression && m6a!\")\n",
    "    df_merge = df_m6a.merge(df_expre, on=\"name\", how=\"left\").dropna()\n",
    "    print(stats.spearmanr(df_merge[tissue], df_merge[\"m6a_score\"]))\n",
    "    print(stats.pearsonr(df_merge[tissue], df_merge[\"m6a_score\"]))\n",
    "    #\n",
    "    print(\"#### coorelation between expression && methylation!\")\n",
    "    df_methyl = get_methylation(tissue)\n",
    "    class_methyl_run(sub_dir)\n",
    "    df = df_merge.merge(df_methyl, on=\"name\", how=\"left\").dropna()\n",
    "    print(stats.spearmanr(df[tissue], df[\"methyl\"]))\n",
    "    print(stats.pearsonr(df[tissue], df[\"methyl\"]))\n",
    "    #\n",
    "    print(\"#### coorelation between methylation && m6a!\")\n",
    "    print(stats.spearmanr(df[\"methyl\"], df[\"m6a_score\"]))\n",
    "    print(stats.pearsonr(df[\"methyl\"], df[\"m6a_score\"]))"
   ]
  },
  {
   "cell_type": "code",
   "execution_count": 2,
   "metadata": {},
   "outputs": [],
   "source": [
    "def class_m6a_by_diffPeak(work_dir):\n",
    "    os.chdir(work_dir)\n",
    "    m6a_up = pd.read_table(\"diff_peak_c3.0_cond1_anno.txt\", sep=\"\\t\", header=None, names=[\"name\", \"m6a_score\"])\n",
    "    m6a_common = pd.read_table(\"diff_peak_c3.0_common_anno.txt\", sep=\"\\t\", header=None, names=[\"name\", \"m6a_score\"])\n",
    "    m6a_down = pd.read_table(\"diff_peak_c3.0_cond2_anno.txt\", sep=\"\\t\", header=None, names=[\"name\", \"m6a_score\"])\n",
    "    # m6a score 计算方式\n",
    "    df_m6a_up = m6a_up.groupby([\"name\"]).mean().reset_index()\n",
    "    df_m6a_common = m6a_common.groupby([\"name\"]).mean().reset_index()\n",
    "    df_m6a_down = m6a_down.groupby([\"name\"]).mean().reset_index()\n",
    "    df_m6a_up, df_m6a_down, df_m6a_common = filter_intersect(df_m6a_up, df_m6a_down, df_m6a_common)\n",
    "    df_m6a = pd.concat([df_m6a_up, df_m6a_common, df_m6a_down]).dropna().drop_duplicates()\n",
    "    return df_m6a, df_m6a_up, df_m6a_common, df_m6a_down"
   ]
  },
  {
   "cell_type": "code",
   "execution_count": 3,
   "metadata": {},
   "outputs": [],
   "source": [
    "def get_expre():\n",
    "    df = pd.read_table(expre_file, sep=\"\\t\")\n",
    "    df.columns = [\"gene\", \"brain\", \"heart\", \"kid\", \"liver\", \"pla\", \"lung\", \"mus\", \"sto\"]\n",
    "    df[\"name\"] = df[\"gene\"].str.split(\".\").str[0]\n",
    "    return df"
   ]
  },
  {
   "cell_type": "code",
   "execution_count": 10,
   "metadata": {},
   "outputs": [],
   "source": [
    "def foldchange_of_methylation(sub_dir):\n",
    "    os.chdir(\"/data5/galaxy/project/methyl_m6a/data/roimethstat/\")\n",
    "    map_dict = {\"brain\": \"E081\", \"heart\": \"E083\", \"kid\": \"E086\", \"lung\": \"E088\"}\n",
    "    tissue_1, tissue_2 = sub_dir.split(\"_\")[0], sub_dir.split(\"_\")[-1]\n",
    "    try:\n",
    "        num_1, num_2 = map_dict[tissue_1], map_dict[tissue_2]\n",
    "    except KeyError:\n",
    "        print(\"%s %s didn't have acoording DNA methylation data!\" % (tissue_1, tissue_2))\n",
    "    df_1 = pd.read_table(\"promoter_filtered_%s.bed\" % num_1, header=None, names=[\"chr\", \"s\", \"e\", \"n\", tissue_1, \"strand\"])\n",
    "    # filtered_\n",
    "    df_1[\"name\"] = df_1[\"n\"].str.split(\":\").str[0]\n",
    "    df_2 = pd.read_table(\"promoter_filtered_%s.bed\" % num_2, header=None, names=[\"chr\", \"s\", \"e\", \"n\", tissue_2, \"strand\"])\n",
    "    df_2[\"name\"] = df_2[\"n\"].str.split(\":\").str[0]\n",
    "    df_methyl = df_1.merge(df_2, on=\"name\").dropna()\n",
    "    df_methyl[\"logFC\"] = np.log2(df_methyl[tissue_1].astype(float) + 0.0001) - np.log2(df_methyl[tissue_2].astype(float) + 0.0001)\n",
    "    df_methyl = df_methyl[[\"name\", \"logFC\"]].sort_values([\"logFC\"], ascending=False)\n",
    "#     print(df_methyl.head())\n",
    "#     print(df_1[tissue_1].median(), df_2[tissue_2].median())\n",
    "#     df_methyl_up = df_methyl[df_methyl[\"logFC\"] > 1]\n",
    "# #     df_methyl_common = df_methyl[ -1 < df_methyl[\"logFC\"] < 1]\n",
    "#     df_methyl_down = df_methyl[df_methyl[\"logFC\"] < -1]\n",
    "    return df_methyl"
   ]
  },
  {
   "cell_type": "code",
   "execution_count": 8,
   "metadata": {},
   "outputs": [],
   "source": []
  }
 ],
 "metadata": {
  "kernelspec": {
   "display_name": "Python 3",
   "language": "python",
   "name": "python3"
  },
  "language_info": {
   "codemirror_mode": {
    "name": "ipython",
    "version": 3
   },
   "file_extension": ".py",
   "mimetype": "text/x-python",
   "name": "python",
   "nbconvert_exporter": "python",
   "pygments_lexer": "ipython3",
   "version": "3.6.5"
  }
 },
 "nbformat": 4,
 "nbformat_minor": 2
}
