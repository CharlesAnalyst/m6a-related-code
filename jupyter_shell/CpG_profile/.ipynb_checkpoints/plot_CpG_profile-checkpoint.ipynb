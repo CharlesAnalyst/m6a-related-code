{
 "cells": [
  {
   "cell_type": "code",
   "execution_count": 20,
   "metadata": {},
   "outputs": [],
   "source": [
    "import os\n",
    "import sys\n",
    "import shutil\n",
    "import glob\n",
    "import pandas as pd\n",
    "import numpy as np\n",
    "from scipy import stats\n",
    "import subprocess\n",
    "import matplotlib.mlab as mlab\n",
    "import matplotlib.pyplot as plt\n",
    "import seaborn as sns\n",
    "import collections\n",
    "%matplotlib inline\n",
    "%config InlineBackend.figure_format = 'svg'\n",
    "from itertools import permutations\n",
    "from multiprocessing import Pool"
   ]
  },
  {
   "cell_type": "code",
   "execution_count": null,
   "metadata": {},
   "outputs": [],
   "source": [
    "os.chdir(\"/data5/galaxy/project/plot_figure/CpG_OE_ratio/plot_profile\")\n",
    "reference_genome = \"/data/database/GRCh38/GENCODE/GRCh38.primary_assembly.genome.fa\"\n",
    "promoter_bed = \"/data5/galaxy/project/data/promoter/human/3k_3k/gene_promoter.bed\"\n",
    "df_pro = read_bed(promoter_bed)\n",
    "#\n",
    "total_gene_dir = \"/data5/galaxy/project/promoter_TF_enrich/data/total_gene/gene_bed\"\n",
    "total_gene_list = glob.glob(\"%s/*.bed\" % total_gene_dir)\n",
    "m6a_gene_dir = \"/data5/galaxy/project/promoter_TF_enrich/data/m6a_gene/gene_bed\"\n",
    "#\n",
    "BIN_NUMBER = 60\n",
    "#\n",
    "for gene_bed in total_gene_list:\n",
    "    tissue = os.path.basename(gene_bed).split(\".bed\")[0]\n",
    "    print(tissue)\n",
    "    df_m6a, df_unm6a = class_gene_then_promoter(gene_bed, df_pro)\n",
    "    fa_m6a, fa_unm6a = get_fasta(df_m6a), get_fasta(df_unm6a)\n",
    "    num_m6a, num_unm6a = stat_cg_number(fa_m6a), stat_cg_number(fa_unm6a)\n",
    "    plot_histogram(num_m6a)\n",
    "    plot_histogram(num_unm6a)"
   ]
  },
  {
   "cell_type": "code",
   "execution_count": 10,
   "metadata": {},
   "outputs": [],
   "source": [
    "def class_gene_then_promoter(gene_bed, df_promoter):\n",
    "    tissue = os.path.basename(gene_bed)\n",
    "    m6a_bed = os.path.join(m6a_gene_dir, tissue)\n",
    "    df_gene, df_m6a = read_bed(gene_bed), read_bed(m6a_bed)\n",
    "    unm6a_names = list(set([x for x in df_gene[\"name\"].tolist() if x not in df_m6a[\"name\"].tolist()]))\n",
    "    df_unm6a = df_gene[df_gene[\"name\"].isin(unm6a_names)].dropna()\n",
    "    df_m6a_pro = df_promoter[df_promoter[\"name\"].isin(df_m6a[\"name\"].tolist())]\n",
    "    df_unm6a_pro = df_promoter[df_promoter[\"name\"].isin(df_unm6a[\"name\"].tolist())]\n",
    "    return df_m6a_pro, df_unm6a_pro"
   ]
  },
  {
   "cell_type": "code",
   "execution_count": 31,
   "metadata": {},
   "outputs": [],
   "source": [
    "def get_fasta(df):\n",
    "    df_str = \"\\n\".join([\"\\t\".join(line.split()) for line in df.to_string(header=False, index=False).split(\"\\n\")])\n",
    "    command = \"bedtools getfasta -fi %s -bed stdin\" % reference_genome\n",
    "    sub_p = subprocess.Popen(command, shell=True, stdin=subprocess.PIPE, stdout=subprocess.PIPE)\n",
    "    return_list = sub_p.communicate(df_str.encode(\"utf-8\"))[0].decode(\"utf-8\").split(\"\\n\")\n",
    "    seq_list = [x for x in return_list if not x.startswith(\">\")]\n",
    "    print(len(seq_list))\n",
    "    return seq_list"
   ]
  },
  {
   "cell_type": "code",
   "execution_count": null,
   "metadata": {},
   "outputs": [],
   "source": [
    "def stat_cg_number(seq_list):\n",
    "    seq_one, pos_array = seq_list[0], []\n",
    "    for seq in seq_list:\n",
    "        pos_list = [i for i in range(0, len(seq)-1, 1) if seq[i:i+2] == \"cg\"]\n",
    "        pos_array.append(pos_list)\n",
    "    col_dict = collections.OrderedDict()\n",
    "    n = len(seq_one) / BIN_NUMBER\n",
    "    for i in np.arange(0, len(seq_one), n):\n",
    "        left_border, right_border = i, i + n\n",
    "        col_dict[i] = []\n",
    "        for pos_list in pos_array:\n",
    "            bin_list = []\n",
    "            for j in pos_list:\n",
    "                if left_border <= j < right_border:\n",
    "                    bin_list.append(j)\n",
    "            col_dict[i].append(len(bin_list))\n",
    "    sum_list = []\n",
    "    for i_key, num_list in col_dict.items():\n",
    "        sum_list.append(sum(num_list))\n",
    "    print(sum_list)\n",
    "    return sum_list"
   ]
  },
  {
   "cell_type": "code",
   "execution_count": 3,
   "metadata": {},
   "outputs": [],
   "source": [
    "def read_bed(in_bed):\n",
    "    df = pd.read_table(in_bed, sep=\"\\s+\", header=None, names=[\"chr\", \"start\", \"end\", \"name\", \"s\", \"strand\"])\n",
    "#     print(df.head())\n",
    "    df[\"name\"] = df[\"name\"].str.split(\".\").str[0]\n",
    "    return df"
   ]
  },
  {
   "cell_type": "code",
   "execution_count": 14,
   "metadata": {},
   "outputs": [],
   "source": [
    "def plot_histogram(data_list):\n",
    "    mean, std = np.mean(data_list), np.std(data_list)\n",
    "    n, bins, patches = plt.hist(data_list, BIN_NUMBER, normed=1, facecolor=\"blue\", alpha=0.5)\n",
    "    y = mlab.normpdf(bins, mean, std)\n",
    "    plt.plot(bins, y, \"r--\")\n",
    "    plt.xlabel(\"Disstance from TSS\")\n",
    "    plt.ylabel(\"CG number\")\n",
    "    plt.title(r\"Histogram of IQ: $mean=%s$, $std=%s$\" % (str(mean), str(std)))\n",
    "    plt.subplots_adjust(left=0.15)\n",
    "    plt.show()"
   ]
  }
 ],
 "metadata": {
  "kernelspec": {
   "display_name": "Python 3",
   "language": "python",
   "name": "python3"
  },
  "language_info": {
   "codemirror_mode": {
    "name": "ipython",
    "version": 3
   },
   "file_extension": ".py",
   "mimetype": "text/x-python",
   "name": "python",
   "nbconvert_exporter": "python",
   "pygments_lexer": "ipython3",
   "version": "3.6.5"
  }
 },
 "nbformat": 4,
 "nbformat_minor": 2
}
